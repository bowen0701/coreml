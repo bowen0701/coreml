{
  "nbformat": 4,
  "nbformat_minor": 0,
  "metadata": {
    "kernelspec": {
      "display_name": "Python 3",
      "language": "python",
      "name": "python3"
    },
    "language_info": {
      "codemirror_mode": {
        "name": "ipython",
        "version": 3
      },
      "file_extension": ".py",
      "mimetype": "text/x-python",
      "name": "python",
      "nbconvert_exporter": "python",
      "pygments_lexer": "ipython3",
      "version": "3.6.9"
    },
    "colab": {
      "name": "linear_regression_pytorch.ipynb",
      "provenance": [],
      "collapsed_sections": [],
      "toc_visible": true
    }
  },
  "cells": [
    {
      "cell_type": "markdown",
      "metadata": {
        "id": "UQ2Of5KJNzen"
      },
      "source": [
        "# Linear Regression with Implementation"
      ]
    },
    {
      "cell_type": "markdown",
      "metadata": {
        "id": "skBWJ65qNzet"
      },
      "source": [
        "## Introduction"
      ]
    },
    {
      "cell_type": "markdown",
      "metadata": {
        "id": "ubDseUAjNzeu"
      },
      "source": [
        "## Linear Regression Model\n",
        "\n",
        "[To be continued.]"
      ]
    },
    {
      "cell_type": "code",
      "metadata": {
        "id": "X1P8QbRYNzeu"
      },
      "source": [
        "from __future__ import absolute_import\n",
        "from __future__ import division\n",
        "from __future__ import print_function\n",
        "\n",
        "import random\n",
        "import numpy as np\n",
        "\n",
        "import torch\n",
        "import torch.nn as nn\n",
        "import torch.nn.functional as F\n",
        "import torch.optim as optim\n",
        "\n",
        "import sys\n",
        "sys.path.append('../numpy/')\n",
        "\n",
        "from metrics import mean_squared_error\n",
        "\n",
        "np.random.seed(71)"
      ],
      "execution_count": 1,
      "outputs": []
    },
    {
      "cell_type": "code",
      "metadata": {
        "id": "GWnbJAEONzev"
      },
      "source": [
        "%load_ext autoreload\n",
        "%autoreload 2"
      ],
      "execution_count": 2,
      "outputs": []
    },
    {
      "cell_type": "markdown",
      "metadata": {
        "id": "C0B9z_gHNzev"
      },
      "source": [
        "## California Housing Dataset and Preprocessing"
      ]
    },
    {
      "cell_type": "code",
      "metadata": {
        "id": "KP-II9JuNzev"
      },
      "source": [
        "import sklearn\n",
        "from sklearn.datasets import fetch_california_housing\n",
        "from sklearn.model_selection import train_test_split\n",
        "from sklearn.preprocessing import MinMaxScaler"
      ],
      "execution_count": 3,
      "outputs": []
    },
    {
      "cell_type": "code",
      "metadata": {
        "id": "MrpGwcWHNzew"
      },
      "source": [
        "# Read California housing data.\n",
        "housing = fetch_california_housing()\n",
        "X = housing.data\n",
        "y = housing.target"
      ],
      "execution_count": 4,
      "outputs": []
    },
    {
      "cell_type": "code",
      "metadata": {
        "colab": {
          "base_uri": "https://localhost:8080/"
        },
        "id": "GB5CSvKSNzew",
        "outputId": "1cd1b06c-66b5-431f-f364-2a4b1cce5e6f"
      },
      "source": [
        "X.shape, y.shape"
      ],
      "execution_count": 5,
      "outputs": [
        {
          "output_type": "execute_result",
          "data": {
            "text/plain": [
              "((20640, 8), (20640,))"
            ]
          },
          "metadata": {
            "tags": []
          },
          "execution_count": 5
        }
      ]
    },
    {
      "cell_type": "code",
      "metadata": {
        "colab": {
          "base_uri": "https://localhost:8080/"
        },
        "id": "XY81UFCgNzex",
        "outputId": "7ff17a9d-5612-4768-bd5c-c40b62b5265f"
      },
      "source": [
        "print(housing.feature_names)\n",
        "X[:3]"
      ],
      "execution_count": 6,
      "outputs": [
        {
          "output_type": "stream",
          "text": [
            "['MedInc', 'HouseAge', 'AveRooms', 'AveBedrms', 'Population', 'AveOccup', 'Latitude', 'Longitude']\n"
          ],
          "name": "stdout"
        },
        {
          "output_type": "execute_result",
          "data": {
            "text/plain": [
              "array([[ 8.32520000e+00,  4.10000000e+01,  6.98412698e+00,\n",
              "         1.02380952e+00,  3.22000000e+02,  2.55555556e+00,\n",
              "         3.78800000e+01, -1.22230000e+02],\n",
              "       [ 8.30140000e+00,  2.10000000e+01,  6.23813708e+00,\n",
              "         9.71880492e-01,  2.40100000e+03,  2.10984183e+00,\n",
              "         3.78600000e+01, -1.22220000e+02],\n",
              "       [ 7.25740000e+00,  5.20000000e+01,  8.28813559e+00,\n",
              "         1.07344633e+00,  4.96000000e+02,  2.80225989e+00,\n",
              "         3.78500000e+01, -1.22240000e+02]])"
            ]
          },
          "metadata": {
            "tags": []
          },
          "execution_count": 6
        }
      ]
    },
    {
      "cell_type": "code",
      "metadata": {
        "colab": {
          "base_uri": "https://localhost:8080/"
        },
        "id": "ff36u0-MNzex",
        "outputId": "0c6b7d40-a707-41d6-8b47-b7444cc9cd1a"
      },
      "source": [
        "y[:3]"
      ],
      "execution_count": 7,
      "outputs": [
        {
          "output_type": "execute_result",
          "data": {
            "text/plain": [
              "array([4.526, 3.585, 3.521])"
            ]
          },
          "metadata": {
            "tags": []
          },
          "execution_count": 7
        }
      ]
    },
    {
      "cell_type": "code",
      "metadata": {
        "id": "NN2d0yupNzey"
      },
      "source": [
        "# Split data into training and test datasets.\n",
        "X_train_raw, X_test_raw, y_train, y_test = train_test_split(\n",
        "    X, y, test_size=0.25, random_state=71, shuffle=True)"
      ],
      "execution_count": 8,
      "outputs": []
    },
    {
      "cell_type": "code",
      "metadata": {
        "colab": {
          "base_uri": "https://localhost:8080/"
        },
        "id": "3l89dGubNzey",
        "outputId": "9f0219d4-7120-455d-b507-c494e88fd347"
      },
      "source": [
        "print(X_train_raw.shape, y_train.shape)\n",
        "print(X_test_raw.shape, y_test.shape)"
      ],
      "execution_count": 9,
      "outputs": [
        {
          "output_type": "stream",
          "text": [
            "(15480, 8) (15480,)\n",
            "(5160, 8) (5160,)\n"
          ],
          "name": "stdout"
        }
      ]
    },
    {
      "cell_type": "code",
      "metadata": {
        "id": "ijCrrvxuNzey"
      },
      "source": [
        "# Feature engineering for standardizing features by min-max scaler.\n",
        "min_max_scaler = MinMaxScaler()\n",
        "\n",
        "X_train = min_max_scaler.fit_transform(X_train_raw)\n",
        "X_test = min_max_scaler.transform(X_test_raw)"
      ],
      "execution_count": 10,
      "outputs": []
    },
    {
      "cell_type": "code",
      "metadata": {
        "id": "l4NhZZpuNzey"
      },
      "source": [
        "# Convert arrays to float32.\n",
        "X_train, X_test, y_train, y_test = (\n",
        "    np.float32(X_train), np.float32(X_test), np.float32(y_train), np.float32(y_test))"
      ],
      "execution_count": 11,
      "outputs": []
    },
    {
      "cell_type": "code",
      "metadata": {
        "colab": {
          "base_uri": "https://localhost:8080/"
        },
        "id": "WuDzU9zPNzez",
        "outputId": "bebe8e4b-cf88-4dbc-9466-7b86b480e4ee"
      },
      "source": [
        "X_train.dtype, y_train.dtype"
      ],
      "execution_count": 12,
      "outputs": [
        {
          "output_type": "execute_result",
          "data": {
            "text/plain": [
              "(dtype('float32'), dtype('float32'))"
            ]
          },
          "metadata": {
            "tags": []
          },
          "execution_count": 12
        }
      ]
    },
    {
      "cell_type": "code",
      "metadata": {
        "id": "Dt7n9PukkA3o"
      },
      "source": [
        "def get_data(self, X_train, y_train, shuffle=True):\n",
        "    \"\"\"Get dataset and information.\"\"\"\n",
        "    self.X_train = X_train\n",
        "    self.y_train = y_train\n",
        "\n",
        "    # Get the numbers of examples and inputs.\n",
        "    self.n_examples, self.input_size = self.X_train.shape\n",
        "\n",
        "    if shuffle:\n",
        "        idx = list(range(self.n_examples))\n",
        "        random.shuffle(idx)\n",
        "        self.X_train = self.X_train[idx]\n",
        "        self.y_train = self.y_train[idx]\n",
        "\n",
        "def _fetch_batch(self):\n",
        "    \"\"\"Fetch batch dataset.\"\"\"\n",
        "    idx = list(range(self.n_examples))\n",
        "    for i in range(0, self.n_examples, self.batch_size):\n",
        "        idx_batch = idx[i:min(i + self.batch_size, self.n_examples)]\n",
        "        yield (self.X_train.take(idx_batch, axis=0), \n",
        "                self.y_train.take(idx_batch, axis=0))"
      ],
      "execution_count": null,
      "outputs": []
    },
    {
      "cell_type": "markdown",
      "metadata": {
        "id": "TjqEOCR8Nze5"
      },
      "source": [
        "## PyTorch Implementation of Linear Regression"
      ]
    },
    {
      "cell_type": "code",
      "metadata": {
        "id": "QmKY2oMfNze5"
      },
      "source": [
        "class LinearRegression(nn.Module):\n",
        "    \"\"\"PyTorch implementation of Linear Regression.\"\"\"\n",
        "\n",
        "    def __init__(self, input_size, lr):\n",
        "        super(LinearRegression, self).__init__()\n",
        "\n",
        "        self.input_size = input_size\n",
        "        self.lr = lr\n",
        "\n",
        "        self.fc = nn.Linear(self.input_size, 1)\n",
        "\n",
        "    def forward(self, x):\n",
        "        \"\"\"Foward to output model.\"\"\"\n",
        "        x = self.fc(x)\n",
        "        return x\n",
        "\n",
        "    def set_loss_optimizer(self):\n",
        "        self.criterion = nn.MSELoss()\n",
        "        self.optimizer = torch.optim.RMSprop(self.parameters(), lr=self.lr)\n",
        "\n",
        "    def get_coeff(self):\n",
        "        \"\"\"Get model coefficients.\"\"\"\n",
        "        # Detach var which require grad.\n",
        "        return (self.fc.bias.detach().numpy(),\n",
        "                self.fc.weight.detach().numpy())"
      ],
      "execution_count": null,
      "outputs": []
    },
    {
      "cell_type": "code",
      "metadata": {
        "id": "UgLluoTykbx6"
      },
      "source": [
        "def train(self):\n",
        "    \"\"\"Train model.\"\"\"\n",
        "    self.train()\n",
        "\n",
        "    for epoch in range(1, self.n_epochs + 1):\n",
        "        total_loss = 0\n",
        "        for X_train_b, y_train_b in self._fetch_batch():\n",
        "            # Convert to Tensor from NumPy array and reshape ys.\n",
        "            X_train_b, y_train_b = (\n",
        "                torch.from_numpy(X_train_b), \n",
        "                torch.from_numpy(y_train_b).view(-1, 1))\n",
        "\n",
        "            y_pred_b = self.forward(X_train_b)\n",
        "            loss = self.criterion(y_pred_b, y_train_b)\n",
        "            total_loss += loss * X_train_b.shape[0]\n",
        "\n",
        "            # Zero grads, performs backward pass, and update weights.\n",
        "            self.optimizer.zero_grad()\n",
        "            loss.backward()\n",
        "            self.optimizer.step()\n",
        "\n",
        "        if epoch % 100 == 0:\n",
        "            print('Epoch {0}: training loss: {1}'\n",
        "                    .format(epoch, total_loss / self.n_examples))\n"
      ],
      "execution_count": null,
      "outputs": []
    },
    {
      "cell_type": "markdown",
      "metadata": {
        "id": "8xGvgSZJNze5"
      },
      "source": [
        "## Fitting Linear Regression in PyTorch"
      ]
    },
    {
      "cell_type": "code",
      "metadata": {
        "colab": {
          "base_uri": "https://localhost:8080/",
          "height": 179
        },
        "id": "MM3GqQy6Nze6",
        "outputId": "3e612312-5666-41c4-ab6c-d50f03551d02"
      },
      "source": [
        "# Fit our Linear Regression.\n",
        "linreg = LinearRegression(batch_size=64, lr=0.1, n_epochs=1000)"
      ],
      "execution_count": null,
      "outputs": [
        {
          "output_type": "error",
          "ename": "NameError",
          "evalue": "ignored",
          "traceback": [
            "\u001b[0;31m---------------------------------------------------------------------------\u001b[0m",
            "\u001b[0;31mNameError\u001b[0m                                 Traceback (most recent call last)",
            "\u001b[0;32m<ipython-input-8-15251c9c4283>\u001b[0m in \u001b[0;36m<module>\u001b[0;34m()\u001b[0m\n\u001b[1;32m      1\u001b[0m \u001b[0;31m# Fit our Linear Regression.\u001b[0m\u001b[0;34m\u001b[0m\u001b[0;34m\u001b[0m\u001b[0;34m\u001b[0m\u001b[0m\n\u001b[0;32m----> 2\u001b[0;31m \u001b[0mlinreg_torch\u001b[0m \u001b[0;34m=\u001b[0m \u001b[0mLinearRegressionTorch\u001b[0m\u001b[0;34m(\u001b[0m\u001b[0mbatch_size\u001b[0m\u001b[0;34m=\u001b[0m\u001b[0;36m64\u001b[0m\u001b[0;34m,\u001b[0m \u001b[0mlr\u001b[0m\u001b[0;34m=\u001b[0m\u001b[0;36m0.1\u001b[0m\u001b[0;34m,\u001b[0m \u001b[0mn_epochs\u001b[0m\u001b[0;34m=\u001b[0m\u001b[0;36m1000\u001b[0m\u001b[0;34m)\u001b[0m\u001b[0;34m\u001b[0m\u001b[0;34m\u001b[0m\u001b[0m\n\u001b[0m",
            "\u001b[0;31mNameError\u001b[0m: name 'LinearRegressionTorch' is not defined"
          ]
        }
      ]
    },
    {
      "cell_type": "code",
      "metadata": {
        "id": "yxLy7uO2kKER"
      },
      "source": [
        ""
      ],
      "execution_count": null,
      "outputs": []
    },
    {
      "cell_type": "code",
      "metadata": {
        "colab": {
          "base_uri": "https://localhost:8080/",
          "height": 162
        },
        "id": "kd-sUBgoNze6",
        "outputId": "f5b1b464-6183-4e9f-ad01-94add2b1890a"
      },
      "source": [
        "linreg_torch.get_data(X_train, y_train, shuffle=True)"
      ],
      "execution_count": null,
      "outputs": [
        {
          "output_type": "error",
          "ename": "NameError",
          "evalue": "ignored",
          "traceback": [
            "\u001b[0;31m---------------------------------------------------------------------------\u001b[0m",
            "\u001b[0;31mNameError\u001b[0m                                 Traceback (most recent call last)",
            "\u001b[0;32m<ipython-input-9-dd6cb72dc873>\u001b[0m in \u001b[0;36m<module>\u001b[0;34m()\u001b[0m\n\u001b[0;32m----> 1\u001b[0;31m \u001b[0mlinreg_torch\u001b[0m\u001b[0;34m.\u001b[0m\u001b[0mget_data\u001b[0m\u001b[0;34m(\u001b[0m\u001b[0mX_train\u001b[0m\u001b[0;34m,\u001b[0m \u001b[0my_train\u001b[0m\u001b[0;34m,\u001b[0m \u001b[0mshuffle\u001b[0m\u001b[0;34m=\u001b[0m\u001b[0;32mTrue\u001b[0m\u001b[0;34m)\u001b[0m\u001b[0;34m\u001b[0m\u001b[0;34m\u001b[0m\u001b[0m\n\u001b[0m",
            "\u001b[0;31mNameError\u001b[0m: name 'linreg_torch' is not defined"
          ]
        }
      ]
    },
    {
      "cell_type": "code",
      "metadata": {
        "id": "95YEup7MNze6"
      },
      "source": [
        "linreg_torch.build()"
      ],
      "execution_count": null,
      "outputs": []
    },
    {
      "cell_type": "code",
      "metadata": {
        "id": "YVt6zPapNze6"
      },
      "source": [
        "linreg_torch.fit()"
      ],
      "execution_count": null,
      "outputs": []
    },
    {
      "cell_type": "code",
      "metadata": {
        "id": "gQ3gcFxpNze6"
      },
      "source": [
        "# Get coefficient.\n",
        "linreg_torch.get_coeff()"
      ],
      "execution_count": null,
      "outputs": []
    },
    {
      "cell_type": "code",
      "metadata": {
        "id": "kuoi-ajBNze6"
      },
      "source": [
        "# Predicted response for training data.\n",
        "y_train_ = linreg_torch.predict(X_train)\n",
        "y_train_[:10]"
      ],
      "execution_count": null,
      "outputs": []
    },
    {
      "cell_type": "code",
      "metadata": {
        "id": "fTuUhfSmNze7"
      },
      "source": [
        "# Prediction squared error for training data.\n",
        "mean_squared_error(y_train_, y_train)"
      ],
      "execution_count": null,
      "outputs": []
    },
    {
      "cell_type": "code",
      "metadata": {
        "id": "oux1WCnSNze7"
      },
      "source": [
        "# Predicted response for test data.\n",
        "y_test_ = linreg_torch.predict(X_test)\n",
        "y_test_[:10]"
      ],
      "execution_count": null,
      "outputs": []
    },
    {
      "cell_type": "code",
      "metadata": {
        "id": "AOLw7FfnNze7"
      },
      "source": [
        "# Prediction accuracy for test data.\n",
        "mean_squared_error(y_test_, y_test)"
      ],
      "execution_count": null,
      "outputs": []
    },
    {
      "cell_type": "markdown",
      "metadata": {
        "id": "jfEtQNxANze-"
      },
      "source": [
        "## Benchmark with Sklearn's Linear Regression"
      ]
    },
    {
      "cell_type": "code",
      "metadata": {
        "id": "bxnZsn34Nze-",
        "outputId": "f3766b48-e5e6-44fa-a7ef-957c83e9b8f4"
      },
      "source": [
        "# Fit sklearn's Logistic Regression.\n",
        "from sklearn.linear_model import LinearRegression as LinearRegressionSklearn\n",
        "\n",
        "linreg_sk = LinearRegressionSklearn()\n",
        "\n",
        "linreg_sk.fit(X_train, y_train.reshape(y_train.shape[0]))"
      ],
      "execution_count": null,
      "outputs": [
        {
          "output_type": "execute_result",
          "data": {
            "text/plain": [
              "LinearRegression()"
            ]
          },
          "metadata": {
            "tags": []
          },
          "execution_count": 30
        }
      ]
    },
    {
      "cell_type": "code",
      "metadata": {
        "id": "oQcuuXmpNze_",
        "outputId": "df3495a0-c7d1-42bd-a1ac-9b1a68a70123"
      },
      "source": [
        "# Get coefficients.\n",
        "linreg_sk.intercept_, linreg_sk.coef_"
      ],
      "execution_count": null,
      "outputs": [
        {
          "output_type": "execute_result",
          "data": {
            "text/plain": [
              "(3.6417923,\n",
              " array([  6.348496  ,   0.5144263 , -14.455919  ,  21.595474  ,\n",
              "         -0.04895439,  -4.965696  ,  -3.9162228 ,  -4.3132935 ],\n",
              "       dtype=float32))"
            ]
          },
          "metadata": {
            "tags": []
          },
          "execution_count": 31
        }
      ]
    },
    {
      "cell_type": "code",
      "metadata": {
        "id": "0z0zEsVwNze_",
        "outputId": "7a5bee88-7c27-4fbb-ef66-c82691623a17"
      },
      "source": [
        "# Predicted labels for training data.\n",
        "y_train_ = linreg_sk.predict(X_train)\n",
        "y_train_[:10]"
      ],
      "execution_count": null,
      "outputs": [
        {
          "output_type": "execute_result",
          "data": {
            "text/plain": [
              "array([1.5379176, 1.472091 , 2.2133121, 3.8295603, 3.0244732, 1.9933348,\n",
              "       2.263915 , 1.0535035, 1.0954115, 1.9086264], dtype=float32)"
            ]
          },
          "metadata": {
            "tags": []
          },
          "execution_count": 32
        }
      ]
    },
    {
      "cell_type": "code",
      "metadata": {
        "id": "DbBcQFRuNze_",
        "outputId": "80720f42-8447-4363-c2b2-9f3938f84e3f"
      },
      "source": [
        "# Prediction squared error for training data.\n",
        "mean_squared_error(y_train_, y_train)"
      ],
      "execution_count": null,
      "outputs": [
        {
          "output_type": "execute_result",
          "data": {
            "text/plain": [
              "0.51953274"
            ]
          },
          "metadata": {
            "tags": []
          },
          "execution_count": 33
        }
      ]
    },
    {
      "cell_type": "code",
      "metadata": {
        "id": "RcTHOc5MNze_",
        "outputId": "af8d5b1a-bf54-4a9f-8147-1d2c1a15c99c"
      },
      "source": [
        "# Predicted labels for test data.\n",
        "y_test_ = linreg_sk.predict(X_test)\n",
        "y_test_[:10]"
      ],
      "execution_count": null,
      "outputs": [
        {
          "output_type": "execute_result",
          "data": {
            "text/plain": [
              "array([1.75787538, 2.8031482 , 2.30476246, 2.80146927, 2.87024621,\n",
              "       1.75832087, 2.11390826, 2.71989601, 2.10377988, 1.68258784])"
            ]
          },
          "metadata": {
            "tags": []
          },
          "execution_count": 34
        }
      ]
    },
    {
      "cell_type": "code",
      "metadata": {
        "id": "cIPGRshxNze_",
        "outputId": "4415eb7b-8b18-44d9-8f6b-3f131bed2b1b"
      },
      "source": [
        "# # Prediction accuracy for test data.\n",
        "mean_squared_error(y_test_, y_test)"
      ],
      "execution_count": null,
      "outputs": [
        {
          "output_type": "execute_result",
          "data": {
            "text/plain": [
              "0.5393498488643094"
            ]
          },
          "metadata": {
            "tags": []
          },
          "execution_count": 35
        }
      ]
    },
    {
      "cell_type": "code",
      "metadata": {
        "id": "YHSz8fk-NzfA"
      },
      "source": [
        ""
      ],
      "execution_count": null,
      "outputs": []
    }
  ]
}