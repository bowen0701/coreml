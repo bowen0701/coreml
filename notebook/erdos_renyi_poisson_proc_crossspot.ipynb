{
 "cells": [
  {
   "cell_type": "markdown",
   "metadata": {},
   "source": [
    "# Erdos-Renyi Poisson Process and CrossSpot Metric\n",
    "\n",
    "- Bowen Li\n",
    "- 2017/04/21"
   ]
  },
  {
   "cell_type": "markdown",
   "metadata": {},
   "source": [
    "## Introduction\n",
    "\n",
    "Erdos-Renyi Poisson Process is a powerful model for various applications, one of which is CrossSpot metric for fraud detection, proposed by [Jiang et al. (ICDML, 2015)](http://alexbeutel.com/papers/crossspot-icdm15-paper.pdf). To fill the motivation and derivations for the above CrossSpot metric, this notebook is to summarize: \n",
    "\n",
    "- Review for Binomial Distribution and Poisson Approximation\n",
    "- Erdos-Renyi Poisson Process\n",
    "- CrossSpot Suspiciousness Metrics"
   ]
  },
  {
   "cell_type": "markdown",
   "metadata": {},
   "source": [
    "Apologize that I did not have enough time to type the notes yet, maybe in the near future. :-)\n",
    "\n",
    "[Hand-drafted Notes](./images/ml_erdos_renyi_poisson_process.pdf)"
   ]
  },
  {
   "cell_type": "markdown",
   "metadata": {},
   "source": [
    "## References\n",
    "\n",
    "- Jiang et al. (ICDML, 2015). A General Suspiciousness Metric for Dense Blocksin Multimodal Data."
   ]
  }
 ],
 "metadata": {
  "kernelspec": {
   "display_name": "Python 2",
   "language": "python",
   "name": "python2"
  },
  "language_info": {
   "codemirror_mode": {
    "name": "ipython",
    "version": 2
   },
   "file_extension": ".py",
   "mimetype": "text/x-python",
   "name": "python",
   "nbconvert_exporter": "python",
   "pygments_lexer": "ipython2",
   "version": "2.7.12"
  }
 },
 "nbformat": 4,
 "nbformat_minor": 2
}
