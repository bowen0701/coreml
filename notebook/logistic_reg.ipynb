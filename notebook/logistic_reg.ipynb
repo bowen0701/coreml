{
 "cells": [
  {
   "cell_type": "markdown",
   "metadata": {
    "collapsed": true
   },
   "source": [
    "# Logistic Regression Implementation from Scratch"
   ]
  },
  {
   "cell_type": "markdown",
   "metadata": {},
   "source": [
    "## Introduction\n",
    "\n",
    "Logistic regression is one of the most fundamental machine learning models for binary classification. I will summarize its methodology and implement it from scratch using NumPy. "
   ]
  },
  {
   "cell_type": "markdown",
   "metadata": {},
   "source": [
    "## Methodology\n",
    "\n",
    "TBD"
   ]
  },
  {
   "cell_type": "markdown",
   "metadata": {},
   "source": [
    "## Implementation"
   ]
  },
  {
   "cell_type": "code",
   "execution_count": 15,
   "metadata": {
    "collapsed": true
   },
   "outputs": [],
   "source": [
    "# Sigmoid function.\n",
    "def sigmoid(x):\n",
    "    \"\"\"Compute the sigmoid of x.\n",
    "\n",
    "    Args:\n",
    "      x: A scalar or numpy array of any size.\n",
    "\n",
    "    Returns:\n",
    "      s: sigmoid(x).\n",
    "    \"\"\"\n",
    "    s = 1 / (1 + np.exp(-x))    \n",
    "    return s"
   ]
  },
  {
   "cell_type": "code",
   "execution_count": 16,
   "metadata": {
    "collapsed": true
   },
   "outputs": [],
   "source": [
    "def sigmoid_derivative(s):\n",
    "    \"\"\"Compute the gradient of the sigmoid function.\n",
    "    \n",
    "    Args:\n",
    "      s: A scalar or numpy array. Sigmoid function.\n",
    "\n",
    "    Returns:\n",
    "      ds: Computed gradient.\n",
    "    \"\"\"\n",
    "    ds = s * (1 - s)    \n",
    "    return ds"
   ]
  },
  {
   "cell_type": "code",
   "execution_count": 17,
   "metadata": {
    "collapsed": true
   },
   "outputs": [],
   "source": [
    "def initialize_weights(dim):\n",
    "    \"\"\"Initialize weights.\n",
    "\n",
    "    This function creates a vector of zeros of shape (dim, 1) for w and b to 0.\n",
    "    \n",
    "    Args:\n",
    "      dim: A integer. Size of the w vector (or number of parameters.)\n",
    "    \n",
    "    Returns:\n",
    "      w: A Numpy array. Initialized vector of shape (dim, 1)\n",
    "      b: A integer. Initialized scalar (corresponds to the bias)\n",
    "    \"\"\"\n",
    "    w = np.zeros(dim).reshape(dim, 1)\n",
    "    b = 0\n",
    "    assert(w.shape == (dim, 1))\n",
    "    assert(isinstance(b, float) or isinstance(b, int))\n",
    "    return w, b"
   ]
  },
  {
   "cell_type": "code",
   "execution_count": 18,
   "metadata": {
    "collapsed": true
   },
   "outputs": [],
   "source": [
    "def propagate(w, b, X, Y):\n",
    "    \"\"\"Forward & backward propagation.\n",
    "\n",
    "    Implement the cost function and its gradient for the propagation.\n",
    "\n",
    "    Arguments:\n",
    "      w: A Numpy array. Weights of size (num_px * num_px * 3, 1)\n",
    "      b: A float. Bias.\n",
    "      X: A Numpy array. Data of size (num_px * num_px * 3, number of examples).\n",
    "      Y: A Numpy array. True \"label\" vector (containing 0 or 1) \n",
    "         of size (1, number of examples).\n",
    "\n",
    "    Returns:\n",
    "      cost: A float. Negative log-likelihood cost for logistic regression.\n",
    "      dw: A Numpy array. Gradient of the loss w.r.t. w, thus same shape as w.\n",
    "      db: A float. Gradient of the loss w.r.t b, thus same shape as b.\n",
    "    \"\"\"\n",
    "    m = X.shape[1]\n",
    "    \n",
    "    # Forward propagation from X to cost.\n",
    "    # Compute activation.\n",
    "    A = sigmoid(np.dot(w.T, X) + b)\n",
    "    # Compute cost.\n",
    "    cost = - 1 / m * np.sum(Y * np.log(A) + (1 - Y) * np.log(1 - A))\n",
    "    \n",
    "    # Backward propagation to find gradient.\n",
    "    dw = 1 / m * np.dot(X, (A - Y).T)\n",
    "    db = 1 / m * np.sum(A - Y)\n",
    "\n",
    "    assert(dw.shape == w.shape)\n",
    "    assert(db.dtype == float)\n",
    "\n",
    "    cost = np.squeeze(cost)\n",
    "    assert(cost.shape == ())\n",
    "\n",
    "    grads = {\"dw\": dw,\n",
    "             \"db\": db} \n",
    "\n",
    "    return grads, cost"
   ]
  },
  {
   "cell_type": "code",
   "execution_count": 19,
   "metadata": {
    "collapsed": true
   },
   "outputs": [],
   "source": [
    "def optimize(w, b, X, Y, num_iterations, learning_rate, print_cost=False):\n",
    "    \"\"\"Optimization function.\n",
    "\n",
    "    This function optimizes w and b by running a gradient descent algorithm.\n",
    "    \n",
    "    Arguments:\n",
    "      w: A Numpy array. Weights of size (num_px * num_px * 3, 1).\n",
    "      b: A scalar. Bias.\n",
    "      X: A Numpy array. Data of shape (num_px * num_px * 3, number of examples).\n",
    "      Y: A Numpy array. True \"label\" vector (containing 0 if non-cat, 1 if cat), \n",
    "        of shape (1, number of examples)\n",
    "      num_iterations: A integer. Number of iterations of the optimization loop.\n",
    "      learning_rate: A scalr. Learning rate of the gradient descent update rule.\n",
    "      print_cost: A Boolean. Print the loss every 100 steps. Default: False.\n",
    "    \n",
    "    Returns:\n",
    "      params: A dictionary containing the weights w and bias b.\n",
    "      grads: A dictionary containing the gradients of the weights and bias \n",
    "        with respect to the cost function\n",
    "      costs: A list of all the costs computed during the optimization, \n",
    "        this will be used to plot the learning curve.\n",
    "    \n",
    "    Tips:\n",
    "    You basically need to write down two steps and iterate through them:\n",
    "      1. Calculate the cost and the gradient for the current parameters. \n",
    "        Use propagate().\n",
    "      2. Update the parameters using gradient descent rule for w and b.\n",
    "    \"\"\"   \n",
    "    costs = []\n",
    "\n",
    "    for i in range(num_iterations):\n",
    "        # Cost and gradient calculation (≈ 1-4 lines of code)\n",
    "        grads, cost = propagate(w, b, X, Y)\n",
    "        \n",
    "        # Retrieve derivatives from grads\n",
    "        dw = grads[\"dw\"]\n",
    "        db = grads[\"db\"]\n",
    "        \n",
    "        # Update rule.\n",
    "        w -= learning_rate * dw\n",
    "        b -= learning_rate * db\n",
    "        \n",
    "        # Record the costs\n",
    "        if i % 100 == 0:\n",
    "            costs.append(cost)\n",
    "        # Print the cost every 100 training examples\n",
    "        if print_cost and i % 100 == 0:\n",
    "            print(\"Cost after iteration %i: %f\" %(i, cost))\n",
    "    \n",
    "    params = {\"w\": w,\n",
    "              \"b\": b}\n",
    "    \n",
    "    grads = {\"dw\": dw,\n",
    "             \"db\": db}\n",
    "    \n",
    "    return params, grads, costs"
   ]
  },
  {
   "cell_type": "code",
   "execution_count": 20,
   "metadata": {
    "collapsed": true
   },
   "outputs": [],
   "source": [
    "def predict(w, b, X):\n",
    "    \"\"\"Prediction.\n",
    "\n",
    "    Predict whether the label is 0 or 1 using learned logistic regression \n",
    "    parameters (w, b)\n",
    "    \n",
    "    Arguments:\n",
    "      w: A Numpy array. Learned weights of size (num_px * num_px * 3, 1).\n",
    "      b: A scalar. Learned bias.\n",
    "      X: A Numpy array. New data of size (num_px * num_px * 3, number of examples).\n",
    "    \n",
    "    Returns:\n",
    "      Y_prediction: A Numpy array containing all predictions (0/1) \n",
    "        for the examples in X.\n",
    "    \"\"\"\n",
    "    m = X.shape[1]\n",
    "    Y_prediction = np.zeros((1, m))\n",
    "    w = w.reshape(X.shape[0], 1)\n",
    "    \n",
    "    # Compute vector \"A\" predicting the probabilities of a label 1 \n",
    "    # being present in the picture.\n",
    "    A = sigmoid(np.dot(w.T, X) + b)\n",
    "    \n",
    "    for i in range(A.shape[1]):\n",
    "        # Convert probabilities a[0,i] to actual predictions p[0,i]\n",
    "        if A[0, i] > 0.5:\n",
    "            Y_prediction[0, i] = 1\n",
    "        else:\n",
    "            Y_prediction[0, i] = 0\n",
    "    \n",
    "    assert(Y_prediction.shape == (1, m))\n",
    "    \n",
    "    return Y_prediction"
   ]
  },
  {
   "cell_type": "code",
   "execution_count": 21,
   "metadata": {
    "collapsed": true
   },
   "outputs": [],
   "source": [
    "def accuracy(Y_prediction, Y):\n",
    "    acc = 1 - np.mean(np.abs(Y_prediction_train - Y_train))\n",
    "    return acc"
   ]
  },
  {
   "cell_type": "code",
   "execution_count": 22,
   "metadata": {
    "collapsed": true
   },
   "outputs": [],
   "source": [
    "def logistic_regression(X_train, Y_train, X_test, Y_test, \n",
    "                        num_iterations=2000, learning_rate=0.5, print_cost=False):\n",
    "    \"\"\"Wrap-up function for logistic regression.\n",
    "\n",
    "    Builds the logistic regression model by calling the function \n",
    "    you've implemented previously.\n",
    "    \n",
    "    Arguments:\n",
    "      X_train: A Numpy. Training set of shape (num_px * num_px * 3, m_train).\n",
    "      Y_train: A Numpy array. Training labels of shape (1, m_train).\n",
    "      X_test: A Numpy array. Test set of shape (num_px * num_px * 3, m_test).\n",
    "      Y_test: A Numpy array. Test labels of shape (1, m_test).\n",
    "      num_iterations: An integer. Hyperparameter for the number of iterations \n",
    "        to optimize the parameters\n",
    "      learning_rate: A scalar. Hyperparameter for the learning rate used \n",
    "        in the update rule of optimize()\n",
    "      print_cost: A Boolean. Print the cost every 100 iterations. Default: True.\n",
    "    \n",
    "    Returns:\n",
    "      d: A dictionary containing information about the model.\n",
    "    \"\"\"    \n",
    "    # initialize parameters with zeros (≈ 1 line of code)\n",
    "    w, b = initialize_with_zeros(X_train.shape[0])\n",
    "\n",
    "    # Gradient descent.\n",
    "    parameters, grads, costs = optimize(\n",
    "        w, b, X_train, Y_train, \n",
    "        num_iterations=num_iterations, learning_rate=learning_rate, \n",
    "        print_cost=print_cost)\n",
    "    \n",
    "    # Retrieve parameters w and b from dictionary \"parameters\"\n",
    "    w = parameters[\"w\"]\n",
    "    b = parameters[\"b\"]\n",
    "    \n",
    "    # Predict test/train set examples (≈ 2 lines of code)\n",
    "    Y_prediction_test = predict(w, b, X_test)\n",
    "    Y_prediction_train = predict(w, b, X_train)\n",
    "\n",
    "    # Print train/test Errors\n",
    "    print(\"Train accuracy: {} %\"\n",
    "          .format(accuracy(Y_prediction_train, Y_train) * 100))\n",
    "    print(\"Test accuracy: {} %\"\n",
    "          .format(accuracy(Y_prediction_test, Y_test) * 100))\n",
    "    \n",
    "    d = {\"costs\": costs,\n",
    "         \"Y_prediction_test\": Y_prediction_test, \n",
    "         \"Y_prediction_train\" : Y_prediction_train, \n",
    "         \"w\" : w, \n",
    "         \"b\" : b,\n",
    "         \"learning_rate\" : learning_rate,\n",
    "         \"num_iterations\": num_iterations}\n",
    "    return d"
   ]
  }
 ],
 "metadata": {
  "kernelspec": {
   "display_name": "Python 2",
   "language": "python",
   "name": "python2"
  },
  "language_info": {
   "codemirror_mode": {
    "name": "ipython",
    "version": 2
   },
   "file_extension": ".py",
   "mimetype": "text/x-python",
   "name": "python",
   "nbconvert_exporter": "python",
   "pygments_lexer": "ipython2",
   "version": "2.7.12"
  }
 },
 "nbformat": 4,
 "nbformat_minor": 2
}
