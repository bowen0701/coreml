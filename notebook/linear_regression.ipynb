{
  "nbformat": 4,
  "nbformat_minor": 0,
  "metadata": {
    "colab": {
      "provenance": []
    },
    "kernelspec": {
      "name": "python3",
      "display_name": "Python 3"
    },
    "language_info": {
      "name": "python"
    }
  },
  "cells": [
    {
      "cell_type": "code",
      "execution_count": 2,
      "metadata": {
        "id": "qy8bOp83Z4SN"
      },
      "outputs": [],
      "source": [
        "from __future__ import absolute_import\n",
        "from __future__ import division\n",
        "from __future__ import print_function\n",
        "\n",
        "import numpy as np\n",
        "\n",
        "import torch\n",
        "import torch.nn as nn\n",
        "import torch.nn.functional as F\n",
        "from torch import Tensor"
      ]
    },
    {
      "cell_type": "code",
      "source": [
        "RANDOM_SEED = 71\n",
        "np.random.seed(RANDOM_SEED)"
      ],
      "metadata": {
        "id": "kSuqDYFQjHAQ"
      },
      "execution_count": 3,
      "outputs": []
    },
    {
      "cell_type": "code",
      "source": [
        "# !python3 -m pip freeze > requirements.txt"
      ],
      "metadata": {
        "id": "BnBdz01QLl4L"
      },
      "execution_count": 4,
      "outputs": []
    },
    {
      "cell_type": "markdown",
      "source": [
        "## Split Data into Training and Test Sets"
      ],
      "metadata": {
        "id": "Wf9PKu3D5uzZ"
      }
    },
    {
      "cell_type": "code",
      "source": [
        "import pandas as pd\n",
        "\n",
        "# data_df = pd.read_csv(\"insurance.csv\")"
      ],
      "metadata": {
        "id": "aNKQQs184WQd"
      },
      "execution_count": 5,
      "outputs": []
    },
    {
      "cell_type": "code",
      "source": [
        "# data_df"
      ],
      "metadata": {
        "id": "ZINX7IAB6B8o"
      },
      "execution_count": 6,
      "outputs": []
    },
    {
      "cell_type": "code",
      "source": [
        "from sklearn.model_selection import train_test_split\n",
        "\n",
        "# train_df, test_df = train_test_split(data_df, train_size=0.8)\n",
        "\n",
        "# train_df.to_csv(\"insurance_train.csv\", index=False)\n",
        "# test_df.to_csv(\"insurance_test.csv\", index=False)"
      ],
      "metadata": {
        "id": "0hZabqiw6m4d"
      },
      "execution_count": 7,
      "outputs": []
    },
    {
      "cell_type": "markdown",
      "source": [
        "## Define a Linear Regression"
      ],
      "metadata": {
        "id": "Jn5_YpWR8CR6"
      }
    },
    {
      "cell_type": "code",
      "source": [
        "class LinearRegression(nn.Module):\n",
        "    \"\"\"PyTorch implementation of Linear Regression.\"\"\"\n",
        "\n",
        "    def __init__(self, input_dim: int) -> None:\n",
        "        super().__init__()\n",
        "        self.input_dim = input_dim\n",
        "        # Linear regression.\n",
        "        self.fc1 = nn.Linear(self.input_dim, 1)\n",
        "\n",
        "    def forward(self, x: Tensor) -> Tensor:\n",
        "        x = self.fc1(x)\n",
        "        return x"
      ],
      "metadata": {
        "id": "CMU9vXrPavbi"
      },
      "execution_count": 8,
      "outputs": []
    },
    {
      "cell_type": "markdown",
      "source": [
        "## Preprocess Train Datasets"
      ],
      "metadata": {
        "id": "GOLH2wg03jnn"
      }
    },
    {
      "cell_type": "code",
      "source": [
        "# train_df = pd.read_csv(\"insurance_train.csv\")\n",
        "# test_df = pd.read_csv(\"insurance_test.csv\")"
      ],
      "metadata": {
        "id": "6Ym_GDi15vdv"
      },
      "execution_count": 9,
      "outputs": []
    },
    {
      "cell_type": "code",
      "source": [
        "# train_df"
      ],
      "metadata": {
        "id": "SE_Jxw_P5_KM"
      },
      "execution_count": 10,
      "outputs": []
    },
    {
      "cell_type": "code",
      "source": [
        "train_file_name = \"insurance_train.csv\"\n",
        "test_file_name = \"insurance_test.csv\"\n",
        "\n",
        "label_name = \"charges\"\n",
        "float_feature_names = [\"age\", \"bmi\", \"children\"]\n",
        "id_list_feature_names = [\"sex\", \"smoker\", \"region\"]\n",
        "id_score_list_feature_names = []\n",
        "embedding_feature_names = []"
      ],
      "metadata": {
        "id": "rpd0cupcLBzF"
      },
      "execution_count": 11,
      "outputs": []
    },
    {
      "cell_type": "code",
      "source": [
        "from typing import Dict, List, Optional, Tuple\n",
        "from dataclasses import dataclass\n",
        "\n",
        "\n",
        "@dataclass\n",
        "class InputData:\n",
        "    features: np.ndarray\n",
        "    labels: np.ndarray\n",
        "\n",
        "\n",
        "class DataReader:\n",
        "    def __init__(\n",
        "        self, \n",
        "        label_name: str,\n",
        "        file_name: str, \n",
        "        float_feature_names: Optional[List[str]] = None, \n",
        "        id_list_feature_names: Optional[List[str]] = None, \n",
        "        id_score_list_feature_names: Optional[List[str]] = None, \n",
        "        embedding_feature_names: Optional[List[str]] = None, \n",
        "    ) -> None:\n",
        "        self.file_name = file_name\n",
        "        self.label_name = label_name\n",
        "\n",
        "        if float_feature_names is None:\n",
        "            float_feature_names = []\n",
        "        if id_list_feature_names is None:\n",
        "            id_list_feature_names = []\n",
        "        if id_score_list_feature_names is None:\n",
        "            id_score_list_feature_names = []\n",
        "        if embedding_feature_names is None:\n",
        "            embedding_feature_names = []\n",
        "\n",
        "        self.float_feature_names = float_feature_names\n",
        "        self.id_list_feature_names = id_list_feature_names\n",
        "        self.id_score_list_feature_names = id_score_list_feature_names\n",
        "        self.embedding_feature_names = embedding_feature_names\n",
        "        self.feature_names = (\n",
        "            self.float_feature_names + \n",
        "            self.id_list_feature_names + \n",
        "            self.id_score_list_feature_names + \n",
        "            self.embedding_feature_names\n",
        "        )\n",
        "        if len(self.feature_names) < 1:\n",
        "            raise ValueError(\"Need to at least set up one feature name.\")\n",
        "    \n",
        "    def __call__(self) -> InputData:\n",
        "        data_df = pd.read_csv(self.file_name)\n",
        "        features_df, labels_df = (\n",
        "            data_df.loc[:, self.feature_names], \n",
        "            data_df.loc[:, self.label_name]\n",
        "        )\n",
        "        return InputData(\n",
        "            features=features_df,\n",
        "            labels=labels_df\n",
        "        )"
      ],
      "metadata": {
        "id": "ETJTnuxfNTEJ"
      },
      "execution_count": 12,
      "outputs": []
    },
    {
      "cell_type": "code",
      "source": [
        "data_reader = DataReader(\n",
        "    file_name=train_file_name, \n",
        "    label_name=label_name,\n",
        "    float_feature_names=float_feature_names,\n",
        "    id_list_feature_names=id_list_feature_names, \n",
        ")\n",
        "\n",
        "input_data = data_reader()"
      ],
      "metadata": {
        "id": "bDXyaKZI2yki"
      },
      "execution_count": 13,
      "outputs": []
    },
    {
      "cell_type": "code",
      "source": [
        "data_reader.float_feature_names"
      ],
      "metadata": {
        "colab": {
          "base_uri": "https://localhost:8080/"
        },
        "id": "RCVuqA9wk_B1",
        "outputId": "1cbcfc1b-8392-4fe4-bea3-50b1fcf79c36"
      },
      "execution_count": 14,
      "outputs": [
        {
          "output_type": "execute_result",
          "data": {
            "text/plain": [
              "['age', 'bmi', 'children']"
            ]
          },
          "metadata": {},
          "execution_count": 14
        }
      ]
    },
    {
      "cell_type": "code",
      "source": [
        "input_data"
      ],
      "metadata": {
        "colab": {
          "base_uri": "https://localhost:8080/"
        },
        "id": "o45po5KS5xLg",
        "outputId": "240a0792-e25a-4c1a-eb53-e665bd2d7d10"
      },
      "execution_count": 15,
      "outputs": [
        {
          "output_type": "execute_result",
          "data": {
            "text/plain": [
              "InputData(features=      age     bmi  children     sex smoker     region\n",
              "0      31  26.885         1    male     no  northeast\n",
              "1      55  38.280         0    male     no  southeast\n",
              "2      20  35.310         1    male     no  southeast\n",
              "3      60  24.320         1    male     no  northwest\n",
              "4      34  26.730         1  female     no  southeast\n",
              "...   ...     ...       ...     ...    ...        ...\n",
              "1065   28  26.510         2  female     no  southeast\n",
              "1066   39  34.100         3  female     no  southwest\n",
              "1067   60  25.840         0  female     no  northwest\n",
              "1068   39  22.800         3  female     no  northeast\n",
              "1069   23  28.490         1  female    yes  southeast\n",
              "\n",
              "[1070 rows x 6 columns], labels=0        4441.21315\n",
              "1       10226.28420\n",
              "2       27724.28875\n",
              "3       13112.60480\n",
              "4        5002.78270\n",
              "           ...     \n",
              "1065     4340.44090\n",
              "1066     7418.52200\n",
              "1067    28923.13692\n",
              "1068     7985.81500\n",
              "1069    18328.23810\n",
              "Name: charges, Length: 1070, dtype: float64)"
            ]
          },
          "metadata": {},
          "execution_count": 15
        }
      ]
    },
    {
      "cell_type": "code",
      "source": [
        "from collections import OrderedDict\n",
        "from copy import deepcopy\n",
        "from typing import Dict, OrderedDict\n",
        "\n",
        "\n",
        "@dataclass\n",
        "class InputTransformedData:\n",
        "    float_features: np.ndarray\n",
        "    id_list_features: np.ndarray\n",
        "    id_score_list_features: np.ndarray\n",
        "    embedding_features: np.ndarray\n",
        "    labels: np.ndarray\n",
        "\n",
        "\n",
        "class InputTransform:\n",
        "    def __init__(\n",
        "        self,\n",
        "        data_reader: DataReader,\n",
        "        is_train: bool = True,\n",
        "    ) -> None:\n",
        "        self.data_reader = data_reader\n",
        "        self.is_train = is_train\n",
        "        self.id_list_features_metadata = None\n",
        "\n",
        "    def __call__(\n",
        "        self,\n",
        "        input_data: InputData,\n",
        "    ) -> InputTransformedData:\n",
        "        labels_df = input_data.labels\n",
        "        \n",
        "        features_df = input_data.features\n",
        "        (\n",
        "            float_features_np,\n",
        "            id_list_features_np,\n",
        "            id_score_list_features_np,\n",
        "            embedding_features_np,\n",
        "        ) = self.get_feature_groups_data(features_df)\n",
        "\n",
        "        # Preprocess id_list features.\n",
        "        if self.is_train:\n",
        "            self.id_list_features_metadata = self.get_id_list_features_metadata(\n",
        "                id_list_features_np\n",
        "            )\n",
        "\n",
        "        id_list_features_transformed_np = self.id_list_features_transform(\n",
        "            id_list_features_np\n",
        "        )\n",
        "        \n",
        "        # Preprocess id_score_list features.\n",
        "        id_score_list_features_transformed_np = self.id_score_list_features_transform(\n",
        "            id_score_list_features_np\n",
        "        )\n",
        "\n",
        "        return InputTransformedData(\n",
        "            float_features=float_features_np,\n",
        "            id_list_features=id_list_features_transformed_np,\n",
        "            id_score_list_features=id_score_list_features_transformed_np,\n",
        "            embedding_features=embedding_features_np,\n",
        "            labels=labels_df.values\n",
        "        )\n",
        "\n",
        "    def get_feature_groups_data(\n",
        "        self,\n",
        "        features_df: pd.DataFrame,\n",
        "    ) -> Tuple[np.ndarray, np.ndarray, np.ndarray, np.ndarray]:\n",
        "        float_features_np = (\n",
        "            features_df.loc[:, self.data_reader.float_feature_names]\n",
        "        ).values\n",
        "        id_list_features_np = (\n",
        "            features_df.loc[:, self.data_reader.id_list_feature_names]\n",
        "        ).values\n",
        "        id_score_list_features_np = (\n",
        "            features_df.loc[:, self.data_reader.id_score_list_feature_names]\n",
        "        ).values\n",
        "        embedding_features_np = (\n",
        "            features_df.loc[:, self.data_reader.embedding_feature_names]\n",
        "        ).values\n",
        "        return (\n",
        "            float_features_np,\n",
        "            id_list_features_np,\n",
        "            id_score_list_features_np,\n",
        "            embedding_features_np,\n",
        "        )\n",
        "\n",
        "    def get_id_list_features_metadata(\n",
        "        self,\n",
        "        id_list_examples_np: np.ndarray,\n",
        "    ) -> Dict[str, Dict[str, int]]:\n",
        "        id_list_features_metadata = OrderedDict()\n",
        "\n",
        "        for c in range(id_list_examples_np.shape[1]):\n",
        "            col = id_list_examples_np[:, c]\n",
        "            unique_data = np.unique(col)\n",
        "            data_idx_map = {data: idx for idx, data in enumerate(unique_data)}\n",
        "            id_list_features_metadata[\n",
        "                self.data_reader.id_list_feature_names[c]\n",
        "            ] = data_idx_map\n",
        "        \n",
        "        return id_list_features_metadata\n",
        "    \n",
        "    def id_list_features_transform(\n",
        "        self,\n",
        "        id_list_features_np: np.ndarray,\n",
        "    ) -> np.ndarray:\n",
        "        id_list_features_transformed_np = deepcopy(id_list_features_np)\n",
        "\n",
        "        for c in range(id_list_features_transformed_np.shape[1]):\n",
        "            # Convert category data to idx, with unknown category mapping to largest idx + 1.\n",
        "            # Note: The unknown category would only appear in the test data.\n",
        "            data_idx_map = self.id_list_features_metadata[\n",
        "                self.data_reader.id_list_feature_names[c]\n",
        "            ]\n",
        "            data2idx = lambda x: data_idx_map.get(x, len(data_idx_map))\n",
        "            result = np.array(list(map(data2idx, id_list_features_transformed_np[:, c])))\n",
        "            id_list_features_transformed_np[:, c] = result\n",
        "        \n",
        "        return id_list_features_transformed_np.astype(np.int64)\n",
        "    \n",
        "    def id_score_list_features_transform(\n",
        "        self,\n",
        "        id_score_list_features_np: np.ndarray,\n",
        "    ) -> np.ndarray:\n",
        "        id_score_list_features_transformed_np = deepcopy(id_score_list_features_np)\n",
        "        return id_score_list_features_transformed_np.astype(np.float64)\n"
      ],
      "metadata": {
        "id": "JHVJa2Ez52in"
      },
      "execution_count": 29,
      "outputs": []
    },
    {
      "cell_type": "code",
      "source": [
        "input_transform = InputTransform(data_reader=data_reader)"
      ],
      "metadata": {
        "id": "Pb1l-Ziwfjk7"
      },
      "execution_count": 17,
      "outputs": []
    },
    {
      "cell_type": "code",
      "source": [
        "input_transformed_data = input_transform(input_data)"
      ],
      "metadata": {
        "id": "jArtyaBJqAdk"
      },
      "execution_count": 18,
      "outputs": []
    },
    {
      "cell_type": "code",
      "source": [
        "input_transformed_data"
      ],
      "metadata": {
        "colab": {
          "base_uri": "https://localhost:8080/"
        },
        "id": "_Tj1Fk8sqLnK",
        "outputId": "3276d313-9b00-4cf0-9f8b-04688d43468e"
      },
      "execution_count": 19,
      "outputs": [
        {
          "output_type": "execute_result",
          "data": {
            "text/plain": [
              "InputTransformedData(float_features=array([[31.   , 26.885,  1.   ],\n",
              "       [55.   , 38.28 ,  0.   ],\n",
              "       [20.   , 35.31 ,  1.   ],\n",
              "       ...,\n",
              "       [60.   , 25.84 ,  0.   ],\n",
              "       [39.   , 22.8  ,  3.   ],\n",
              "       [23.   , 28.49 ,  1.   ]]), id_list_features=array([[1, 0, 0],\n",
              "       [1, 0, 2],\n",
              "       [1, 0, 2],\n",
              "       ...,\n",
              "       [0, 0, 1],\n",
              "       [0, 0, 0],\n",
              "       [0, 1, 2]]), id_score_list_features=array([], shape=(1070, 0), dtype=float64), embedding_features=array([], shape=(1070, 0), dtype=float64), labels=array([ 4441.21315, 10226.2842 , 27724.28875, ..., 28923.13692,\n",
              "        7985.815  , 18328.2381 ]))"
            ]
          },
          "metadata": {},
          "execution_count": 19
        }
      ]
    },
    {
      "cell_type": "code",
      "source": [
        "labels_df = input_data.labels\n",
        "features_df = input_data.features\n",
        "\n",
        "(\n",
        "    float_features_np,\n",
        "    id_list_features_np,\n",
        "    id_score_list_features_np,\n",
        "    embedding_features_np,\n",
        ") = input_transform.get_feature_groups_data(features_df)"
      ],
      "metadata": {
        "id": "joiarodETC6n"
      },
      "execution_count": 21,
      "outputs": []
    },
    {
      "cell_type": "code",
      "source": [
        "float_features_np"
      ],
      "metadata": {
        "colab": {
          "base_uri": "https://localhost:8080/"
        },
        "id": "BhnFyQJ3wWzp",
        "outputId": "d6502be8-6a0a-4c51-f3e4-95ce925483cf"
      },
      "execution_count": 22,
      "outputs": [
        {
          "output_type": "execute_result",
          "data": {
            "text/plain": [
              "array([[31.   , 26.885,  1.   ],\n",
              "       [55.   , 38.28 ,  0.   ],\n",
              "       [20.   , 35.31 ,  1.   ],\n",
              "       ...,\n",
              "       [60.   , 25.84 ,  0.   ],\n",
              "       [39.   , 22.8  ,  3.   ],\n",
              "       [23.   , 28.49 ,  1.   ]])"
            ]
          },
          "metadata": {},
          "execution_count": 22
        }
      ]
    },
    {
      "cell_type": "code",
      "source": [
        "id_list_features_np"
      ],
      "metadata": {
        "colab": {
          "base_uri": "https://localhost:8080/"
        },
        "id": "ILaeTV7PUZtl",
        "outputId": "7a96db23-f1a1-4bad-ee2f-67f4c6006fa6"
      },
      "execution_count": 23,
      "outputs": [
        {
          "output_type": "execute_result",
          "data": {
            "text/plain": [
              "array([['male', 'no', 'northeast'],\n",
              "       ['male', 'no', 'southeast'],\n",
              "       ['male', 'no', 'southeast'],\n",
              "       ...,\n",
              "       ['female', 'no', 'northwest'],\n",
              "       ['female', 'no', 'northeast'],\n",
              "       ['female', 'yes', 'southeast']], dtype=object)"
            ]
          },
          "metadata": {},
          "execution_count": 23
        }
      ]
    },
    {
      "cell_type": "code",
      "source": [
        "embedding_features_np"
      ],
      "metadata": {
        "colab": {
          "base_uri": "https://localhost:8080/"
        },
        "id": "vSBFLcL-wVJP",
        "outputId": "97fdb5bf-a412-4852-f80e-f05ad0100b02"
      },
      "execution_count": 24,
      "outputs": [
        {
          "output_type": "execute_result",
          "data": {
            "text/plain": [
              "array([], shape=(1070, 0), dtype=float64)"
            ]
          },
          "metadata": {},
          "execution_count": 24
        }
      ]
    },
    {
      "cell_type": "code",
      "source": [
        "id_list_features_metadata = input_transform.get_id_list_features_metadata(id_list_features_np)"
      ],
      "metadata": {
        "id": "1zda-wr45uDx"
      },
      "execution_count": 25,
      "outputs": []
    },
    {
      "cell_type": "code",
      "source": [
        "id_list_features_metadata"
      ],
      "metadata": {
        "colab": {
          "base_uri": "https://localhost:8080/"
        },
        "id": "PQVKHRg8jP5S",
        "outputId": "8b2de027-07d9-4bcc-c3ea-09aebccb4ba9"
      },
      "execution_count": 26,
      "outputs": [
        {
          "output_type": "execute_result",
          "data": {
            "text/plain": [
              "OrderedDict([('sex', {'female': 0, 'male': 1}),\n",
              "             ('smoker', {'no': 0, 'yes': 1}),\n",
              "             ('region',\n",
              "              {'northeast': 0,\n",
              "               'northwest': 1,\n",
              "               'southeast': 2,\n",
              "               'southwest': 3})])"
            ]
          },
          "metadata": {},
          "execution_count": 26
        }
      ]
    },
    {
      "cell_type": "code",
      "source": [
        "id_list_features_transformed_np = input_transform.id_list_features_transform(id_list_features_np)"
      ],
      "metadata": {
        "id": "CULgg3IuxHAD"
      },
      "execution_count": 27,
      "outputs": []
    },
    {
      "cell_type": "code",
      "source": [
        "print(id_list_features_transformed_np.dtype)\n",
        "id_list_features_transformed_np"
      ],
      "metadata": {
        "colab": {
          "base_uri": "https://localhost:8080/"
        },
        "id": "-nQIJeBF6i9f",
        "outputId": "5653f3fd-4b03-4101-9045-97d559372388"
      },
      "execution_count": 28,
      "outputs": [
        {
          "output_type": "stream",
          "name": "stdout",
          "text": [
            "int64\n"
          ]
        },
        {
          "output_type": "execute_result",
          "data": {
            "text/plain": [
              "array([[1, 0, 0],\n",
              "       [1, 0, 2],\n",
              "       [1, 0, 2],\n",
              "       ...,\n",
              "       [0, 0, 1],\n",
              "       [0, 0, 0],\n",
              "       [0, 1, 2]])"
            ]
          },
          "metadata": {},
          "execution_count": 28
        }
      ]
    },
    {
      "cell_type": "code",
      "source": [
        "# TODO\n",
        "id_list_feature_one_hot_transformed = F.one_hot(torch.LongTensor(id_list_features_transformed_np[:, 0]))\n",
        "id_list_feature_one_hot_transformed[:, 0:id_list_feature_one_hot_transformed.shape[1]-1]\n",
        "\n",
        "# for c in range(id_list_examples_np2.shape[1]):\n"
      ],
      "metadata": {
        "colab": {
          "base_uri": "https://localhost:8080/"
        },
        "id": "goF9bHbwhHsg",
        "outputId": "1f59417d-e26c-409d-91ed-305b74fe89b4"
      },
      "execution_count": 31,
      "outputs": [
        {
          "output_type": "execute_result",
          "data": {
            "text/plain": [
              "tensor([[0],\n",
              "        [0],\n",
              "        [0],\n",
              "        ...,\n",
              "        [1],\n",
              "        [1],\n",
              "        [1]])"
            ]
          },
          "metadata": {},
          "execution_count": 31
        }
      ]
    },
    {
      "cell_type": "code",
      "source": [
        "np.hstack([float_examples_raw_df, np.array([]).reshape((len(float_examples_raw_df), 0))])"
      ],
      "metadata": {
        "id": "fD_BnyHCVmv8"
      },
      "execution_count": null,
      "outputs": []
    },
    {
      "cell_type": "code",
      "source": [
        "from typing import Any, Tuple\n",
        "from torch.utils.data import Dataset, DataLoader\n",
        "import torchvision.transforms as transforms\n",
        "from torchvision.transforms import ToTensor, Lambda\n",
        "\n",
        "\n",
        "batch_size = 32\n",
        "is_shuffle = True\n",
        "\n",
        "class CustomDataset(Dataset):\n",
        "    def __init__(\n",
        "        self, \n",
        "        data_reader: DataReader, \n",
        "        input_transform: Any = None, \n",
        "        target_transform: Any = None\n",
        "    ) -> None:\n",
        "        self.examples, self.labels = data_reader()\n",
        "        self.input_transform = input_transform\n",
        "        self.target_transform = target_transform\n",
        "\n",
        "    def __len__(self) -> int:\n",
        "        return len(self.labels)\n",
        "\n",
        "    def __getitem__(self, idx: int) -> Tuple[Tensor, float]:\n",
        "        example = self.examples[idx, :]\n",
        "        label = self.labels[idx]\n",
        "        if self.input_transform:\n",
        "            example = self._input_transform(example)\n",
        "        if self.target_transform:\n",
        "            label = self.target_transform(self)\n",
        "        return example, label"
      ],
      "metadata": {
        "id": "j6KHR3rvGGQi"
      },
      "execution_count": null,
      "outputs": []
    },
    {
      "cell_type": "markdown",
      "source": [
        "## Dataset & DataLoader"
      ],
      "metadata": {
        "id": "FE3NFGXRK2ly"
      }
    },
    {
      "cell_type": "code",
      "source": [],
      "metadata": {
        "id": "DNT_BYfJY2cV"
      },
      "execution_count": null,
      "outputs": []
    },
    {
      "cell_type": "code",
      "source": [
        "dataset = CustomDataset(\n",
        "    data_reader=housing_data_reader,\n",
        ")"
      ],
      "metadata": {
        "id": "8yZUvuNncDiP"
      },
      "execution_count": null,
      "outputs": []
    },
    {
      "cell_type": "code",
      "source": [
        "train_dataloader = DataLoader(train_dataset, batch_size=batch_size, shuffle=is_shuffle)\n",
        "test_dataloader = DataLoader(test_dataset, batch_size=batch_size, shuffle=is_shuffle)"
      ],
      "metadata": {
        "id": "6jx92pcuUb1B"
      },
      "execution_count": null,
      "outputs": []
    },
    {
      "cell_type": "code",
      "source": [
        "train_examples, train_labels = next(iter(train_dataloader))"
      ],
      "metadata": {
        "id": "peshC0Ifgl9M"
      },
      "execution_count": null,
      "outputs": []
    },
    {
      "cell_type": "code",
      "source": [
        "train_examples[:3]"
      ],
      "metadata": {
        "id": "MECPunOcD4jI"
      },
      "execution_count": null,
      "outputs": []
    },
    {
      "cell_type": "code",
      "source": [
        "float_feature_names = "
      ],
      "metadata": {
        "id": "XYKFeKNz6P9I"
      },
      "execution_count": null,
      "outputs": []
    },
    {
      "cell_type": "code",
      "source": [],
      "metadata": {
        "id": "p2U8hM71GgDN"
      },
      "execution_count": null,
      "outputs": []
    }
  ]
}