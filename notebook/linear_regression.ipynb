{
 "cells": [
  {
   "cell_type": "markdown",
   "metadata": {},
   "source": [
    "# Linear Regression with Implementation"
   ]
  },
  {
   "cell_type": "markdown",
   "metadata": {},
   "source": [
    "## Introduction"
   ]
  },
  {
   "cell_type": "markdown",
   "metadata": {},
   "source": [
    "## Linear Regression Model\n",
    "\n",
    "[To be continued.]"
   ]
  },
  {
   "cell_type": "code",
   "execution_count": 1,
   "metadata": {},
   "outputs": [],
   "source": [
    "from __future__ import absolute_import\n",
    "from __future__ import division\n",
    "from __future__ import print_function\n",
    "\n",
    "import random\n",
    "import numpy as np\n",
    "\n",
    "import torch\n",
    "import torch.nn as nn\n",
    "import torch.nn.functional as F\n",
    "import torch.optim as optim\n",
    "\n",
    "import tensorflow as tf\n",
    "\n",
    "import sys\n",
    "sys.path.append('../numpy/')\n",
    "\n",
    "from metrics import mean_squared_error\n",
    "\n",
    "np.random.seed(71)"
   ]
  },
  {
   "cell_type": "code",
   "execution_count": 2,
   "metadata": {},
   "outputs": [],
   "source": [
    "%load_ext autoreload\n",
    "%autoreload 2"
   ]
  },
  {
   "cell_type": "markdown",
   "metadata": {},
   "source": [
    "## California Housing Dataset and Preprocessing"
   ]
  },
  {
   "cell_type": "code",
   "execution_count": 3,
   "metadata": {},
   "outputs": [],
   "source": [
    "import sklearn\n",
    "from sklearn.datasets import fetch_california_housing\n",
    "from sklearn.model_selection import train_test_split\n",
    "from sklearn.preprocessing import MinMaxScaler"
   ]
  },
  {
   "cell_type": "code",
   "execution_count": 4,
   "metadata": {},
   "outputs": [],
   "source": [
    "# Read California housing data.\n",
    "housing = fetch_california_housing()\n",
    "X = housing.data\n",
    "y = housing.target"
   ]
  },
  {
   "cell_type": "code",
   "execution_count": 5,
   "metadata": {},
   "outputs": [
    {
     "data": {
      "text/plain": [
       "((20640, 8), (20640,))"
      ]
     },
     "execution_count": 5,
     "metadata": {},
     "output_type": "execute_result"
    }
   ],
   "source": [
    "X.shape, y.shape"
   ]
  },
  {
   "cell_type": "code",
   "execution_count": 6,
   "metadata": {},
   "outputs": [
    {
     "name": "stdout",
     "output_type": "stream",
     "text": [
      "['MedInc', 'HouseAge', 'AveRooms', 'AveBedrms', 'Population', 'AveOccup', 'Latitude', 'Longitude']\n"
     ]
    },
    {
     "data": {
      "text/plain": [
       "array([[ 8.32520000e+00,  4.10000000e+01,  6.98412698e+00,\n",
       "         1.02380952e+00,  3.22000000e+02,  2.55555556e+00,\n",
       "         3.78800000e+01, -1.22230000e+02],\n",
       "       [ 8.30140000e+00,  2.10000000e+01,  6.23813708e+00,\n",
       "         9.71880492e-01,  2.40100000e+03,  2.10984183e+00,\n",
       "         3.78600000e+01, -1.22220000e+02],\n",
       "       [ 7.25740000e+00,  5.20000000e+01,  8.28813559e+00,\n",
       "         1.07344633e+00,  4.96000000e+02,  2.80225989e+00,\n",
       "         3.78500000e+01, -1.22240000e+02]])"
      ]
     },
     "execution_count": 6,
     "metadata": {},
     "output_type": "execute_result"
    }
   ],
   "source": [
    "print(housing.feature_names)\n",
    "X[:3]"
   ]
  },
  {
   "cell_type": "code",
   "execution_count": 7,
   "metadata": {},
   "outputs": [
    {
     "name": "stdout",
     "output_type": "stream",
     "text": [
      "['MedHouseVal']\n"
     ]
    },
    {
     "data": {
      "text/plain": [
       "array([4.526, 3.585, 3.521])"
      ]
     },
     "execution_count": 7,
     "metadata": {},
     "output_type": "execute_result"
    }
   ],
   "source": [
    "print(housing.target_names)\n",
    "y[:3]"
   ]
  },
  {
   "cell_type": "code",
   "execution_count": 8,
   "metadata": {},
   "outputs": [],
   "source": [
    "# Split data into training and test datasets.\n",
    "X_train_raw, X_test_raw, y_train, y_test = train_test_split(\n",
    "    X, y, test_size=0.25, random_state=71, shuffle=True)"
   ]
  },
  {
   "cell_type": "code",
   "execution_count": 9,
   "metadata": {},
   "outputs": [
    {
     "name": "stdout",
     "output_type": "stream",
     "text": [
      "(15480, 8) (15480,)\n",
      "(5160, 8) (5160,)\n"
     ]
    }
   ],
   "source": [
    "print(X_train_raw.shape, y_train.shape)\n",
    "print(X_test_raw.shape, y_test.shape)"
   ]
  },
  {
   "cell_type": "code",
   "execution_count": 10,
   "metadata": {},
   "outputs": [],
   "source": [
    "# Feature engineering for standardizing features by min-max scaler.\n",
    "min_max_scaler = MinMaxScaler()\n",
    "\n",
    "X_train = min_max_scaler.fit_transform(X_train_raw)\n",
    "X_test = min_max_scaler.transform(X_test_raw)"
   ]
  },
  {
   "cell_type": "code",
   "execution_count": 11,
   "metadata": {},
   "outputs": [],
   "source": [
    "# Convert arrays to float32.\n",
    "X_train, X_test, y_train, y_test = (\n",
    "    np.float32(X_train), np.float32(X_test), np.float32(y_train), np.float32(y_test))"
   ]
  },
  {
   "cell_type": "code",
   "execution_count": 12,
   "metadata": {},
   "outputs": [
    {
     "data": {
      "text/plain": [
       "(dtype('float32'), dtype('float32'))"
      ]
     },
     "execution_count": 12,
     "metadata": {},
     "output_type": "execute_result"
    }
   ],
   "source": [
    "X_train.dtype, y_train.dtype"
   ]
  },
  {
   "cell_type": "markdown",
   "metadata": {},
   "source": [
    "## Numpy Implementation of Linear Regression"
   ]
  },
  {
   "cell_type": "code",
   "execution_count": 2,
   "metadata": {},
   "outputs": [],
   "source": [
    "class LinearRegression(object):\n",
    "    \"\"\"Numpy implementation of Linear Regression.\"\"\"\n",
    "\n",
    "    def __init__(self, batch_size=64, lr=0.01, n_epochs=1000):\n",
    "        self.batch_size = batch_size\n",
    "        self.lr = lr\n",
    "        self.n_epochs = n_epochs\n",
    "\n",
    "    def get_data(self, X_train, y_train, shuffle=True):\n",
    "        \"\"\"Get dataset and information.\"\"\"\n",
    "        self.X_train = X_train\n",
    "        self.y_train = y_train\n",
    "\n",
    "        # Get the numbers of examples and inputs.\n",
    "        self.n_examples, self.n_inputs = self.X_train.shape\n",
    "\n",
    "        if shuffle:\n",
    "            idx = list(range(self.n_examples))\n",
    "            random.shuffle(idx)\n",
    "            self.X_train = self.X_train[idx]\n",
    "            self.y_train = self.y_train[idx]\n",
    "\n",
    "    def _create_weights(self):\n",
    "        \"\"\"Create model weights and bias.\"\"\"\n",
    "        self.w = np.zeros(self.n_inputs).reshape(self.n_inputs, 1)\n",
    "        self.b = np.zeros(1).reshape(1, 1)\n",
    "\n",
    "    def _model(self, X):\n",
    "        \"\"\"Linear regression model.\"\"\"\n",
    "        return np.matmul(X, self.w) + self.b\n",
    "\n",
    "    def _loss(self, y, y_):\n",
    "        \"\"\"Squared error loss.\n",
    "\n",
    "        # squared_error_loss(y, y_) \n",
    "        #   = 1/n * \\sum_{i=1}^n (y_i - y__i)^2\n",
    "        \"\"\"\n",
    "        self.squared_error = np.square(y - y_)\n",
    "        return np.mean(self.squared_error)\n",
    "\n",
    "    def _optimize(self, X, y):\n",
    "        \"\"\"Optimize by stochastic gradient descent.\"\"\"\n",
    "        m = X.shape[0]\n",
    "\n",
    "        y_ = self._model(X) \n",
    "        dw = 1 / m * np.matmul(X.T, y_ - y)\n",
    "        db = np.mean(y_ - y)\n",
    "\n",
    "        for (param, grad) in zip([self.w, self.b], [dw, db]):\n",
    "            param[:] = param - self.lr * grad\n",
    "\n",
    "    def _fetch_batch(self):\n",
    "        \"\"\"Fetch batch dataset.\"\"\"\n",
    "        idx = list(range(self.n_examples))\n",
    "        for i in range(0, self.n_examples, self.batch_size):\n",
    "            idx_batch = idx[i:min(i + self.batch_size, self.n_examples)]\n",
    "            yield (self.X_train.take(idx_batch, axis=0), \n",
    "                   self.y_train.take(idx_batch, axis=0))\n",
    "\n",
    "    def fit(self):\n",
    "        \"\"\"Fit model.\"\"\"\n",
    "        self._create_weights()\n",
    "\n",
    "        for epoch in range(self.n_epochs):\n",
    "            total_loss = 0\n",
    "            for X_train_b, y_train_b in self._fetch_batch():\n",
    "                y_train_b = y_train_b.reshape((y_train_b.shape[0], -1))\n",
    "                self._optimize(X_train_b, y_train_b)\n",
    "                batch_loss = self._loss(y_train_b, self._model(X_train_b))\n",
    "                total_loss += batch_loss * X_train_b.shape[0]\n",
    "\n",
    "            if epoch % 100 == 0:\n",
    "                print('epoch {0}: training loss {1}'\n",
    "                      .format(epoch, total_loss / self.n_examples))\n",
    "\n",
    "        return self\n",
    "\n",
    "    def get_coeff(self):\n",
    "        \"\"\"Get model coefficients.\"\"\"\n",
    "        return self.b, self.w.reshape((-1,))\n",
    "\n",
    "    def predict(self, X):\n",
    "        \"\"\"Predict for new data.\"\"\"\n",
    "        return self._model(X).reshape((-1,))"
   ]
  },
  {
   "cell_type": "markdown",
   "metadata": {},
   "source": [
    "## Fitting Linear Regression in NumPy"
   ]
  },
  {
   "cell_type": "code",
   "execution_count": 31,
   "metadata": {},
   "outputs": [],
   "source": [
    "# Fit our Linear Regression.\n",
    "linreg = LinearRegression(batch_size=64, lr=0.1, n_epochs=1000)"
   ]
  },
  {
   "cell_type": "code",
   "execution_count": 32,
   "metadata": {},
   "outputs": [],
   "source": [
    "# Get datasets and build graph.\n",
    "linreg.get_data(X_train, y_train, shuffle=True)"
   ]
  },
  {
   "cell_type": "code",
   "execution_count": 33,
   "metadata": {},
   "outputs": [
    {
     "name": "stdout",
     "output_type": "stream",
     "text": [
      "epoch 0: training loss 1.1112243550186303\n",
      "epoch 100: training loss 0.5293946378389645\n",
      "epoch 200: training loss 0.5276262445563455\n",
      "epoch 300: training loss 0.5265699318710377\n",
      "epoch 400: training loss 0.5257132266662312\n",
      "epoch 500: training loss 0.5249696632239543\n",
      "epoch 600: training loss 0.5243109685544148\n",
      "epoch 700: training loss 0.523721149910845\n",
      "epoch 800: training loss 0.5231890446317738\n",
      "epoch 900: training loss 0.5227063340110083\n"
     ]
    },
    {
     "data": {
      "text/plain": [
       "<__main__.LinearRegression at 0x7f5c9271fb00>"
      ]
     },
     "execution_count": 33,
     "metadata": {},
     "output_type": "execute_result"
    }
   ],
   "source": [
    "linreg.fit()"
   ]
  },
  {
   "cell_type": "code",
   "execution_count": 34,
   "metadata": {},
   "outputs": [
    {
     "data": {
      "text/plain": [
       "(array([[3.91335512]]),\n",
       " array([ 5.74626582,  0.52201095, -3.34398026,  8.43749893, -0.02363628,\n",
       "        -4.02147289, -4.14373717, -4.55415946]))"
      ]
     },
     "execution_count": 34,
     "metadata": {},
     "output_type": "execute_result"
    }
   ],
   "source": [
    "# Get coefficient.\n",
    "linreg.get_coeff()"
   ]
  },
  {
   "cell_type": "code",
   "execution_count": 35,
   "metadata": {},
   "outputs": [
    {
     "data": {
      "text/plain": [
       "array([1.61946665, 1.46694212, 2.21882292, 3.81243392, 3.01226492,\n",
       "       2.00264181, 2.29643821, 1.04701723, 0.9864546 , 1.89761866])"
      ]
     },
     "execution_count": 35,
     "metadata": {},
     "output_type": "execute_result"
    }
   ],
   "source": [
    "# Predicted response for training data.\n",
    "y_train_ = linreg.predict(X_train)\n",
    "y_train_[:10]"
   ]
  },
  {
   "cell_type": "code",
   "execution_count": 36,
   "metadata": {},
   "outputs": [
    {
     "data": {
      "text/plain": [
       "0.5247249328649896"
      ]
     },
     "execution_count": 36,
     "metadata": {},
     "output_type": "execute_result"
    }
   ],
   "source": [
    "# Prediction squared error for training data.\n",
    "mean_squared_error(y_train, y_train_)"
   ]
  },
  {
   "cell_type": "code",
   "execution_count": 37,
   "metadata": {},
   "outputs": [
    {
     "data": {
      "text/plain": [
       "array([1.74171823, 2.90144268, 2.34501091, 2.83412597, 2.96352553,\n",
       "       1.71128246, 2.18785575, 2.78037396, 2.10717648, 1.65409458])"
      ]
     },
     "execution_count": 37,
     "metadata": {},
     "output_type": "execute_result"
    }
   ],
   "source": [
    "# Predicted response for test data.\n",
    "y_test_ = linreg.predict(X_test)\n",
    "y_test_[:10]"
   ]
  },
  {
   "cell_type": "code",
   "execution_count": 38,
   "metadata": {},
   "outputs": [
    {
     "data": {
      "text/plain": [
       "0.5452821804831438"
      ]
     },
     "execution_count": 38,
     "metadata": {},
     "output_type": "execute_result"
    }
   ],
   "source": [
    "# Prediction accuracy for test data.\n",
    "mean_squared_error(y_test, y_test_)"
   ]
  },
  {
   "cell_type": "markdown",
   "metadata": {},
   "source": [
    "## PyTorch Implementation of Linear Regression"
   ]
  },
  {
   "cell_type": "code",
   "execution_count": 23,
   "metadata": {},
   "outputs": [],
   "source": [
    "class LinearRegressionTorch(nn.Module):\n",
    "    \"\"\"PyTorch implementation of Linear Regression.\"\"\"\n",
    "\n",
    "    def __init__(self, batch_size=64, lr=0.01, n_epochs=1000):\n",
    "        super(LinearRegressionTorch, self).__init__()\n",
    "        self.batch_size = batch_size\n",
    "        self.lr = lr\n",
    "        self.n_epochs = n_epochs\n",
    "\n",
    "    def get_data(self, X_train, y_train, shuffle=True):\n",
    "        \"\"\"Get dataset and information.\"\"\"\n",
    "        self.X_train = X_train\n",
    "        self.y_train = y_train\n",
    "\n",
    "        # Get the numbers of examples and inputs.\n",
    "        self.n_examples, self.n_inputs = self.X_train.shape\n",
    "\n",
    "        if shuffle:\n",
    "            idx = list(range(self.n_examples))\n",
    "            random.shuffle(idx)\n",
    "            self.X_train = self.X_train[idx]\n",
    "            self.y_train = self.y_train[idx]\n",
    "\n",
    "    def _create_model(self):\n",
    "        \"\"\"Create linear regression model.\"\"\"\n",
    "        self.fc = nn.Linear(self.n_inputs, 1)\n",
    "\n",
    "    def forward(self, x):\n",
    "        \"\"\"Foward to output model.\"\"\"\n",
    "        y = self.fc(x)\n",
    "        return y\n",
    "\n",
    "    def _create_loss(self):\n",
    "        \"\"\"Create squared error loss.\"\"\"\n",
    "        self.criterion = nn.MSELoss()\n",
    "\n",
    "    def _create_optimizer(self):\n",
    "        \"\"\"Create optimizer by stochastic gradient descent.\"\"\"\n",
    "        self.optimizer = optim.SGD(self.parameters(), lr=self.lr)\n",
    "\n",
    "    def build(self):\n",
    "        \"\"\"Build computational graph.\"\"\"\n",
    "        self._create_model()\n",
    "        self._create_loss()\n",
    "        self._create_optimizer()\n",
    "\n",
    "    def _fetch_batch(self):\n",
    "        \"\"\"Fetch batch dataset.\"\"\"\n",
    "        idx = list(range(self.n_examples))\n",
    "        for i in range(0, self.n_examples, self.batch_size):\n",
    "            idx_batch = idx[i:min(i + self.batch_size, self.n_examples)]\n",
    "            yield (self.X_train.take(idx_batch, axis=0), \n",
    "                   self.y_train.take(idx_batch, axis=0))\n",
    "\n",
    "    def fit(self):\n",
    "        \"\"\"Fit model.\"\"\"\n",
    "        for epoch in range(1, self.n_epochs + 1):\n",
    "            total_loss = 0\n",
    "            for X_train_b, y_train_b in self._fetch_batch():\n",
    "                # Convert to Tensor from NumPy array and reshape ys.\n",
    "                X_train_b, y_train_b = (\n",
    "                    torch.from_numpy(X_train_b), \n",
    "                    torch.from_numpy(y_train_b).view(-1, 1))\n",
    "\n",
    "                y_pred_b = self.forward(X_train_b)\n",
    "                loss = self.criterion(y_pred_b, y_train_b)\n",
    "                total_loss += loss * X_train_b.shape[0]\n",
    "\n",
    "                # Zero grads, performs backward pass, and update weights.\n",
    "                self.optimizer.zero_grad()\n",
    "                loss.backward()\n",
    "                self.optimizer.step()\n",
    "\n",
    "            if epoch % 100 == 0:\n",
    "                print('Epoch {0}: training loss: {1}'\n",
    "                      .format(epoch, total_loss / self.n_examples))\n",
    "\n",
    "    def get_coeff(self):\n",
    "        \"\"\"Get model coefficients.\"\"\"\n",
    "        # Detach var which require grad.\n",
    "        return (self.fc.bias.detach().numpy(),\n",
    "                self.fc.weight.detach().numpy())\n",
    "\n",
    "    def predict(self, X):\n",
    "        \"\"\"Predict for new data.\"\"\"\n",
    "        with torch.no_grad():\n",
    "            X_ = torch.from_numpy(X)\n",
    "            return self.forward(X_).numpy().reshape((-1,))"
   ]
  },
  {
   "cell_type": "markdown",
   "metadata": {},
   "source": [
    "## Fitting Linear Regression in PyTorch"
   ]
  },
  {
   "cell_type": "code",
   "execution_count": 14,
   "metadata": {},
   "outputs": [],
   "source": [
    "# Fit our Linear Regression.\n",
    "linreg_torch = LinearRegressionTorch(batch_size=64, lr=0.1, n_epochs=1000)"
   ]
  },
  {
   "cell_type": "code",
   "execution_count": 15,
   "metadata": {},
   "outputs": [],
   "source": [
    "linreg_torch.get_data(X_train, y_train, shuffle=True)"
   ]
  },
  {
   "cell_type": "code",
   "execution_count": 16,
   "metadata": {},
   "outputs": [],
   "source": [
    "linreg_torch.build()"
   ]
  },
  {
   "cell_type": "code",
   "execution_count": 17,
   "metadata": {},
   "outputs": [
    {
     "name": "stdout",
     "output_type": "stream",
     "text": [
      "Epoch 100: training loss: 0.532164972235066\n",
      "Epoch 200: training loss: 0.5302024562537516\n",
      "Epoch 300: training loss: 0.5287801793379378\n",
      "Epoch 400: training loss: 0.5276440650609728\n",
      "Epoch 500: training loss: 0.526711362738942\n",
      "Epoch 600: training loss: 0.525933820425078\n",
      "Epoch 700: training loss: 0.525280215481455\n",
      "Epoch 800: training loss: 0.5247281541503985\n",
      "Epoch 900: training loss: 0.5242606995949758\n",
      "Epoch 1000: training loss: 0.5238643141371951\n"
     ]
    }
   ],
   "source": [
    "linreg_torch.fit()"
   ]
  },
  {
   "cell_type": "code",
   "execution_count": 18,
   "metadata": {},
   "outputs": [
    {
     "data": {
      "text/plain": [
       "(array([3.8662462], dtype=float32),\n",
       " array([[ 5.9429622e+00,  5.2768230e-01, -7.0084615e+00,  1.2826800e+01,\n",
       "         -7.5929281e-03, -4.6167784e+00, -4.1026435e+00, -4.4358959e+00]],\n",
       "       dtype=float32))"
      ]
     },
     "execution_count": 18,
     "metadata": {},
     "output_type": "execute_result"
    }
   ],
   "source": [
    "# Get coefficient.\n",
    "linreg_torch.get_coeff()"
   ]
  },
  {
   "cell_type": "code",
   "execution_count": 19,
   "metadata": {},
   "outputs": [
    {
     "data": {
      "text/plain": [
       "array([1.6682272, 1.5375609, 2.2854958, 3.855796 , 3.0556676, 2.0770369,\n",
       "       2.32626  , 1.0982981, 1.0671127, 1.968696 ], dtype=float32)"
      ]
     },
     "execution_count": 19,
     "metadata": {},
     "output_type": "execute_result"
    }
   ],
   "source": [
    "# Predicted response for training data.\n",
    "y_train_ = linreg_torch.predict(X_train)\n",
    "y_train_[:10]"
   ]
  },
  {
   "cell_type": "code",
   "execution_count": 20,
   "metadata": {},
   "outputs": [
    {
     "data": {
      "text/plain": [
       "0.5256628"
      ]
     },
     "execution_count": 20,
     "metadata": {},
     "output_type": "execute_result"
    }
   ],
   "source": [
    "# Prediction squared error for training data.\n",
    "mean_squared_error(y_train, y_train_)"
   ]
  },
  {
   "cell_type": "code",
   "execution_count": 21,
   "metadata": {},
   "outputs": [
    {
     "data": {
      "text/plain": [
       "array([1.7838631, 2.930702 , 2.400587 , 2.8542545, 3.0089793, 1.798037 ,\n",
       "       2.2319884, 2.7995212, 2.1735897, 1.7323658], dtype=float32)"
      ]
     },
     "execution_count": 21,
     "metadata": {},
     "output_type": "execute_result"
    }
   ],
   "source": [
    "# Predicted response for test data.\n",
    "y_test_ = linreg_torch.predict(X_test)\n",
    "y_test_[:10]"
   ]
  },
  {
   "cell_type": "code",
   "execution_count": 22,
   "metadata": {},
   "outputs": [
    {
     "data": {
      "text/plain": [
       "0.5455416"
      ]
     },
     "execution_count": 22,
     "metadata": {},
     "output_type": "execute_result"
    }
   ],
   "source": [
    "# Prediction accuracy for test data.\n",
    "mean_squared_error(y_test, y_test_)"
   ]
  },
  {
   "cell_type": "markdown",
   "metadata": {},
   "source": [
    "## TensorFlow Implementation of Logistic Regression"
   ]
  },
  {
   "cell_type": "code",
   "execution_count": 78,
   "metadata": {},
   "outputs": [],
   "source": [
    "def reset_tf_graph(seed=71):\n",
    "    \"\"\"Reset default TensorFlow graph.\"\"\"\n",
    "    tf.reset_default_graph()\n",
    "    tf.set_random_seed(seed)\n",
    "    np.random.seed(seed)\n",
    "\n",
    "\n",
    "class LinearRegressionTF(object):\n",
    "    \"\"\"A TensorFlow implementation of Linear Regression.\"\"\"\n",
    "\n",
    "    def __init__(self, batch_size=64, learning_rate=0.01, n_epochs=1000):\n",
    "        self.batch_size = batch_size\n",
    "        self.n_epochs = n_epochs\n",
    "        self.learning_rate = learning_rate\n",
    "\n",
    "    def get_data(self, X_train, y_train, shuffle=True):\n",
    "        \"\"\"Get dataset and information.s\"\"\"\n",
    "        self.X_train = X_train\n",
    "        self.y_train = y_train\n",
    "\n",
    "        # Get the numbers of examples and inputs.\n",
    "        self.n_examples, self.n_inputs = self.X_train.shape\n",
    "\n",
    "        idx = list(range(self.n_examples))\n",
    "        if shuffle:\n",
    "            random.shuffle(idx)\n",
    "        self.X_train = self.X_train[idx]\n",
    "        self.y_train = self.y_train[idx]\n",
    "\n",
    "    def _create_placeholders(self):\n",
    "        \"\"\"Create placeholder for features and response.\"\"\"\n",
    "        self.X = tf.placeholder(tf.float32, shape=(None, self.n_inputs), name='X')\n",
    "        self.y = tf.placeholder(tf.float32, shape=(None, 1), name='y')\n",
    "\n",
    "    def _create_weights(self):\n",
    "        \"\"\"Create and initialize model weights and bias.\"\"\"\n",
    "        self.w = tf.get_variable(shape=[self.n_inputs, 1],\n",
    "                                 initializer=tf.random_normal_initializer(),\n",
    "                                 name='weights')\n",
    "        self.b = tf.get_variable(shape=[1],\n",
    "                                 initializer=tf.zeros_initializer(),\n",
    "                                 name='bias')\n",
    "\n",
    "    def _model(self, X):\n",
    "        \"\"\"Linear regression model.\"\"\"\n",
    "        return tf.matmul(X, self.w) + self.b\n",
    "\n",
    "    def _create_model(self):\n",
    "        \"\"\"Create linear model.\"\"\"\n",
    "        self.y_ = self._model(self.X)\n",
    "\n",
    "    def _create_loss(self):\n",
    "        # Create mean squared error loss.\n",
    "        self.loss = tf.reduce_mean(tf.square(self.y_ - self.y), name='loss')\n",
    "\n",
    "    def _create_optimizer(self):\n",
    "        # Create gradient descent optimization.\n",
    "        self.optimizer = (\n",
    "            tf.train.GradientDescentOptimizer(learning_rate=self.learning_rate)\n",
    "            .minimize(self.loss))\n",
    "\n",
    "    def build_graph(self):\n",
    "        \"\"\"Build computational graph.\"\"\"\n",
    "        self._create_placeholders()\n",
    "        self._create_weights()\n",
    "        self._create_model()\n",
    "        self._create_loss()\n",
    "        self._create_optimizer()\n",
    "        self._sess = tf.Session()\n",
    "        \n",
    "    def _fetch_batch(self):\n",
    "        \"\"\"Fetch batch dataset.\"\"\"\n",
    "        idx = list(range(self.n_examples))\n",
    "        for i in range(0, self.n_examples, self.batch_size):\n",
    "            idx_batch = idx[i:min(i + self.batch_size, self.n_examples)]\n",
    "            yield (self.X_train[idx_batch, :], self.y_train[idx_batch].reshape(-1, 1))\n",
    "\n",
    "    def fit(self):\n",
    "        \"\"\"Fit model.\"\"\"\n",
    "        with tf.Session() as sess:\n",
    "            sess.run(tf.global_variables_initializer())\n",
    "            saver = tf.train.Saver()\n",
    "\n",
    "            for epoch in range(1, self.n_epochs + 1):\n",
    "                total_loss = 0\n",
    "                for X_train_b, y_train_b in self._fetch_batch():\n",
    "                    feed_dict = {self.X: X_train_b, self.y: y_train_b}\n",
    "                    _, batch_loss = sess.run([self.optimizer, self.loss],\n",
    "                                             feed_dict=feed_dict)\n",
    "                    total_loss += batch_loss * X_train_b.shape[0]\n",
    "\n",
    "                if epoch % 100 == 0:\n",
    "                    print('Epoch {0}: training loss: {1}'\n",
    "                          .format(epoch, total_loss / self.n_examples))\n",
    "\n",
    "            # Save model.\n",
    "            saver.save(sess, 'checkpoints/linreg')\n",
    "\n",
    "    def get_coeff(self):\n",
    "        \"\"\"Get model coefficients.\"\"\"\n",
    "        with tf.Session() as sess:\n",
    "            sess.run(tf.global_variables_initializer())\n",
    "            # Load model.\n",
    "            saver = tf.train.Saver()\n",
    "            saver.restore(sess, 'checkpoints/linreg')\n",
    "            return self.b.eval(), self.w.eval().reshape((-1,))\n",
    "\n",
    "    def predict(self, X):\n",
    "        \"\"\"Predict for new data.\"\"\"\n",
    "        with tf.Session() as sess:\n",
    "            sess.run(tf.global_variables_initializer())\n",
    "            # Load model.\n",
    "            saver = tf.train.Saver()\n",
    "            saver.restore(sess, 'checkpoints/linreg')\n",
    "            return self._model(X).eval().reshape((-1,))"
   ]
  },
  {
   "cell_type": "markdown",
   "metadata": {},
   "source": [
    "## Fitting Logistic Regression in TensorFlow"
   ]
  },
  {
   "cell_type": "code",
   "execution_count": 79,
   "metadata": {},
   "outputs": [],
   "source": [
    "reset_tf_graph()\n",
    "\n",
    "linreg_tf = LinearRegressionTF(batch_size=64, learning_rate=0.1, n_epochs=1000)"
   ]
  },
  {
   "cell_type": "code",
   "execution_count": 80,
   "metadata": {},
   "outputs": [],
   "source": [
    "linreg_tf.get_data(X_train, y_train, shuffle=True)"
   ]
  },
  {
   "cell_type": "code",
   "execution_count": 81,
   "metadata": {},
   "outputs": [],
   "source": [
    "linreg_tf.build_graph()"
   ]
  },
  {
   "cell_type": "code",
   "execution_count": 82,
   "metadata": {},
   "outputs": [
    {
     "name": "stdout",
     "output_type": "stream",
     "text": [
      "Epoch 100: training loss: 0.5318002716669432\n"
     ]
    }
   ],
   "source": [
    "linreg_tf.fit()"
   ]
  },
  {
   "cell_type": "code",
   "execution_count": 83,
   "metadata": {},
   "outputs": [
    {
     "name": "stdout",
     "output_type": "stream",
     "text": [
      "INFO:tensorflow:Restoring parameters from checkpoints/linreg\n"
     ]
    },
    {
     "data": {
      "text/plain": [
       "(array([4.0444417], dtype=float32),\n",
       " array([ 5.538036  ,  0.5091248 ,  0.60153955,  3.3050392 , -0.07601314,\n",
       "        -2.0407913 , -4.2091565 , -4.606566  ], dtype=float32))"
      ]
     },
     "execution_count": 83,
     "metadata": {},
     "output_type": "execute_result"
    }
   ],
   "source": [
    "linreg_tf.get_coeff()"
   ]
  },
  {
   "cell_type": "code",
   "execution_count": 84,
   "metadata": {},
   "outputs": [
    {
     "name": "stdout",
     "output_type": "stream",
     "text": [
      "INFO:tensorflow:Restoring parameters from checkpoints/linreg\n",
      "[1.691546  1.5031507 2.256196  3.845348  3.0387218 2.0422158 2.3373241\n",
      " 1.0914235 0.9825156 1.9360917]\n"
     ]
    },
    {
     "data": {
      "text/plain": [
       "0.5322704"
      ]
     },
     "execution_count": 84,
     "metadata": {},
     "output_type": "execute_result"
    }
   ],
   "source": [
    "# Predicted probabilities for training data.\n",
    "y_train_ = linreg_tf.predict((tf.cast(X_train, dtype=tf.float32)))\n",
    "print(y_train_[:10])\n",
    "\n",
    "# Prediction mean squared error for training data.\n",
    "mean_squared_error(y_train, y_train_)"
   ]
  },
  {
   "cell_type": "code",
   "execution_count": 85,
   "metadata": {},
   "outputs": [
    {
     "name": "stdout",
     "output_type": "stream",
     "text": [
      "INFO:tensorflow:Restoring parameters from checkpoints/linreg\n",
      "[1.7712905 2.9779644 2.3958097 2.885332  3.0384543 1.7389159 2.2504058\n",
      " 2.8342211 2.1450553 1.6847153]\n"
     ]
    },
    {
     "data": {
      "text/plain": [
       "0.55203545"
      ]
     },
     "execution_count": 85,
     "metadata": {},
     "output_type": "execute_result"
    }
   ],
   "source": [
    "# Predicted probabilities for test data.\n",
    "y_test_ = linreg_tf.predict((tf.cast(X_test, dtype=tf.float32)))\n",
    "print(y_test_[:10])\n",
    "\n",
    "# Prediction mean squared error for training data.\n",
    "mean_squared_error(y_test, y_test_)"
   ]
  },
  {
   "cell_type": "markdown",
   "metadata": {},
   "source": [
    "## Benchmark with Sklearn's Linear Regression"
   ]
  },
  {
   "cell_type": "code",
   "execution_count": 30,
   "metadata": {},
   "outputs": [
    {
     "data": {
      "text/plain": [
       "LinearRegression()"
      ]
     },
     "execution_count": 30,
     "metadata": {},
     "output_type": "execute_result"
    }
   ],
   "source": [
    "# Fit sklearn's Logistic Regression.\n",
    "from sklearn.linear_model import LinearRegression as LinearRegressionSklearn\n",
    "\n",
    "linreg_sk = LinearRegressionSklearn()\n",
    "\n",
    "linreg_sk.fit(X_train, y_train.reshape(y_train.shape[0]))"
   ]
  },
  {
   "cell_type": "code",
   "execution_count": 31,
   "metadata": {},
   "outputs": [
    {
     "data": {
      "text/plain": [
       "(3.6417923,\n",
       " array([  6.348496  ,   0.5144263 , -14.455919  ,  21.595474  ,\n",
       "         -0.04895439,  -4.965696  ,  -3.9162228 ,  -4.3132935 ],\n",
       "       dtype=float32))"
      ]
     },
     "execution_count": 31,
     "metadata": {},
     "output_type": "execute_result"
    }
   ],
   "source": [
    "# Get coefficients.\n",
    "linreg_sk.intercept_, linreg_sk.coef_"
   ]
  },
  {
   "cell_type": "code",
   "execution_count": 32,
   "metadata": {},
   "outputs": [
    {
     "data": {
      "text/plain": [
       "array([1.5379176, 1.472091 , 2.2133121, 3.8295603, 3.0244732, 1.9933348,\n",
       "       2.263915 , 1.0535035, 1.0954115, 1.9086264], dtype=float32)"
      ]
     },
     "execution_count": 32,
     "metadata": {},
     "output_type": "execute_result"
    }
   ],
   "source": [
    "# Predicted labels for training data.\n",
    "y_train_ = linreg_sk.predict(X_train)\n",
    "y_train_[:10]"
   ]
  },
  {
   "cell_type": "code",
   "execution_count": 33,
   "metadata": {},
   "outputs": [
    {
     "data": {
      "text/plain": [
       "0.51953274"
      ]
     },
     "execution_count": 33,
     "metadata": {},
     "output_type": "execute_result"
    }
   ],
   "source": [
    "# Prediction squared error for training data.\n",
    "mean_squared_error(y_train, y_train_)"
   ]
  },
  {
   "cell_type": "code",
   "execution_count": 34,
   "metadata": {},
   "outputs": [
    {
     "data": {
      "text/plain": [
       "array([1.75787538, 2.8031482 , 2.30476246, 2.80146927, 2.87024621,\n",
       "       1.75832087, 2.11390826, 2.71989601, 2.10377988, 1.68258784])"
      ]
     },
     "execution_count": 34,
     "metadata": {},
     "output_type": "execute_result"
    }
   ],
   "source": [
    "# Predicted labels for test data.\n",
    "y_test_ = linreg_sk.predict(X_test)\n",
    "y_test_[:10]"
   ]
  },
  {
   "cell_type": "code",
   "execution_count": 35,
   "metadata": {},
   "outputs": [
    {
     "data": {
      "text/plain": [
       "0.5393498488643094"
      ]
     },
     "execution_count": 35,
     "metadata": {},
     "output_type": "execute_result"
    }
   ],
   "source": [
    "# # Prediction accuracy for test data.\n",
    "mean_squared_error(y_test, y_test_)"
   ]
  },
  {
   "cell_type": "code",
   "execution_count": null,
   "metadata": {},
   "outputs": [],
   "source": []
  }
 ],
 "metadata": {
  "kernelspec": {
   "display_name": "Python 3",
   "language": "python",
   "name": "python3"
  },
  "language_info": {
   "codemirror_mode": {
    "name": "ipython",
    "version": 3
   },
   "file_extension": ".py",
   "mimetype": "text/x-python",
   "name": "python",
   "nbconvert_exporter": "python",
   "pygments_lexer": "ipython3",
   "version": "3.6.9"
  }
 },
 "nbformat": 4,
 "nbformat_minor": 2
}
