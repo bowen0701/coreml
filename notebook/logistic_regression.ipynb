{
 "cells": [
  {
   "cell_type": "markdown",
   "metadata": {},
   "source": [
    "# Logistic Regression with Numpy Implementation"
   ]
  },
  {
   "cell_type": "markdown",
   "metadata": {},
   "source": [
    "## 1. Introduction\n",
    "\n",
    "Logistic regression is one of the most fundamental machine learning models for binary classification. I will summarize its methodology and implement it from scratch using NumPy.\n",
    "\n",
    "The problem we solve is **binary classification,** for example, the doctor would like to base on patients's features, including mean radius, mean texture, etc, to classify breat cancer into one of the following two case:\n",
    "\n",
    "- \"malignant\":  𝑦=1 \n",
    "- \"benign\":  𝑦=0 \n",
    "\n",
    "which correspond to serious and gentle case respectively.\n",
    "\n",
    "We will load the breast cancer data from scikit-learn as a toy dataset, and split the data into the training and test datasets."
   ]
  },
  {
   "cell_type": "markdown",
   "metadata": {},
   "source": [
    "## 2. Logistic Regression Model\n",
    "\n",
    "[To be continued.]"
   ]
  },
  {
   "cell_type": "markdown",
   "metadata": {},
   "source": [
    "## 3. Numpy Implementation of Logistic Regressio"
   ]
  },
  {
   "cell_type": "code",
   "execution_count": 1,
   "metadata": {},
   "outputs": [],
   "source": [
    "from __future__ import absolute_import\n",
    "from __future__ import division\n",
    "from __future__ import print_function\n",
    "\n",
    "import random\n",
    "import numpy as np\n",
    "\n",
    "import tensorflow as tf\n",
    "\n",
    "np.random.seed(71)"
   ]
  },
  {
   "cell_type": "code",
   "execution_count": 2,
   "metadata": {},
   "outputs": [],
   "source": [
    "class LogisticRegression(object):\n",
    "    \"\"\"Numpy implementation of Logistic Regression.\"\"\"\n",
    "    def __init__(self, batch_size=64, lr=0.01, n_epochs=1000):\n",
    "        self.batch_size = batch_size\n",
    "        self.lr = lr\n",
    "        self.n_epochs = n_epochs\n",
    "\n",
    "    def get_data(self, X_train, y_train, shuffle=True):\n",
    "        \"\"\"Get dataset and information.\"\"\"\n",
    "        self.X_train = X_train\n",
    "        self.y_train = y_train\n",
    "\n",
    "        # Get the numbers of examples and inputs.\n",
    "        self.n_examples, self.n_inputs = self.X_train.shape\n",
    "\n",
    "        if shuffle:\n",
    "            idx = list(range(self.n_examples))\n",
    "            random.shuffle(idx)\n",
    "            self.X_train = self.X_train[idx]\n",
    "            self.y_train = self.y_train[idx]\n",
    "\n",
    "    def _create_weights(self):\n",
    "        \"\"\"Create model weights and bias.\"\"\"\n",
    "        self.w = np.zeros(self.n_inputs).reshape(self.n_inputs, 1)\n",
    "        self.b = np.zeros(1).reshape(1, 1)\n",
    "\n",
    "    def _logit(self, X):\n",
    "        \"\"\"Logit: unnormalized log probability.\"\"\"\n",
    "        return np.matmul(X, self.w) + self.b\n",
    "\n",
    "    def _sigmoid(self, logit):\n",
    "        \"\"\"Sigmoid function by stabilization trick.\n",
    "\n",
    "        sigmoid(z) = 1 / (1 + exp(-z)) \n",
    "                   = exp(z) / (1 + exp(z)) * exp(z_max) / exp(z_max)\n",
    "                   = exp(z - z_max) / (exp(-z_max) + exp(z - z_max)),\n",
    "        where z is the logit, and z_max = z - max(0, z).\n",
    "        \"\"\"\n",
    "        logit_max = np.maximum(0, logit)\n",
    "        logit_stable = logit - logit_max\n",
    "        return np.exp(logit_stable) / (np.exp(-logit_max) + np.exp(logit_stable))\n",
    "    \n",
    "    def _model(self, X):\n",
    "        \"\"\"Logistic regression model.\"\"\"\n",
    "        logit = self._logit(X)\n",
    "        return self._sigmoid(logit)\n",
    "\n",
    "    def _loss(self, y, logit):\n",
    "        \"\"\"Cross entropy loss by stabilizaiton trick.\n",
    "\n",
    "        cross_entropy_loss(y, z) \n",
    "          = - 1/n * \\sum_{i=1}^n y_i * log p(y_i = 1|x_i) + (1 - y_i) * log p(y_i = 0|x_i)\n",
    "          = - 1/n * \\sum_{i=1}^n y_i * (z_i - log(1 + exp(z_i))) + (1 - y_i) * (-log(1 + exp(z_i))),\n",
    "        where z is the logit, z_max = z - max(0, z),\n",
    "          log p(y = 1|x)\n",
    "            = log (1 / (1 + exp(-z))) \n",
    "            = log (exp(z) / (1 + exp(z)))\n",
    "            = z - log(1 + exp(z))\n",
    "        and \n",
    "          log(1 + exp(z)) := logsumexp(z)\n",
    "            = log(exp(0) + exp(z))\n",
    "            = log(exp(0) + exp(z) * exp(z_max) / exp(z_max))\n",
    "            = z_max + log(exp(-z_max) + exp(z - z_max)).\n",
    "        \"\"\"\n",
    "        logit_max = np.maximum(0, logit)\n",
    "        logit_stable = logit - logit_max\n",
    "        logsumexp_stable = logit_max + np.log(np.exp(-logit_max) + np.exp(logit_stable))\n",
    "        self.cross_entropy = -(y * (logit - logsumexp_stable) + (1 - y) * (-logsumexp_stable))\n",
    "        return np.mean(self.cross_entropy)\n",
    "\n",
    "    def _optimize(self, X, y):\n",
    "        \"\"\"Optimize by stochastic gradient descent.\"\"\"\n",
    "        m = X.shape[0]\n",
    "\n",
    "        y_hat = self._model(X) \n",
    "        dw = 1 / m * np.matmul(X.T, y_hat - y)\n",
    "        db = np.mean(y_hat - y)\n",
    "\n",
    "        for (param, grad) in zip([self.w, self.b], [dw, db]):\n",
    "            param[:] = param - self.lr * grad\n",
    "\n",
    "    def _fetch_batch(self):\n",
    "        \"\"\"Fetch batch dataset.\"\"\"\n",
    "        idx = list(range(self.n_examples))\n",
    "        for i in range(0, self.n_examples, self.batch_size):\n",
    "            idx_batch = idx[i:min(i + self.batch_size, self.n_examples)]\n",
    "            yield (self.X_train.take(idx_batch, axis=0), self.y_train.take(idx_batch, axis=0))\n",
    "\n",
    "    def fit(self):\n",
    "        \"\"\"Fit model.\"\"\"\n",
    "        self._create_weights()\n",
    "\n",
    "        for epoch in range(1, self.n_epochs + 1):\n",
    "            total_loss = 0\n",
    "            for X_train_b, y_train_b in self._fetch_batch():\n",
    "                y_train_b = y_train_b.reshape((y_train_b.shape[0], -1))\n",
    "                self._optimize(X_train_b, y_train_b)\n",
    "                train_loss = self._loss(y_train_b, self._logit(X_train_b))\n",
    "                total_loss += train_loss * X_train_b.shape[0]\n",
    "\n",
    "            if epoch % 100 == 0:\n",
    "                print('epoch {0}: training loss {1}'.format(epoch, total_loss / self.n_examples))\n",
    "\n",
    "        return self\n",
    "\n",
    "    def get_coeff(self):\n",
    "        return self.b, self.w.reshape((-1,))\n",
    "\n",
    "    def predict(self, X):\n",
    "        return self._model(X).reshape((-1,))"
   ]
  },
  {
   "cell_type": "markdown",
   "metadata": {},
   "source": [
    "## 4. Data Preparation and Preprocessing"
   ]
  },
  {
   "cell_type": "code",
   "execution_count": 3,
   "metadata": {},
   "outputs": [],
   "source": [
    "import sklearn\n",
    "from sklearn.datasets import load_breast_cancer\n",
    "from sklearn.model_selection import train_test_split\n",
    "from sklearn.preprocessing import MinMaxScaler\n",
    "from sklearn.linear_model import LogisticRegression as LogisticRegressionSklearn\n",
    "\n",
    "# https://github.com/bowen0701/machine-learning/blob/master/metrics.py\n",
    "from metrics import accuracy"
   ]
  },
  {
   "cell_type": "code",
   "execution_count": 4,
   "metadata": {},
   "outputs": [],
   "source": [
    "%load_ext autoreload\n",
    "%autoreload 2"
   ]
  },
  {
   "cell_type": "code",
   "execution_count": 5,
   "metadata": {},
   "outputs": [],
   "source": [
    "# Read breast cancer data.\n",
    "X, y = load_breast_cancer(return_X_y=True)"
   ]
  },
  {
   "cell_type": "code",
   "execution_count": 6,
   "metadata": {},
   "outputs": [
    {
     "data": {
      "text/plain": [
       "((569, 30), (569,))"
      ]
     },
     "execution_count": 6,
     "metadata": {},
     "output_type": "execute_result"
    }
   ],
   "source": [
    "X.shape, y.shape"
   ]
  },
  {
   "cell_type": "code",
   "execution_count": 7,
   "metadata": {},
   "outputs": [
    {
     "data": {
      "text/plain": [
       "array([[1.799e+01, 1.038e+01, 1.228e+02, 1.001e+03, 1.184e-01, 2.776e-01,\n",
       "        3.001e-01, 1.471e-01, 2.419e-01, 7.871e-02, 1.095e+00, 9.053e-01,\n",
       "        8.589e+00, 1.534e+02, 6.399e-03, 4.904e-02, 5.373e-02, 1.587e-02,\n",
       "        3.003e-02, 6.193e-03, 2.538e+01, 1.733e+01, 1.846e+02, 2.019e+03,\n",
       "        1.622e-01, 6.656e-01, 7.119e-01, 2.654e-01, 4.601e-01, 1.189e-01],\n",
       "       [2.057e+01, 1.777e+01, 1.329e+02, 1.326e+03, 8.474e-02, 7.864e-02,\n",
       "        8.690e-02, 7.017e-02, 1.812e-01, 5.667e-02, 5.435e-01, 7.339e-01,\n",
       "        3.398e+00, 7.408e+01, 5.225e-03, 1.308e-02, 1.860e-02, 1.340e-02,\n",
       "        1.389e-02, 3.532e-03, 2.499e+01, 2.341e+01, 1.588e+02, 1.956e+03,\n",
       "        1.238e-01, 1.866e-01, 2.416e-01, 1.860e-01, 2.750e-01, 8.902e-02],\n",
       "       [1.969e+01, 2.125e+01, 1.300e+02, 1.203e+03, 1.096e-01, 1.599e-01,\n",
       "        1.974e-01, 1.279e-01, 2.069e-01, 5.999e-02, 7.456e-01, 7.869e-01,\n",
       "        4.585e+00, 9.403e+01, 6.150e-03, 4.006e-02, 3.832e-02, 2.058e-02,\n",
       "        2.250e-02, 4.571e-03, 2.357e+01, 2.553e+01, 1.525e+02, 1.709e+03,\n",
       "        1.444e-01, 4.245e-01, 4.504e-01, 2.430e-01, 3.613e-01, 8.758e-02]])"
      ]
     },
     "execution_count": 7,
     "metadata": {},
     "output_type": "execute_result"
    }
   ],
   "source": [
    "X[:3]"
   ]
  },
  {
   "cell_type": "code",
   "execution_count": 8,
   "metadata": {},
   "outputs": [
    {
     "data": {
      "text/plain": [
       "array([0, 0, 0])"
      ]
     },
     "execution_count": 8,
     "metadata": {},
     "output_type": "execute_result"
    }
   ],
   "source": [
    "y[:3]"
   ]
  },
  {
   "cell_type": "code",
   "execution_count": 9,
   "metadata": {},
   "outputs": [],
   "source": [
    "# Split data into training and test datasets.\n",
    "X_train_raw, X_test_raw, y_train, y_test = train_test_split(\n",
    "    X, y, test_size=0.25, random_state=71, shuffle=True, stratify=y)"
   ]
  },
  {
   "cell_type": "code",
   "execution_count": 10,
   "metadata": {},
   "outputs": [
    {
     "name": "stdout",
     "output_type": "stream",
     "text": [
      "(426, 30) (426,)\n",
      "(143, 30) (143,)\n"
     ]
    }
   ],
   "source": [
    "print(X_train_raw.shape, y_train.shape)\n",
    "print(X_test_raw.shape, y_test.shape)"
   ]
  },
  {
   "cell_type": "code",
   "execution_count": 11,
   "metadata": {},
   "outputs": [],
   "source": [
    "# Feature engineering for standardizing features by min-max scaler.\n",
    "min_max_scaler = MinMaxScaler()\n",
    "\n",
    "X_train = min_max_scaler.fit_transform(X_train_raw)\n",
    "X_test = min_max_scaler.transform(X_test_raw)"
   ]
  },
  {
   "cell_type": "markdown",
   "metadata": {},
   "source": [
    "## 4. Fitting Logistic Regression Model in NumPy"
   ]
  },
  {
   "cell_type": "code",
   "execution_count": 12,
   "metadata": {},
   "outputs": [],
   "source": [
    "# Fit our Logistic Regression.\n",
    "logreg = LogisticRegression(batch_size=64, lr=1, n_epochs=1000)"
   ]
  },
  {
   "cell_type": "code",
   "execution_count": 13,
   "metadata": {},
   "outputs": [],
   "source": [
    "# Get datasets and build graph.\n",
    "logreg.get_data(X_train, y_train, shuffle=True)"
   ]
  },
  {
   "cell_type": "code",
   "execution_count": 14,
   "metadata": {},
   "outputs": [
    {
     "name": "stdout",
     "output_type": "stream",
     "text": [
      "epoch 100: training loss 0.10456466985139058\n",
      "epoch 200: training loss 0.08454275854271842\n",
      "epoch 300: training loss 0.07561115239355952\n",
      "epoch 400: training loss 0.0702636372397006\n",
      "epoch 500: training loss 0.06660041224224467\n",
      "epoch 600: training loss 0.0638914445623842\n",
      "epoch 700: training loss 0.061786380368726364\n",
      "epoch 800: training loss 0.060092096861538206\n",
      "epoch 900: training loss 0.058691765447115934\n",
      "epoch 1000: training loss 0.057509888495680624\n"
     ]
    },
    {
     "data": {
      "text/plain": [
       "<__main__.LogisticRegression at 0x7f24f49bbbe0>"
      ]
     },
     "execution_count": 14,
     "metadata": {},
     "output_type": "execute_result"
    }
   ],
   "source": [
    "logreg.fit()"
   ]
  },
  {
   "cell_type": "code",
   "execution_count": 15,
   "metadata": {},
   "outputs": [
    {
     "data": {
      "text/plain": [
       "(array([[16.61994227]]),\n",
       " array([-1.45094384, -3.81486224, -1.49675265, -2.85222028, -1.45017268,\n",
       "         1.82808031, -4.44087703, -6.88854608, -1.53678875,  2.93587864,\n",
       "        -8.56454077, -0.37546048, -6.73106146, -5.07341344,  1.40602548,\n",
       "         4.26561307,  1.94790254,  0.75659349,  3.17227116,  3.30658046,\n",
       "        -5.49071379, -4.81287123, -4.94658563, -5.25744317, -3.2899024 ,\n",
       "        -0.73590151, -4.07843968, -5.26782034, -2.95677827, -1.44006302]))"
      ]
     },
     "execution_count": 15,
     "metadata": {},
     "output_type": "execute_result"
    }
   ],
   "source": [
    "# Get coefficient.\n",
    "logreg.get_coeff()"
   ]
  },
  {
   "cell_type": "code",
   "execution_count": 16,
   "metadata": {},
   "outputs": [
    {
     "data": {
      "text/plain": [
       "array([9.95932059e-01, 6.27440015e-13, 7.82163782e-05, 9.98234135e-01,\n",
       "       9.99168282e-01, 9.99484306e-01, 4.06757075e-03, 9.49753965e-04,\n",
       "       9.99960152e-01, 1.45174293e-02])"
      ]
     },
     "execution_count": 16,
     "metadata": {},
     "output_type": "execute_result"
    }
   ],
   "source": [
    "# Predicted probabilities for training data.\n",
    "p_train_hat = logreg.predict(X_train)\n",
    "p_train_hat[:10]"
   ]
  },
  {
   "cell_type": "code",
   "execution_count": 17,
   "metadata": {},
   "outputs": [
    {
     "data": {
      "text/plain": [
       "array([1, 0, 0])"
      ]
     },
     "execution_count": 17,
     "metadata": {},
     "output_type": "execute_result"
    }
   ],
   "source": [
    "# Predicted labels for training data.\n",
    "y_train_hat = (p_train_hat > 0.5) * 1\n",
    "y_train_hat[:3]"
   ]
  },
  {
   "cell_type": "code",
   "execution_count": 18,
   "metadata": {},
   "outputs": [
    {
     "data": {
      "text/plain": [
       "0.9859154929577465"
      ]
     },
     "execution_count": 18,
     "metadata": {},
     "output_type": "execute_result"
    }
   ],
   "source": [
    "# Prediction accuracy for training data.\n",
    "accuracy(y_train, y_train_hat)"
   ]
  },
  {
   "cell_type": "code",
   "execution_count": 19,
   "metadata": {},
   "outputs": [
    {
     "name": "stdout",
     "output_type": "stream",
     "text": [
      "[1.30044267e-04 9.99936193e-01 2.53575044e-03 9.96785575e-01\n",
      " 4.62043227e-05 9.99856986e-01 3.02064336e-06 9.99999601e-01\n",
      " 5.42619845e-01 5.92526998e-09]\n"
     ]
    }
   ],
   "source": [
    "# Predicted label correctness for test data.\n",
    "p_test_hat = logreg.predict(X_test)\n",
    "print(p_test_hat[:10])\n",
    "y_test_hat = (p_test_hat > 0.5) * 1"
   ]
  },
  {
   "cell_type": "code",
   "execution_count": 20,
   "metadata": {},
   "outputs": [
    {
     "data": {
      "text/plain": [
       "0.965034965034965"
      ]
     },
     "execution_count": 20,
     "metadata": {},
     "output_type": "execute_result"
    }
   ],
   "source": [
    "# Prediction accuracy for test data.\n",
    "accuracy(y_test, y_test_hat)"
   ]
  },
  {
   "cell_type": "markdown",
   "metadata": {},
   "source": [
    "## Fitting Logistic Regression Model in TensorFlow"
   ]
  },
  {
   "cell_type": "code",
   "execution_count": 21,
   "metadata": {},
   "outputs": [],
   "source": [
    "def reset_tf_graph(seed=71):\n",
    "    \"\"\"Reset default TensorFlow graph.\"\"\"\n",
    "    tf.reset_default_graph()\n",
    "    tf.set_random_seed(seed)\n",
    "    np.random.seed(seed)\n",
    "\n",
    "\n",
    "class LogisticRegressionTF(object):\n",
    "    \"\"\"A TensorFlow implementation of Logistic Regression.\"\"\"\n",
    "    def __init__(self, batch_size=64, learning_rate=0.01, n_epochs=1000):\n",
    "        self.batch_size = batch_size\n",
    "        self.n_epochs = n_epochs\n",
    "        self.learning_rate = learning_rate\n",
    "\n",
    "    def get_data(self, X_train, y_train, shuffle=True):\n",
    "        \"\"\"Get dataset and information.\"\"\"\n",
    "        self.X_train = X_train\n",
    "        self.y_train = y_train\n",
    "\n",
    "        # Get the numbers of examples and inputs.\n",
    "        self.n_examples, self.n_inputs = self.X_train.shape\n",
    "\n",
    "        idx = list(range(self.n_examples))\n",
    "        if shuffle:\n",
    "            random.shuffle(idx)\n",
    "        self.X_train = self.X_train[idx]\n",
    "        self.y_train = self.y_train[idx]\n",
    "\n",
    "    def _create_placeholders(self):\n",
    "        \"\"\"Create placeholder for features and labels.\"\"\"\n",
    "        self.X = tf.placeholder(tf.float32, shape=(None, self.n_inputs), name='X')\n",
    "        self.y = tf.placeholder(tf.float32, shape=(None, 1), name='y')\n",
    "\n",
    "    def _create_weights(self):\n",
    "        \"\"\"Create and initialize model weights and bias.\"\"\"\n",
    "        self.w = tf.get_variable(shape=[self.n_inputs, 1],\n",
    "                                 initializer=tf.random_normal_initializer(),\n",
    "                                 name='weights')\n",
    "        self.b = tf.get_variable(shape=[1],\n",
    "                                 initializer=tf.zeros_initializer(),\n",
    "                                 name='bias')\n",
    "\n",
    "    def _create_model(self):\n",
    "        # Create logistic regression model.\n",
    "        self.logits = tf.matmul(self.X, self.w) + self.b\n",
    "\n",
    "    def _create_loss(self):\n",
    "        # Create cross entropy loss.\n",
    "        self.cross_entropy = tf.nn.sigmoid_cross_entropy_with_logits(\n",
    "            labels=self.y,\n",
    "            logits=self.logits,\n",
    "            name='cross_entropy')\n",
    "        self.loss = tf.reduce_mean(self.cross_entropy, name='loss')\n",
    "\n",
    "    def _create_optimizer(self):\n",
    "        # Create gradient descent optimization.\n",
    "        self.optimizer = (\n",
    "            tf.train.GradientDescentOptimizer(learning_rate=self.learning_rate)\n",
    "            .minimize(self.loss))\n",
    "\n",
    "    def build_graph(self):\n",
    "        \"\"\"Build computational graph.\"\"\"\n",
    "        self._create_placeholders()\n",
    "        self._create_weights()\n",
    "        self._create_model()\n",
    "        self._create_loss()\n",
    "        self._create_optimizer()\n",
    "\n",
    "    def _fetch_batch(self):\t\n",
    "        \"\"\"Fetch batch dataset.\"\"\"\n",
    "        idx = list(range(self.n_examples))\n",
    "        for i in range(0, self.n_examples, self.batch_size):\n",
    "            idx_batch = idx[i:min(i + self.batch_size, self.n_examples)]\n",
    "            yield (self.X_train[idx_batch, :], self.y_train[idx_batch].reshape(-1, 1))\n",
    "\n",
    "    def fit(self):\n",
    "        \"\"\"Fit model.\"\"\"\n",
    "        saver = tf.train.Saver()\n",
    "\n",
    "        with tf.Session() as sess:            \n",
    "            sess.run(tf.global_variables_initializer())\n",
    "\n",
    "            for epoch in range(1, self.n_epochs + 1):\n",
    "                total_loss = 0\n",
    "                for X_train_b, y_train_b in self._fetch_batch():\n",
    "                    feed_dict = {self.X: X_train_b, self.y: y_train_b}\n",
    "                    _, batch_loss = sess.run([self.optimizer, self.loss],\n",
    "                                             feed_dict=feed_dict)\n",
    "                    total_loss += batch_loss * X_train_b.shape[0]\n",
    "\n",
    "                if epoch % 100 == 0:\n",
    "                    print('Epoch {0}: training loss: {1}'\n",
    "                          .format(epoch, total_loss / self.n_examples))\n",
    "            \n",
    "            saver.save(sess, 'checkpoints/logreg')\n",
    "\n",
    "    def get_coeff(self):\n",
    "        with tf.Session() as sess:\n",
    "            sess.run(tf.global_variables_initializer())\n",
    "            saver = tf.train.Saver()\n",
    "            saver.restore(sess, 'checkpoints/logreg')\n",
    "            return self.b.eval(), self.w.eval().reshape((-1,))\n",
    "\n",
    "    def predict(self, X):\n",
    "        with tf.Session() as sess:\n",
    "            sess.run(tf.global_variables_initializer())\n",
    "            saver = tf.train.Saver()\n",
    "            saver.restore(sess, 'checkpoints/logreg')\n",
    "            logit = tf.matmul(X, self.w) + self.b\n",
    "            return tf.math.sigmoid(logit).eval().reshape((-1,))"
   ]
  },
  {
   "cell_type": "code",
   "execution_count": 22,
   "metadata": {},
   "outputs": [],
   "source": [
    "reset_tf_graph()\n",
    "logreg_tf = LogisticRegressionTF(batch_size=64, learning_rate=0.5, n_epochs=1000)"
   ]
  },
  {
   "cell_type": "code",
   "execution_count": 23,
   "metadata": {},
   "outputs": [],
   "source": [
    "logreg_tf.get_data(X_train, y_train, shuffle=True)"
   ]
  },
  {
   "cell_type": "code",
   "execution_count": 24,
   "metadata": {},
   "outputs": [
    {
     "name": "stdout",
     "output_type": "stream",
     "text": [
      "WARNING:tensorflow:From /usr/local/lib/python3.6/dist-packages/tensorflow_core/python/ops/nn_impl.py:183: where (from tensorflow.python.ops.array_ops) is deprecated and will be removed in a future version.\n",
      "Instructions for updating:\n",
      "Use tf.where in 2.0, which has the same broadcast rule as np.where\n"
     ]
    }
   ],
   "source": [
    "logreg_tf.build_graph()"
   ]
  },
  {
   "cell_type": "code",
   "execution_count": 25,
   "metadata": {},
   "outputs": [
    {
     "name": "stdout",
     "output_type": "stream",
     "text": [
      "Epoch 100: training loss: 0.13719805218104467\n",
      "Epoch 200: training loss: 0.10828811601853706\n",
      "Epoch 300: training loss: 0.09511217002717542\n",
      "Epoch 400: training loss: 0.08722939872196023\n",
      "Epoch 500: training loss: 0.08185168618047742\n",
      "Epoch 600: training loss: 0.07787678172121025\n",
      "Epoch 700: training loss: 0.07477609872678076\n",
      "Epoch 800: training loss: 0.07226316330018738\n",
      "Epoch 900: training loss: 0.0701683872759762\n",
      "Epoch 1000: training loss: 0.06838453190287513\n"
     ]
    }
   ],
   "source": [
    "logreg_tf.fit()"
   ]
  },
  {
   "cell_type": "code",
   "execution_count": 26,
   "metadata": {},
   "outputs": [
    {
     "name": "stdout",
     "output_type": "stream",
     "text": [
      "INFO:tensorflow:Restoring parameters from checkpoints/logreg\n"
     ]
    },
    {
     "data": {
      "text/plain": [
       "(array([13.518842], dtype=float32),\n",
       " array([-0.60454565, -3.3057246 , -1.1760776 , -2.0882204 , -0.48163176,\n",
       "         0.11896323, -3.6311114 , -7.1254606 , -0.89899117,  2.9703481 ,\n",
       "        -4.0901985 ,  0.06759447, -4.975697  , -3.87739   ,  0.50336784,\n",
       "         2.9898307 ,  2.4240577 ,  1.3707355 ,  2.603697  ,  2.8613107 ,\n",
       "        -4.6387215 , -3.9408128 , -4.4078298 , -4.3280563 , -2.6114717 ,\n",
       "        -1.0745198 , -3.2850072 , -4.7544265 , -2.617495  , -0.1330655 ],\n",
       "       dtype=float32))"
      ]
     },
     "execution_count": 26,
     "metadata": {},
     "output_type": "execute_result"
    }
   ],
   "source": [
    "logreg_tf.get_coeff()"
   ]
  },
  {
   "cell_type": "code",
   "execution_count": 27,
   "metadata": {},
   "outputs": [
    {
     "name": "stdout",
     "output_type": "stream",
     "text": [
      "INFO:tensorflow:Restoring parameters from checkpoints/logreg\n",
      "[9.9017012e-01 0.0000000e+00 3.0082464e-04 9.9545109e-01 9.9760723e-01\n",
      " 9.9868441e-01 7.2727203e-03 2.9811561e-03 9.9985558e-01 2.0369649e-02]\n",
      "[1 0 0 1 1 1 0 0 1 0]\n"
     ]
    },
    {
     "data": {
      "text/plain": [
       "0.9835680751173709"
      ]
     },
     "execution_count": 27,
     "metadata": {},
     "output_type": "execute_result"
    }
   ],
   "source": [
    "# Predicted probabilities for training data.\n",
    "p_train_hat = logreg_tf.predict((tf.cast(X_train, dtype=tf.float32)))\n",
    "print(p_train_hat[:10])\n",
    "\n",
    "# Predicted labels for training data.\n",
    "y_train_hat = (p_train_hat > 0.5) * 1\n",
    "print(y_train_hat[:10])\n",
    "\n",
    "# Prediction accuracy for training data.\n",
    "accuracy(y_train, y_train_hat)"
   ]
  },
  {
   "cell_type": "code",
   "execution_count": 28,
   "metadata": {},
   "outputs": [
    {
     "name": "stdout",
     "output_type": "stream",
     "text": [
      "INFO:tensorflow:Restoring parameters from checkpoints/logreg\n",
      "[9.4854832e-04 9.9966633e-01 2.2056878e-02 9.9703848e-01 3.2237172e-04\n",
      " 9.9953645e-01 2.4676323e-05 9.9999452e-01 5.3701270e-01 5.9604645e-08]\n"
     ]
    },
    {
     "data": {
      "text/plain": [
       "0.965034965034965"
      ]
     },
     "execution_count": 28,
     "metadata": {},
     "output_type": "execute_result"
    }
   ],
   "source": [
    "# Predicted probabilities for test data.\n",
    "p_test_hat = logreg_tf.predict((tf.cast(X_test, dtype=tf.float32)))\n",
    "print(p_test_hat[:10])\n",
    "\n",
    "# Predicted labels for training data.\n",
    "y_test_hat = (p_test_hat > 0.5) * 1\n",
    "y_test_hat[:3]\n",
    "\n",
    "# Prediction accuracy for training data.\n",
    "accuracy(y_test, y_test_hat)"
   ]
  },
  {
   "cell_type": "markdown",
   "metadata": {},
   "source": [
    "## 5. Fitting Sklearn's Logistic Regression as Benchmark"
   ]
  },
  {
   "cell_type": "code",
   "execution_count": 29,
   "metadata": {},
   "outputs": [
    {
     "data": {
      "text/plain": [
       "LogisticRegression(C=10000.0, max_iter=500)"
      ]
     },
     "execution_count": 29,
     "metadata": {},
     "output_type": "execute_result"
    }
   ],
   "source": [
    "# Fit sklearn's Logistic Regression.\n",
    "logreg_sk = LogisticRegressionSklearn(C=1e4, solver='lbfgs', max_iter=500)\n",
    "\n",
    "logreg_sk.fit(X_train, y_train)"
   ]
  },
  {
   "cell_type": "code",
   "execution_count": 30,
   "metadata": {},
   "outputs": [
    {
     "data": {
      "text/plain": [
       "(array([56.06250509]),\n",
       " array([[  53.5460616 ,  -27.2575739 ,   48.30697654,   10.5636878 ,\n",
       "          -14.75837806,   98.5009966 ,  -52.51936527,  -52.16906591,\n",
       "           -5.08742246,  -53.96348797,  -33.97198842,   -5.48905184,\n",
       "          -19.38885928,  -43.89981909,   38.75665922,  -51.43678914,\n",
       "           83.21007672,  -21.89925037,   14.96797392,   79.99757062,\n",
       "          -59.04206865,   -3.91791317,  -63.58395555, -103.96747709,\n",
       "           -7.9699581 ,   20.04904076,  -21.96650031,  -21.30939901,\n",
       "          -21.55187209,  -11.69936363]]))"
      ]
     },
     "execution_count": 30,
     "metadata": {},
     "output_type": "execute_result"
    }
   ],
   "source": [
    "# Get coefficients.\n",
    "logreg_sk.intercept_, logreg_sk.coef_"
   ]
  },
  {
   "cell_type": "code",
   "execution_count": 31,
   "metadata": {},
   "outputs": [
    {
     "data": {
      "text/plain": [
       "array([1, 0, 0])"
      ]
     },
     "execution_count": 31,
     "metadata": {},
     "output_type": "execute_result"
    }
   ],
   "source": [
    "# Predicted labels for training data.\n",
    "p_train_hat = logreg_sk.predict(X_train)\n",
    "p_train_hat[:3]"
   ]
  },
  {
   "cell_type": "code",
   "execution_count": 32,
   "metadata": {},
   "outputs": [],
   "source": [
    "y_train_hat = (p_train_hat > 0.5) * 1"
   ]
  },
  {
   "cell_type": "code",
   "execution_count": 33,
   "metadata": {},
   "outputs": [],
   "source": [
    "# Predicted label correctness for training data.\n",
    "# y_pred_train == y_train"
   ]
  },
  {
   "cell_type": "code",
   "execution_count": 34,
   "metadata": {},
   "outputs": [
    {
     "data": {
      "text/plain": [
       "1.0"
      ]
     },
     "execution_count": 34,
     "metadata": {},
     "output_type": "execute_result"
    }
   ],
   "source": [
    "# Prediction accuracy for training data.\n",
    "accuracy(y_train, y_train_hat)"
   ]
  },
  {
   "cell_type": "code",
   "execution_count": 35,
   "metadata": {},
   "outputs": [],
   "source": [
    "# Predicted label correctness for test data.\n",
    "p_test_hat = logreg_sk.predict(X_test)\n",
    "y_test_hat = (p_test_hat > 0.5) * 1"
   ]
  },
  {
   "cell_type": "code",
   "execution_count": 36,
   "metadata": {},
   "outputs": [
    {
     "data": {
      "text/plain": [
       "0.965034965034965"
      ]
     },
     "execution_count": 36,
     "metadata": {},
     "output_type": "execute_result"
    }
   ],
   "source": [
    "# # Prediction accuracy for test data.\n",
    "accuracy(y_test, y_test_hat)"
   ]
  },
  {
   "cell_type": "code",
   "execution_count": null,
   "metadata": {},
   "outputs": [],
   "source": []
  }
 ],
 "metadata": {
  "kernelspec": {
   "display_name": "Python 3",
   "language": "python",
   "name": "python3"
  },
  "language_info": {
   "codemirror_mode": {
    "name": "ipython",
    "version": 3
   },
   "file_extension": ".py",
   "mimetype": "text/x-python",
   "name": "python",
   "nbconvert_exporter": "python",
   "pygments_lexer": "ipython3",
   "version": "3.6.9"
  }
 },
 "nbformat": 4,
 "nbformat_minor": 2
}
