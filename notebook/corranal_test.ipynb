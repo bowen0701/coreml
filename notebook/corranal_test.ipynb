{
 "cells": [
  {
   "cell_type": "code",
   "execution_count": 1,
   "metadata": {
    "collapsed": true
   },
   "outputs": [],
   "source": [
    "from __future__ import division\n",
    "from __future__ import print_function\n",
    "\n",
    "import numpy as np\n",
    "import scipy as sp \n",
    "import pandas as pd"
   ]
  },
  {
   "cell_type": "code",
   "execution_count": 2,
   "metadata": {},
   "outputs": [
    {
     "data": {
      "text/html": [
       "<div>\n",
       "<table border=\"1\" class=\"dataframe\">\n",
       "  <thead>\n",
       "    <tr style=\"text-align: right;\">\n",
       "      <th></th>\n",
       "      <th>period</th>\n",
       "      <th>comma</th>\n",
       "      <th>others</th>\n",
       "    </tr>\n",
       "  </thead>\n",
       "  <tbody>\n",
       "    <tr>\n",
       "      <th>Rousseau</th>\n",
       "      <td>7836</td>\n",
       "      <td>13112</td>\n",
       "      <td>6026</td>\n",
       "    </tr>\n",
       "    <tr>\n",
       "      <th>Chateaubriand</th>\n",
       "      <td>53655</td>\n",
       "      <td>102383</td>\n",
       "      <td>42413</td>\n",
       "    </tr>\n",
       "    <tr>\n",
       "      <th>Hugo</th>\n",
       "      <td>115615</td>\n",
       "      <td>184541</td>\n",
       "      <td>59226</td>\n",
       "    </tr>\n",
       "    <tr>\n",
       "      <th>Zola</th>\n",
       "      <td>161926</td>\n",
       "      <td>340479</td>\n",
       "      <td>62754</td>\n",
       "    </tr>\n",
       "    <tr>\n",
       "      <th>Proust</th>\n",
       "      <td>38177</td>\n",
       "      <td>105101</td>\n",
       "      <td>12670</td>\n",
       "    </tr>\n",
       "    <tr>\n",
       "      <th>Giraudoux</th>\n",
       "      <td>46371</td>\n",
       "      <td>58367</td>\n",
       "      <td>14299</td>\n",
       "    </tr>\n",
       "    <tr>\n",
       "      <th>Aloz</th>\n",
       "      <td>2699</td>\n",
       "      <td>5675</td>\n",
       "      <td>1046</td>\n",
       "    </tr>\n",
       "  </tbody>\n",
       "</table>\n",
       "</div>"
      ],
      "text/plain": [
       "               period   comma  others\n",
       "Rousseau         7836   13112    6026\n",
       "Chateaubriand   53655  102383   42413\n",
       "Hugo           115615  184541   59226\n",
       "Zola           161926  340479   62754\n",
       "Proust          38177  105101   12670\n",
       "Giraudoux       46371   58367   14299\n",
       "Aloz             2699    5675    1046"
      ]
     },
     "execution_count": 2,
     "metadata": {},
     "output_type": "execute_result"
    }
   ],
   "source": [
    "author_data = {'period': [7836, 53655, 115615, 161926, 38177, 46371, 2699],\n",
    "               'comma': [13112, 102383, 184541, 340479, 105101, 58367, 5675],\n",
    "               'others': [6026, 42413, 59226, 62754, 12670, 14299, 1046]}\n",
    "author_data = pd.DataFrame(author_data, columns=['period', 'comma', 'others'],\n",
    "                           index=['Rousseau', 'Chateaubriand', 'Hugo', 'Zola',\\\n",
    "                                  'Proust', 'Giraudoux', 'Aloz'])\n",
    "author_data"
   ]
  },
  {
   "cell_type": "code",
   "execution_count": 16,
   "metadata": {},
   "outputs": [],
   "source": [
    "# corranal.py: Python Correspondence Analysis\n",
    "from __future__ import division\n",
    "from __future__ import print_function\n",
    "\n",
    "import numpy as np\n",
    "import scipy as sp \n",
    "import pandas as pd\n",
    "from numpy.linalg import svd\n",
    "\n",
    "def _coordinates_df(array_x1, array_x2, rows, cols):\n",
    "    \"\"\"Create pandas DataFrame with coordinates in rows and columns.\n",
    "        \n",
    "    Args:\n",
    "      array_x1: numpy array, coordinates in rows.\n",
    "      array_x2: numpy array, coordinates in columns.\n",
    "      rows: numpy array, row group name.\n",
    "      cols: numpy array, column group name.\n",
    "        \n",
    "    Returns:\n",
    "      coord_df: pandas DataFrame with columns {'x_1',..., 'x_K', 'point', 'coord'}:\n",
    "        x_k, k=1,...,K: K-dimensional coordinates.\n",
    "        point: row and column points for labeling.\n",
    "        coord: {'row', 'col'}, indicates row point or column point.\n",
    "    \"\"\"\n",
    "    row_df = pd.DataFrame(\n",
    "        array_x1, columns=['x' +  str(i) for i in (np.arange(array_x1.shape[1]) + 1)])\n",
    "    row_df['point'] = rows\n",
    "    row_df['coord'] = 'row'\n",
    "    col_df = pd.DataFrame(\n",
    "        array_x2, columns=['x' +  str(i) for i in (np.arange(array_x2.shape[1]) + 1)])\n",
    "    col_df['point'] = cols\n",
    "    col_df['coord'] = 'col'         \n",
    "    coord_df = pd.concat([row_df, col_df], ignore_index=True)\n",
    "    return coord_df\n",
    "\n",
    "def ca(df, option='symmetric'):\n",
    "    \"\"\"Correspondence Analysis.\n",
    "    \n",
    "    This method performs generalized singular value decomposition (SVD) for\n",
    "    correspondence matrix and computes principal and standard coordinates for\n",
    "    rows and columns.\n",
    "    \n",
    "    ### Usage\n",
    "    \n",
    "    ```\n",
    "    ca_output = ca(author_data, option='symmetric')\n",
    "    coord_df = ca_output['coordinates']\n",
    "    inertia_prop = ca_output['inertia_proportion']\n",
    "    ```\n",
    "    \n",
    "    Args:\n",
    "      df: pandas DataFrame, with row and column names.\n",
    "      option: string, in one of the following three:\n",
    "        'symmetric': symmetric map with \n",
    "          - rows and columns in principal coordinates.\n",
    "        'rowprincipal': asymmetric map with \n",
    "          - rows in principal coordinates and \n",
    "          - columns in standard coordinates.  \n",
    "        'colprincipal': asymmetric map with \n",
    "          - rows in standard coordinates and \n",
    "          - columns in principal coordinates.\n",
    "    \n",
    "    Returns:\n",
    "      d : dict, information dict.\n",
    "        * d['coordinates']: pandas DataFrame, contains coordinates, row and column points. \n",
    "        * d['inertia_proportion']: numpy array, contains proportions of total inertia explained \n",
    "            in coordinate dimensions.\n",
    "    \n",
    "    Raises:\n",
    "      TypeError: The input is not a pandas DataFrame\n",
    "      ValueError: Numpy array contains missing values.\n",
    "      TypeError: Numpy array contains data types other than numeric.\n",
    "      ValueError: Option only includes {\"symmetric\", \"rowprincipal\", \"colprincipal\"}.\n",
    "    \"\"\"\n",
    "\n",
    "    if isinstance(df, pd.DataFrame) is not True:\n",
    "        raise TypeError('The input is not a pandas DataFrame.')  \n",
    "    rows = np.array(df.index)\n",
    "    cols = np.array(df.columns)\n",
    "    np_data = np.array(df.values)      \n",
    "    if np.isnan(np_data).any():\n",
    "        raise ValueError('Numpy array contains missing values.')\n",
    "    if np.issubdtype(np_data.dtype, np.number) is not True:\n",
    "        raise TypeError('Numpy array contains data types other than numeric.')\n",
    "\n",
    "    p_corrmat = np_data / np_data.sum()\n",
    "    r_profile = p_corrmat.sum(axis=1).reshape(p_corrmat.shape[0], 1)\n",
    "    c_profile = p_corrmat.sum(axis=0).reshape(p_corrmat.shape[1], 1)\n",
    "    Dr_invsqrt = np.diag(np.power(r_profile, -1/2).T[0])\n",
    "    Dc_invsqrt = np.diag(np.power(c_profile, -1/2).T[0])\n",
    "    ker_mat = np.subtract(p_corrmat, np.dot(r_profile, c_profile.T))\n",
    "    left_mat = Dr_invsqrt\n",
    "    right_mat = Dc_invsqrt\n",
    "    weighted_lse = left_mat.dot(ker_mat).dot(right_mat)\n",
    "    U, sv, Vt = svd(weighted_lse, full_matrices=False)\n",
    "    V = Vt.T\n",
    "    SV = np.diag(sv)\n",
    "    inertia = np.power(sv, 2)\n",
    "    \n",
    "    if option == 'symmetric':\n",
    "        # Symmetric map with pricipal coordinates for rows and columns.\n",
    "        F = Dr_invsqrt.dot(U).dot(SV)\n",
    "        G = Dc_invsqrt.dot(V).dot(SV)\n",
    "        coordinates = _coordinates_df(F, G, rows, cols)\n",
    "    elif option == 'rowprincipal':\n",
    "        # Asymmetric map with principal coordinates for rows and standard ones for columns.\n",
    "        F = Dr_invsqrt.dot(U).dot(SV)\n",
    "        Gam = Dc_invsqrt.dot(V)\n",
    "        coordinates = _coordinates_df(F, Gam, rows, cols)\n",
    "    elif option == 'colprincipal':\n",
    "        # Asymmetric map with standard coordinates for rows and principal ones for columns.\n",
    "        Phi = Dr_invsqrt.dot(U)\n",
    "        G = Dc_invsqrt.dot(V).dot(SV)\n",
    "        coordinates = _coordinates_df(Phi, G, rows, cols)\n",
    "    else:\n",
    "        raise ValueError(\n",
    "            'Option only includes {\"symmetric\", \"rowprincipal\", \"colprincipal\"}.')\n",
    "    \n",
    "    inertia_proportion = (inertia / inertia.sum())\n",
    "\n",
    "    d = {'coordinates': coordinates, \n",
    "         'inertia_proportion': inertia_proportion}\n",
    "    \n",
    "    return d"
   ]
  },
  {
   "cell_type": "code",
   "execution_count": 20,
   "metadata": {},
   "outputs": [],
   "source": [
    "ca_output = ca(author_data, option='symmetric')\n",
    "\n",
    "coord_df = ca_output['coordinates']\n",
    "inertia_prop = ca_output['inertia_proportion']"
   ]
  },
  {
   "cell_type": "code",
   "execution_count": 21,
   "metadata": {},
   "outputs": [
    {
     "data": {
      "text/html": [
       "<div>\n",
       "<table border=\"1\" class=\"dataframe\">\n",
       "  <thead>\n",
       "    <tr style=\"text-align: right;\">\n",
       "      <th></th>\n",
       "      <th>x1</th>\n",
       "      <th>x2</th>\n",
       "      <th>x3</th>\n",
       "      <th>point</th>\n",
       "      <th>coord</th>\n",
       "    </tr>\n",
       "  </thead>\n",
       "  <tbody>\n",
       "    <tr>\n",
       "      <th>0</th>\n",
       "      <td>0.240510</td>\n",
       "      <td>0.074052</td>\n",
       "      <td>1.439806e-18</td>\n",
       "      <td>Rousseau</td>\n",
       "      <td>row</td>\n",
       "    </tr>\n",
       "    <tr>\n",
       "      <th>1</th>\n",
       "      <td>0.190265</td>\n",
       "      <td>0.107088</td>\n",
       "      <td>2.009690e-17</td>\n",
       "      <td>Chateaubriand</td>\n",
       "      <td>row</td>\n",
       "    </tr>\n",
       "    <tr>\n",
       "      <th>2</th>\n",
       "      <td>0.103926</td>\n",
       "      <td>-0.029745</td>\n",
       "      <td>-4.315813e-17</td>\n",
       "      <td>Hugo</td>\n",
       "      <td>row</td>\n",
       "    </tr>\n",
       "    <tr>\n",
       "      <th>3</th>\n",
       "      <td>-0.091241</td>\n",
       "      <td>0.001672</td>\n",
       "      <td>-2.369237e-17</td>\n",
       "      <td>Zola</td>\n",
       "      <td>row</td>\n",
       "    </tr>\n",
       "    <tr>\n",
       "      <th>4</th>\n",
       "      <td>-0.223706</td>\n",
       "      <td>0.063149</td>\n",
       "      <td>1.648296e-17</td>\n",
       "      <td>Proust</td>\n",
       "      <td>row</td>\n",
       "    </tr>\n",
       "    <tr>\n",
       "      <th>5</th>\n",
       "      <td>0.048025</td>\n",
       "      <td>-0.196308</td>\n",
       "      <td>4.417461e-17</td>\n",
       "      <td>Giraudoux</td>\n",
       "      <td>row</td>\n",
       "    </tr>\n",
       "    <tr>\n",
       "      <th>6</th>\n",
       "      <td>-0.091230</td>\n",
       "      <td>0.001666</td>\n",
       "      <td>6.454161e-17</td>\n",
       "      <td>Aloz</td>\n",
       "      <td>row</td>\n",
       "    </tr>\n",
       "    <tr>\n",
       "      <th>7</th>\n",
       "      <td>0.048830</td>\n",
       "      <td>-0.111209</td>\n",
       "      <td>3.102594e-17</td>\n",
       "      <td>period</td>\n",
       "      <td>col</td>\n",
       "    </tr>\n",
       "    <tr>\n",
       "      <th>8</th>\n",
       "      <td>-0.097101</td>\n",
       "      <td>0.036552</td>\n",
       "      <td>3.102594e-17</td>\n",
       "      <td>comma</td>\n",
       "      <td>col</td>\n",
       "    </tr>\n",
       "    <tr>\n",
       "      <th>9</th>\n",
       "      <td>0.291297</td>\n",
       "      <td>0.089761</td>\n",
       "      <td>3.102594e-17</td>\n",
       "      <td>others</td>\n",
       "      <td>col</td>\n",
       "    </tr>\n",
       "  </tbody>\n",
       "</table>\n",
       "</div>"
      ],
      "text/plain": [
       "         x1        x2            x3          point coord\n",
       "0  0.240510  0.074052  1.439806e-18       Rousseau   row\n",
       "1  0.190265  0.107088  2.009690e-17  Chateaubriand   row\n",
       "2  0.103926 -0.029745 -4.315813e-17           Hugo   row\n",
       "3 -0.091241  0.001672 -2.369237e-17           Zola   row\n",
       "4 -0.223706  0.063149  1.648296e-17         Proust   row\n",
       "5  0.048025 -0.196308  4.417461e-17      Giraudoux   row\n",
       "6 -0.091230  0.001666  6.454161e-17           Aloz   row\n",
       "7  0.048830 -0.111209  3.102594e-17         period   col\n",
       "8 -0.097101  0.036552  3.102594e-17          comma   col\n",
       "9  0.291297  0.089761  3.102594e-17         others   col"
      ]
     },
     "execution_count": 21,
     "metadata": {},
     "output_type": "execute_result"
    }
   ],
   "source": [
    "coord_df"
   ]
  },
  {
   "cell_type": "code",
   "execution_count": 19,
   "metadata": {},
   "outputs": [
    {
     "data": {
      "text/plain": [
       "array([  7.62192262e-01,   2.37807738e-01,   4.12891943e-32])"
      ]
     },
     "execution_count": 19,
     "metadata": {},
     "output_type": "execute_result"
    }
   ],
   "source": [
    "inertia_prop"
   ]
  },
  {
   "cell_type": "code",
   "execution_count": null,
   "metadata": {
    "collapsed": true
   },
   "outputs": [],
   "source": [
    "from __future__ import division\n",
    "from __future__ import print_function\n",
    "\n",
    "import numpy as np\n",
    "import scipy as sp \n",
    "import pandas as pd\n",
    "from numpy.linalg import svd\n",
    "\n",
    "class CA(object):\n",
    "    \"\"\"Correspondence analysis (CA).\n",
    "    \n",
    "    ### Usage\n",
    "\n",
    "    ```python\n",
    "    corranal = CA(aggregate_cnt)\n",
    "    corranal.fit()\n",
    "    coord_df = corranal.get_coordinates()\n",
    "    inertia_prop = corranal.score_inertia()\n",
    "    ```\n",
    "\n",
    "    @@__init__\n",
    "    \n",
    "    @@fit\n",
    "    @@get_coordinates\n",
    "    @@score_inertia\n",
    "    \"\"\"\n",
    "\n",
    "    def __init__(self, df):\n",
    "        \"\"\"Create a new Correspondence Analysis.\n",
    "        \n",
    "        Args:\n",
    "          df: pandas DataFrame, with row and column names.\n",
    "          \n",
    "        Raises:\n",
    "          TypeError: The input is not a pandas DataFrame\n",
    "          ValueError: Numpy array contains missing values.\n",
    "          TypeError: Numpy array contains data types other than numeric.\n",
    "        \"\"\"\n",
    "        if isinstance(df, pd.DataFrame) is not True:\n",
    "            raise TypeError('The input is not a Pandas DataFrame.')  \n",
    "        self._rows = np.array(df.index)\n",
    "        self._cols = np.array(df.columns)\n",
    "        self._np_data = np.array(df.values)      \n",
    "        if np.isnan(self._np_data).any():\n",
    "            raise ValueError('Numpy array contains missing values.')\n",
    "        if np.issubdtype(self._np_data.dtype, np.number) is not True:\n",
    "            raise TypeError('Numpy array contains data types other than numeric.')\n",
    "\n",
    "    def fit(self):\n",
    "        \"\"\"Compute Correspondence Analysis.\n",
    "        \n",
    "        This method performs generalized singular value decomposition (SVD) for\n",
    "        correspondence matrix and computes principal and standard coordinates for\n",
    "        rows and columns.\n",
    "        \"\"\"     \n",
    "        p_corrmat = self._np_data / self._np_data.sum()\n",
    "        r_profile = p_corrmat.sum(axis=1).reshape(p_corrmat.shape[0], 1)\n",
    "        c_profile = p_corrmat.sum(axis=0).reshape(p_corrmat.shape[1], 1)\n",
    "        Dr_invsqrt = np.diag(np.power(r_profile, -1/2).T[0])\n",
    "        Dc_invsqrt = np.diag(np.power(c_profile, -1/2).T[0])\n",
    "        ker_mat = np.subtract(p_corrmat, np.dot(r_profile, c_profile.T))\n",
    "        left_mat = Dr_invsqrt\n",
    "        right_mat = Dc_invsqrt\n",
    "        weighted_lse = left_mat.dot(ker_mat).dot(right_mat)\n",
    "        U, sv, Vt = svd(weighted_lse, full_matrices=False)\n",
    "        self._Dr_invsqrt = Dr_invsqrt\n",
    "        self._Dc_invsqrt = Dc_invsqrt\n",
    "        self._U = U\n",
    "        self._V = Vt.T\n",
    "        self._SV = np.diag(sv)\n",
    "        self._inertia = np.power(sv, 2)\n",
    "        # Pricipal coordinates for rows and columns.\n",
    "        self._F = self._Dr_invsqrt.dot(self._U).dot(self._SV)\n",
    "        self._G = self._Dc_invsqrt.dot(self._V).dot(self._SV)\n",
    "        # Standard coordinates for rows and columns.\n",
    "        self._Phi = self._Dr_invsqrt.dot(self._U)\n",
    "        self._Gam = self._Dc_invsqrt.dot(self._V)\n",
    "        return self\n",
    "    \n",
    "    def _coordinates_df(self, array_x1, array_x2):\n",
    "        \"\"\"Create pandas DataFrame with coordinates in rows and columns.\n",
    "        \n",
    "        Args:\n",
    "          array_x1: numpy array, coordinates in rows.\n",
    "          array_x2: numpy array, coordinates in columns.\n",
    "        \n",
    "        Returns:\n",
    "          coord_df: A Pandas DataFrame with columns \n",
    "            {'x_1',..., 'x_K', 'point', 'coord'}:\n",
    "            - x_k, k=1,...,K: K-dimensional coordinates.\n",
    "            - point: row and column points for labeling.\n",
    "            - coord: {'row', 'col'}, indicates row point or column point.\n",
    "        \"\"\"\n",
    "        row_df = pd.DataFrame(\n",
    "            array_x1, columns=['x' +  str(i) for i in (np.arange(array_x1.shape[1]) + 1)])\n",
    "        row_df['point'] = self._rows\n",
    "        row_df['coord'] = 'row'\n",
    "        col_df = pd.DataFrame(\n",
    "            array_x2, columns=['x' +  str(i) for i in (np.arange(array_x2.shape[1]) + 1)])\n",
    "        col_df['point'] = self._cols\n",
    "        col_df['coord'] = 'col'         \n",
    "        coord_df = pd.concat([row_df, col_df], ignore_index=True)\n",
    "        return coord_df\n",
    "    \n",
    "    def get_coordinates(self, option='symmetric'):\n",
    "        \"\"\"Take coordinates in rows and columns for symmetric or assymetric map.\n",
    "        \n",
    "        - For symmetric map, we can catch row-to-row and column-to-column \n",
    "        association (maybe not row-to-column association); \n",
    "        - For asymmetric map, we can further catch row-to-column association.\n",
    "        \n",
    "        Args:\n",
    "          option: string, in one of the following three:\n",
    "            'symmetric': symmetric map with \n",
    "              - rows and columns in principal coordinates.\n",
    "            'rowprincipal': asymmetric map with \n",
    "              - rows in principal coordinates and \n",
    "              - columns in standard coordinates.  \n",
    "            'colprincipal': asymmetric map with \n",
    "              - rows in standard coordinates and \n",
    "              - columns in principal coordinates.\n",
    "        \n",
    "        Returns:\n",
    "          Pandas DataFrame, contains coordinates, row and column points.\n",
    "        \n",
    "        Raises:\n",
    "          ValueError: Option only includes {\"symmetric\", \"rowprincipal\", \"colprincipal\"}.\n",
    "        \"\"\"     \n",
    "        if option == 'symmetric':\n",
    "            # Symmetric map\n",
    "            return self._coordinates_df(self._F, self._G)\n",
    "        elif option == 'rowprincipal':\n",
    "            # Row principal asymmetric map\n",
    "            return self._coordinates_df(self._F, self._Gam)\n",
    "        elif option == 'colprincipal':\n",
    "            # Column principal asymmetric map\n",
    "            return self._coordinates_df(self._Phi, self._G)\n",
    "        else:\n",
    "            raise ValueError(\n",
    "                'Option only includes {\"symmetric\", \"rowprincipal\", \"colprincipal\"}.')\n",
    "\n",
    "    @property\n",
    "    def score_inertia(self):\n",
    "        \"\"\"Score inertia.\n",
    "        \n",
    "        Returns:\n",
    "          numpy array, contains proportions of total inertia explained \n",
    "            in coordinate dimensions.\n",
    "        \"\"\"\n",
    "        inertia = self._inertia\n",
    "        self._inertia_prop = (inertia / inertia.sum()).cumsum()\n",
    "        return self._inertia_prop"
   ]
  },
  {
   "cell_type": "code",
   "execution_count": null,
   "metadata": {},
   "outputs": [],
   "source": [
    "# corranal = CorrAnal(data)\n",
    "# corranal.ca()\n",
    "# inertia_prop = corranal.inertia_proportion\n",
    "# coord_df = corranal.coordinates()\n",
    "# print(inertia_prop)\n",
    "# coord_df"
   ]
  },
  {
   "cell_type": "code",
   "execution_count": 22,
   "metadata": {},
   "outputs": [],
   "source": [
    "%load_ext rpy2.ipython"
   ]
  },
  {
   "cell_type": "code",
   "execution_count": 24,
   "metadata": {},
   "outputs": [],
   "source": [
    "%%R\n",
    "library(ggplot2)\n",
    "library(scales)\n",
    "library(dplyr)\n",
    "library(data.table)\n",
    "library(grid)\n",
    "library(gridExtra)"
   ]
  },
  {
   "cell_type": "code",
   "execution_count": 25,
   "metadata": {},
   "outputs": [
    {
     "data": {
      "image/png": "[encoded data removed]"
     },
     "metadata": {},
     "output_type": "display_data"
    }
   ],
   "source": [
    "%%R -i coord_df,inertia_prop\n",
    "ggplot(coord_df, aes(x1, x2)) + \n",
    "  geom_point(aes(colour=coord), shape=1) +\n",
    "  labs(title='Correspondence Analysis', x='x lab', y='y lab')"
   ]
  },
  {
   "cell_type": "markdown",
   "metadata": {},
   "source": [
    "---\n",
    "The following are for implementation scratch."
   ]
  },
  {
   "cell_type": "code",
   "execution_count": null,
   "metadata": {},
   "outputs": [],
   "source": [
    "np.arange(7)"
   ]
  },
  {
   "cell_type": "code",
   "execution_count": null,
   "metadata": {},
   "outputs": [],
   "source": [
    "print(isinstance(data, pd.DataFrame))"
   ]
  },
  {
   "cell_type": "code",
   "execution_count": null,
   "metadata": {},
   "outputs": [],
   "source": [
    "rows = np.array(data.index)\n",
    "cols = np.array(data.columns)\n",
    "np_data = np.array(data.values)\n",
    "\n",
    "print('rows:', rows)\n",
    "print('cols:', cols)\n",
    "print('np_data:\\n', np_data)"
   ]
  },
  {
   "cell_type": "code",
   "execution_count": null,
   "metadata": {},
   "outputs": [],
   "source": [
    "np.isnan(np_data).any()"
   ]
  },
  {
   "cell_type": "code",
   "execution_count": null,
   "metadata": {},
   "outputs": [],
   "source": [
    "print(np_data.dtype)\n",
    "np.issubdtype(np_data.dtype, np.number)"
   ]
  },
  {
   "cell_type": "code",
   "execution_count": null,
   "metadata": {},
   "outputs": [],
   "source": [
    "p_corrmat = np_data / np_data.sum()\n",
    "print(p_corrmat)\n",
    "print(p_corrmat.shape)"
   ]
  },
  {
   "cell_type": "code",
   "execution_count": null,
   "metadata": {},
   "outputs": [],
   "source": [
    "r_profile = p_corrmat.sum(axis=1).reshape(p_corrmat.shape[0], 1)\n",
    "c_profile = p_corrmat.sum(axis=0).reshape(p_corrmat.shape[1], 1)\n",
    "print('r_profile:\\n', r_profile)\n",
    "print('c_profile:\\n', c_profile)"
   ]
  },
  {
   "cell_type": "code",
   "execution_count": null,
   "metadata": {},
   "outputs": [],
   "source": [
    "# Dr_invsqrt = np.diag(np.power(p_corrmat.sum(axis=1), -1/2))\n",
    "# Dc_invsqrt = np.diag(np.power(p_corrmat.sum(axis=0), -1/2))\n",
    "# print(Dr_invsqrt)\n",
    "# print(Dc_invsqrt)"
   ]
  },
  {
   "cell_type": "code",
   "execution_count": null,
   "metadata": {},
   "outputs": [],
   "source": [
    "%time Dr_invsqrt = np.diag(np.power(r_profile, -1/2).T[0])\n",
    "%time Dc_invsqrt = np.diag(np.power(c_profile, -1/2).T[0])\n",
    "print('Dr_invsqrt:\\n', Dr_invsqrt)\n",
    "print('Dc_invsqrt:\\n', Dc_invsqrt)"
   ]
  },
  {
   "cell_type": "code",
   "execution_count": null,
   "metadata": {},
   "outputs": [],
   "source": [
    "a = np.array([1, 2, 3, 4]).reshape(2, 2)\n",
    "b = np.array([1, 3, 4, 5]).reshape(2, 2)\n",
    "print('a:\\n', a)\n",
    "print('b:\\n', b)\n",
    "print('a*b*a:\\n', a.dot(b).dot(a))"
   ]
  },
  {
   "cell_type": "code",
   "execution_count": null,
   "metadata": {},
   "outputs": [],
   "source": [
    "# %time print(p_corrmat - np.dot(r_profile, c_profile.T))\n",
    "%time print(np.subtract(p_corrmat, np.dot(r_profile, c_profile.T)))"
   ]
  },
  {
   "cell_type": "code",
   "execution_count": null,
   "metadata": {},
   "outputs": [],
   "source": [
    "ker_mat = np.subtract(p_corrmat, np.dot(r_profile, c_profile.T))\n",
    "left_mat = Dr_invsqrt\n",
    "right_mat = Dc_invsqrt\n",
    "weighted_lse = left_mat.dot(ker_mat).dot(right_mat)\n",
    "print(weighted_lse)"
   ]
  },
  {
   "cell_type": "code",
   "execution_count": null,
   "metadata": {},
   "outputs": [],
   "source": [
    "U, sv, Vt = svd(weighted_lse, full_matrices=False)\n",
    "V = Vt.T\n",
    "SV = np.diag(sv)\n",
    "inertia = np.power(sv, 2)\n",
    "\n",
    "print('Shape of U:', U.shape)\n",
    "print('U:\\n', U)\n",
    "print('Shape of sv:', sv.shape)\n",
    "print('sv:\\n', sv)\n",
    "print('SV:\\n', SV)\n",
    "print('V:\\n', V)\n",
    "print('Inertia:', inertia)"
   ]
  },
  {
   "cell_type": "code",
   "execution_count": null,
   "metadata": {},
   "outputs": [],
   "source": [
    "(inertia / inertia.sum()).cumsum()"
   ]
  },
  {
   "cell_type": "code",
   "execution_count": null,
   "metadata": {},
   "outputs": [],
   "source": [
    "# Check matrix orthogonality\n",
    "print('U1*U1:', U[:, 0].dot(U[:, 0]))\n",
    "print('U0*U2:', U[:, 0].dot(U[:, 1]))\n",
    "print('V1*V1:', V[:, 0].dot(V[:, 0]))\n",
    "print('V1*V2:', V[:, 0].dot(V[:, 1]))"
   ]
  },
  {
   "cell_type": "code",
   "execution_count": null,
   "metadata": {},
   "outputs": [],
   "source": [
    "# Symmetric map\n",
    "F = Dr_invsqrt.dot(U).dot(SV)\n",
    "G = Dc_invsqrt.dot(V).dot(SV)\n",
    "\n",
    "print('F shape:', F.shape)\n",
    "print('F:\\n', F)\n",
    "print('G shape:', G.shape)\n",
    "print('G:\\n', G)"
   ]
  },
  {
   "cell_type": "code",
   "execution_count": null,
   "metadata": {
    "collapsed": true
   },
   "outputs": [],
   "source": [
    "def coordinates_df(df1, df2):\n",
    "    row_df = pd.DataFrame(\n",
    "        df1, columns=['x' +  str(i) for i in (np.arange(df1.shape[1]) + 1)])\n",
    "    row_df['coord'] = 'row'\n",
    "    col_df = pd.DataFrame(\n",
    "        df2, columns=['x' +  str(i) for i in (np.arange(df2.shape[1]) + 1)])\n",
    "    col_df['coord'] = 'col'\n",
    "    coord_df = pd.concat([row_df, col_df])  \n",
    "    return coord_df"
   ]
  },
  {
   "cell_type": "code",
   "execution_count": null,
   "metadata": {},
   "outputs": [],
   "source": [
    "coordinates_df(F, G)"
   ]
  },
  {
   "cell_type": "code",
   "execution_count": null,
   "metadata": {},
   "outputs": [],
   "source": [
    "# Row principal asymmetric map\n",
    "F = Dr_invsqrt.dot(U).dot(SV)\n",
    "Gam = Dc_invsqrt.dot(V)\n",
    "\n",
    "print('F shape:', F.shape)\n",
    "print('Gamma shape:', Gam.shape)"
   ]
  },
  {
   "cell_type": "code",
   "execution_count": null,
   "metadata": {},
   "outputs": [],
   "source": [
    "# Column principal asymmetric map\n",
    "Phi = Dr_invsqrt.dot(U)\n",
    "G = Dc_invsqrt.dot(V).dot(SV)\n",
    "\n",
    "print('Phi shape:', Phi.shape)\n",
    "print('G shape:', G.shape)"
   ]
  },
  {
   "cell_type": "code",
   "execution_count": null,
   "metadata": {},
   "outputs": [],
   "source": [
    "# Check matrix relationship\n",
    "print('F vs. inertia:', np.allclose(F.T.dot(np.diag(r_profile.T[0])).dot(F), np.power(SV, 2)))\n",
    "print('G vs. inertia:', np.allclose(G.T.dot(np.diag(c_profile.T[0])).dot(G), np.power(SV, 2)))\n",
    "print('F vs. inertia:', np.allclose(Phi.T.dot(np.diag(r_profile.T[0])).dot(Phi), np.eye(3)))\n",
    "print('G vs. inertia:', np.allclose(Gam.T.dot(np.diag(c_profile.T[0])).dot(Gam), np.eye(3)))"
   ]
  },
  {
   "cell_type": "code",
   "execution_count": null,
   "metadata": {
    "collapsed": true
   },
   "outputs": [],
   "source": []
  }
 ],
 "metadata": {
  "kernelspec": {
   "display_name": "Python 2",
   "language": "python",
   "name": "python2"
  },
  "language_info": {
   "codemirror_mode": {
    "name": "ipython",
    "version": 2
   },
   "file_extension": ".py",
   "mimetype": "text/x-python",
   "name": "python",
   "nbconvert_exporter": "python",
   "pygments_lexer": "ipython2",
   "version": "2.7.12"
  }
 },
 "nbformat": 4,
 "nbformat_minor": 1
}
