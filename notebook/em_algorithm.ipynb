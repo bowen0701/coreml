{
 "cells": [
  {
   "cell_type": "markdown",
   "metadata": {},
   "source": [
    "# Expectation Maximization (EM) Algorithm\n",
    "\n",
    "- Bowen Li\n",
    "- 2018/01/13"
   ]
  },
  {
   "cell_type": "markdown",
   "metadata": {},
   "source": [
    "## Introduction\n",
    "\n",
    "EM algorithm is a useful technique to solve problems with unobserved variables, including missing data, latent variables, among many. This notebook is to summarize its methodology and implementations. "
   ]
  },
  {
   "cell_type": "markdown",
   "metadata": {
    "collapsed": true
   },
   "source": [
    "The following is just draft.\n",
    "\n",
    "## EM Algorithm\n",
    "\n",
    "\n",
    "### Jensen's Inequality\n",
    "\n",
    "- $f$: convex function with $f''(x) >= 0$\n",
    "- $E[f(X)] >= f(EX)$\n",
    "\n",
    "\n",
    "### Procedure\n",
    "\n",
    "- For t = 0,1,2,...\n",
    "- Given $\\theta_{t}$\n",
    "- E-step: For each example i, set\n",
    "\n",
    "$$\n",
    "Q_i^{(t)}(z_i) = p(z_i | x_i; \\theta_{t})\n",
    "$$\n",
    "\n",
    "- M-step:\n",
    "  \n",
    "$$\n",
    "\\theta_{(t+1)} \n",
    "= argmax_{\\theta} \\sum_i \\sum_{z_i} Q_i^{(t)}(z_i) \n",
    "  \\cdot log [p(x_i, z_i; \\theta) / Q_i^{(t)}(z_i)]\n",
    "$$\n"
   ]
  },
  {
   "cell_type": "code",
   "execution_count": null,
   "metadata": {
    "collapsed": true
   },
   "outputs": [],
   "source": []
  }
 ],
 "metadata": {
  "kernelspec": {
   "display_name": "Python 2",
   "language": "python",
   "name": "python2"
  },
  "language_info": {
   "codemirror_mode": {
    "name": "ipython",
    "version": 2
   },
   "file_extension": ".py",
   "mimetype": "text/x-python",
   "name": "python",
   "nbconvert_exporter": "python",
   "pygments_lexer": "ipython2",
   "version": "2.7.12"
  }
 },
 "nbformat": 4,
 "nbformat_minor": 2
}
