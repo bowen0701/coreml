{
 "cells": [
  {
   "cell_type": "markdown",
   "metadata": {},
   "source": [
    "# Linear Regression with Implementation"
   ]
  },
  {
   "cell_type": "markdown",
   "metadata": {},
   "source": [
    "## 1. Introduction\n",
    "\n",
    "Linear regression is the most important machine learning model for continuous response. I will summarize its methodology and implement it from scratch using NumPy.\n",
    "\n",
    "### Continuous Response\n",
    "\n",
    "For example, we use two features $(x_1, x_2)$ to predict continous response $y$, such as house price, temperature."
   ]
  },
  {
   "cell_type": "markdown",
   "metadata": {},
   "source": [
    "## 2. Linear Regression Model\n",
    "\n",
    "Generally, we would like to use multiple features $(x_1, ..., x_p)$ for better prediction of response $y$, with the observed data $\\{(y_i, x_{i1}, ..., x_{ip})\\},\\ i = 1, ..., n\\}$, where $n$ is the number of examples. Suppose\n",
    "\n",
    "$$\n",
    "y_i = b + w_1 x_{i1} + ...+ w_p x_{ip} + \\epsilon_i = b + x_i^T w + \\epsilon_i,\n",
    "$$\n",
    "\n",
    "where\n",
    "- $b$ and $w = (w_1, ..., w_p)^T$ are the unknown model parameters; $b$ is the model bias, and $w$ is the model weights, and\n",
    "- $\\epsilon_i = y_i - (b + x_i^T w)$ is the resulting estimation error.\n",
    "\n",
    "We want to estimate $(b, w)$ which minimize the **mean squared errors:**\n",
    "\n",
    "$$\n",
    "J(b, w) = \\sum_{i=1}^n \\frac{1}{2m} (y_i - (b + x_i^T w))^2.\n",
    "$$"
   ]
  },
  {
   "cell_type": "code",
   "execution_count": 1,
   "metadata": {},
   "outputs": [],
   "source": [
    "from __future__ import absolute_import\n",
    "from __future__ import division\n",
    "from __future__ import print_function\n",
    "\n",
    "import numpy as np\n",
    "\n",
    "import tensorflow as tf"
   ]
  },
  {
   "cell_type": "code",
   "execution_count": null,
   "metadata": {},
   "outputs": [],
   "source": [
    "true_w = np.array([2, -3.4])\n",
    "true_b = 4.2\n",
    "\n",
    "num_examples = 1000\n",
    "num_inputs = len(true_w)\n",
    "\n",
    "features = np.random.normal(scale=1, size=(num_examples, num_inputs))\n",
    "labels = np.matmul(features, true_w) + true_b\n",
    "labels += np.random.normal(scale=0.01, size=labels.shape)"
   ]
  }
 ],
 "metadata": {
  "kernelspec": {
   "display_name": "Python 3",
   "language": "python",
   "name": "python3"
  },
  "language_info": {
   "codemirror_mode": {
    "name": "ipython",
    "version": 3
   },
   "file_extension": ".py",
   "mimetype": "text/x-python",
   "name": "python",
   "nbconvert_exporter": "python",
   "pygments_lexer": "ipython3",
   "version": "3.5.2"
  }
 },
 "nbformat": 4,
 "nbformat_minor": 2
}
