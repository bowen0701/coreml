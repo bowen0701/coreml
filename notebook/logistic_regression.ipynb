{
 "cells": [
  {
   "cell_type": "markdown",
   "metadata": {},
   "source": [
    "# Logistic Regression with Numpy Implementation"
   ]
  },
  {
   "cell_type": "markdown",
   "metadata": {},
   "source": [
    "## 1. Introduction\n",
    "\n",
    "Logistic regression is one of the most fundamental machine learning models for binary classification. I will summarize its methodology and implement it from scratch using NumPy.\n",
    "\n",
    "The problem we solve is **binary classification,** for example, the doctor would like to base on patients's features, including mean radius, mean texture, etc, to classify breat cancer into one of the following two case:\n",
    "\n",
    "- \"malignant\":  𝑦=1 \n",
    "- \"benign\":  𝑦=0 \n",
    "\n",
    "which correspond to serious and gentle case respectively.\n",
    "\n",
    "We will load the breast cancer data from scikit-learn as a toy dataset, and split the data into the training and test datasets."
   ]
  },
  {
   "cell_type": "markdown",
   "metadata": {},
   "source": [
    "## 2. Logistic Regression Model\n",
    "\n",
    "[To be continued.]"
   ]
  },
  {
   "cell_type": "markdown",
   "metadata": {},
   "source": [
    "## 3. Numpy Implementation of Logistic Regressio"
   ]
  },
  {
   "cell_type": "code",
   "execution_count": null,
   "metadata": {},
   "outputs": [],
   "source": [
    "from __future__ import absolute_import\n",
    "from __future__ import division\n",
    "from __future__ import print_function\n",
    "\n",
    "import random\n",
    "import numpy as np\n",
    "\n",
    "np.random.seed(71)"
   ]
  },
  {
   "cell_type": "code",
   "execution_count": null,
   "metadata": {},
   "outputs": [],
   "source": [
    "class LogisticRegression(object):\n",
    "    \"\"\"Numpy implementation of Logistic Regression.\"\"\"\n",
    "    def __init__(self, batch_size=64, lr=0.01, n_epochs=1000):\n",
    "        self.batch_size = batch_size\n",
    "        self.lr = lr\n",
    "        self.n_epochs = n_epochs\n",
    "\n",
    "    def get_dataset(self, X_train, y_train, shuffle=True):\n",
    "        \"\"\"Get dataset and information.\"\"\"\n",
    "        self.X_train = X_train\n",
    "        self.y_train = y_train\n",
    "\n",
    "        # Get the numbers of examples and inputs.\n",
    "        self.n_examples, self.n_inputs = self.X_train.shape\n",
    "\n",
    "        if shuffle:\n",
    "            idx = list(range(self.n_examples))\n",
    "            random.shuffle(idx)\n",
    "            self.X_train = self.X_train[idx]\n",
    "            self.y_train = self.y_train[idx]\n",
    "\n",
    "    def _create_weights(self):\n",
    "        \"\"\"Create model weights and bias.\"\"\"\n",
    "        self.w = np.zeros(self.n_inputs).reshape(self.n_inputs, 1)\n",
    "        self.b = np.zeros(1).reshape(1, 1)\n",
    "\n",
    "    def _logit(self, X):\n",
    "        \"\"\"Logit: unnormalized log probability.\"\"\"\n",
    "        return np.matmul(X, self.w) + self.b\n",
    "\n",
    "    def _sigmoid(self, logit):\n",
    "        \"\"\"Sigmoid function by stabilization trick.\n",
    "\n",
    "        sigmoid(z) = 1 / (1 + exp(-z)) \n",
    "                   = exp(z) / (1 + exp(z)) * exp(z_max) / exp(z_max)\n",
    "                   = exp(z - z_max) / (exp(-z_max) + exp(z - z_max)),\n",
    "        where z is the logit, and z_max = z - max(0, z).\n",
    "        \"\"\"\n",
    "        logit_max = np.maximum(0, logit)\n",
    "        logit_stable = logit - logit_max\n",
    "        return np.exp(logit_stable) / (np.exp(-logit_max) + np.exp(logit_stable))\n",
    "    \n",
    "    def _model(self, X):\n",
    "        \"\"\"Logistic regression model.\"\"\"\n",
    "        logit = self._logit(X)\n",
    "        return self._sigmoid(logit)\n",
    "\n",
    "    def _loss(self, y, logit):\n",
    "        \"\"\"Cross entropy loss by stabilizaiton trick.\n",
    "\n",
    "        cross_entropy_loss(y, z) \n",
    "          = - 1/n * \\sum_{i=1}^n y_i * log p(y_i = 1|x_i) + (1 - y_i) * log p(y_i = 0|x_i)\n",
    "          = - 1/n * \\sum_{i=1}^n y_i * (z_i - log(1 + exp(z_i))) + (1 - y_i) * (-log(1 + exp(z_i))),\n",
    "        where z is the logit, z_max = z - max(0, z),\n",
    "          log p(y = 1|x)\n",
    "            = log (1 / (1 + exp(-z))) \n",
    "            = log (exp(z) / (1 + exp(z)))\n",
    "            = z - log(1 + exp(z))\n",
    "        and \n",
    "          log(1 + exp(z)) := logsumexp(z)\n",
    "            = log(exp(0) + exp(z))\n",
    "            = log(exp(0) + exp(z) * exp(z_max) / exp(z_max))\n",
    "            = z_max + log(exp(-z_max) + exp(z - z_max)).\n",
    "        \"\"\"\n",
    "        logit_max = np.maximum(0, logit)\n",
    "        logit_stable = logit - logit_max\n",
    "        logsumexp_stable = logit_max + np.log(np.exp(-logit_max) + np.exp(logit_stable))\n",
    "        self.cross_entropy = -(y * (logit - logsumexp_stable) + (1 - y) * (-logsumexp_stable))\n",
    "        return np.mean(self.cross_entropy)\n",
    "\n",
    "    def _optimize(self, X, y):\n",
    "        \"\"\"Optimize by stochastic gradient descent.\"\"\"\n",
    "        m = X.shape[0]\n",
    "\n",
    "        y_hat = self._model(X) \n",
    "        dw = 1 / m * np.matmul(X.T, y_hat - y)\n",
    "        db = np.mean(y_hat - y)\n",
    "\n",
    "        for (param, grad) in zip([self.w, self.b], [dw, db]):\n",
    "            param[:] = param - self.lr * grad\n",
    "\n",
    "    def _fetch_batch(self):\n",
    "        \"\"\"Fetch batch dataset.\"\"\"\n",
    "        idx = list(range(self.n_examples))\n",
    "        for i in range(0, self.n_examples, self.batch_size):\n",
    "            idx_batch = idx[i:min(i + self.batch_size, self.n_examples)]\n",
    "            yield (self.X_train.take(idx_batch, axis=0), self.y_train.take(idx_batch, axis=0))\n",
    "\n",
    "    def fit(self):\n",
    "        \"\"\"Fit model.\"\"\"\n",
    "        self._create_weights()\n",
    "\n",
    "        for epoch in range(self.n_epochs):\n",
    "            total_loss = 0\n",
    "            for X_train_b, y_train_b in self._fetch_batch():\n",
    "                y_train_b = y_train_b.reshape((y_train_b.shape[0], -1))\n",
    "                self._optimize(X_train_b, y_train_b)\n",
    "                train_loss = self._loss(y_train_b, self._logit(X_train_b))\n",
    "                total_loss += train_loss * X_train_b.shape[0]\n",
    "\n",
    "            if epoch % 100 == 0:\n",
    "                print('epoch {0}: training loss {1}'.format(epoch, total_loss / self.n_examples))\n",
    "\n",
    "        return self\n",
    "\n",
    "    def get_coeff(self):\n",
    "        return self.b, self.w.reshape((-1,))\n",
    "\n",
    "    def predict(self, X):\n",
    "        return self._model(X).reshape((-1,))"
   ]
  },
  {
   "cell_type": "markdown",
   "metadata": {},
   "source": [
    "## 4. Data Preparation and Preprocessing"
   ]
  },
  {
   "cell_type": "code",
   "execution_count": null,
   "metadata": {},
   "outputs": [],
   "source": [
    "import sklearn\n",
    "from sklearn.datasets import load_breast_cancer\n",
    "from sklearn.model_selection import train_test_split\n",
    "from sklearn.preprocessing import MinMaxScaler\n",
    "from sklearn.linear_model import LogisticRegression as LogisticRegressionSklearn\n",
    "\n",
    "# https://github.com/bowen0701/machine-learning/blob/master/metrics.py\n",
    "from metrics import accuracy"
   ]
  },
  {
   "cell_type": "code",
   "execution_count": null,
   "metadata": {},
   "outputs": [],
   "source": [
    "%load_ext autoreload\n",
    "%autoreload 2"
   ]
  },
  {
   "cell_type": "code",
   "execution_count": null,
   "metadata": {},
   "outputs": [],
   "source": [
    "# Read breast cancer data.\n",
    "X, y = load_breast_cancer(return_X_y=True)"
   ]
  },
  {
   "cell_type": "code",
   "execution_count": 6,
   "metadata": {},
   "outputs": [
    {
     "data": {
      "text/plain": [
       "((569, 30), (569,))"
      ]
     },
     "execution_count": 6,
     "metadata": {},
     "output_type": "execute_result"
    }
   ],
   "source": [
    "X.shape, y.shape"
   ]
  },
  {
   "cell_type": "code",
   "execution_count": 7,
   "metadata": {},
   "outputs": [
    {
     "data": {
      "text/plain": [
       "array([[1.799e+01, 1.038e+01, 1.228e+02, 1.001e+03, 1.184e-01, 2.776e-01,\n",
       "        3.001e-01, 1.471e-01, 2.419e-01, 7.871e-02, 1.095e+00, 9.053e-01,\n",
       "        8.589e+00, 1.534e+02, 6.399e-03, 4.904e-02, 5.373e-02, 1.587e-02,\n",
       "        3.003e-02, 6.193e-03, 2.538e+01, 1.733e+01, 1.846e+02, 2.019e+03,\n",
       "        1.622e-01, 6.656e-01, 7.119e-01, 2.654e-01, 4.601e-01, 1.189e-01],\n",
       "       [2.057e+01, 1.777e+01, 1.329e+02, 1.326e+03, 8.474e-02, 7.864e-02,\n",
       "        8.690e-02, 7.017e-02, 1.812e-01, 5.667e-02, 5.435e-01, 7.339e-01,\n",
       "        3.398e+00, 7.408e+01, 5.225e-03, 1.308e-02, 1.860e-02, 1.340e-02,\n",
       "        1.389e-02, 3.532e-03, 2.499e+01, 2.341e+01, 1.588e+02, 1.956e+03,\n",
       "        1.238e-01, 1.866e-01, 2.416e-01, 1.860e-01, 2.750e-01, 8.902e-02],\n",
       "       [1.969e+01, 2.125e+01, 1.300e+02, 1.203e+03, 1.096e-01, 1.599e-01,\n",
       "        1.974e-01, 1.279e-01, 2.069e-01, 5.999e-02, 7.456e-01, 7.869e-01,\n",
       "        4.585e+00, 9.403e+01, 6.150e-03, 4.006e-02, 3.832e-02, 2.058e-02,\n",
       "        2.250e-02, 4.571e-03, 2.357e+01, 2.553e+01, 1.525e+02, 1.709e+03,\n",
       "        1.444e-01, 4.245e-01, 4.504e-01, 2.430e-01, 3.613e-01, 8.758e-02]])"
      ]
     },
     "execution_count": 7,
     "metadata": {},
     "output_type": "execute_result"
    }
   ],
   "source": [
    "X[:3]"
   ]
  },
  {
   "cell_type": "code",
   "execution_count": 8,
   "metadata": {},
   "outputs": [
    {
     "data": {
      "text/plain": [
       "array([0, 0, 0])"
      ]
     },
     "execution_count": 8,
     "metadata": {},
     "output_type": "execute_result"
    }
   ],
   "source": [
    "y[:3]"
   ]
  },
  {
   "cell_type": "code",
   "execution_count": 9,
   "metadata": {},
   "outputs": [],
   "source": [
    "# Split data into training and test datasets.\n",
    "X_train_raw, X_test_raw, y_train, y_test = train_test_split(\n",
    "    X, y, test_size=0.25, random_state=71, shuffle=True, stratify=y)"
   ]
  },
  {
   "cell_type": "code",
   "execution_count": 10,
   "metadata": {},
   "outputs": [
    {
     "name": "stdout",
     "output_type": "stream",
     "text": [
      "(426, 30) (426,)\n",
      "(143, 30) (143,)\n"
     ]
    }
   ],
   "source": [
    "print(X_train_raw.shape, y_train.shape)\n",
    "print(X_test_raw.shape, y_test.shape)"
   ]
  },
  {
   "cell_type": "code",
   "execution_count": 11,
   "metadata": {},
   "outputs": [],
   "source": [
    "# Feature engineering for standardizing features by min-max scaler.\n",
    "min_max_scaler = MinMaxScaler()\n",
    "\n",
    "X_train = min_max_scaler.fit_transform(X_train_raw)\n",
    "X_test = min_max_scaler.transform(X_test_raw)"
   ]
  },
  {
   "cell_type": "markdown",
   "metadata": {},
   "source": [
    "## 4. Fitting Logistic Regression Model in NumPy"
   ]
  },
  {
   "cell_type": "code",
   "execution_count": 12,
   "metadata": {},
   "outputs": [],
   "source": [
    "# Fit our Logistic Regression.\n",
    "logreg = LogisticRegression(batch_size=64, lr=1, n_epochs=1000)"
   ]
  },
  {
   "cell_type": "code",
   "execution_count": 13,
   "metadata": {},
   "outputs": [],
   "source": [
    "# Get datasets and build graph.\n",
    "logreg.get_dataset(X_train, y_train, shuffle=True)"
   ]
  },
  {
   "cell_type": "code",
   "execution_count": 14,
   "metadata": {},
   "outputs": [
    {
     "name": "stdout",
     "output_type": "stream",
     "text": [
      "epoch 0: training loss 0.5920178838003193\n",
      "epoch 100: training loss 0.10436355324729359\n",
      "epoch 200: training loss 0.08425366529039276\n",
      "epoch 300: training loss 0.07528145212348365\n",
      "epoch 400: training loss 0.0699222852210537\n",
      "epoch 500: training loss 0.06626157105072596\n",
      "epoch 600: training loss 0.06356235866207137\n",
      "epoch 700: training loss 0.06147067558608563\n",
      "epoch 800: training loss 0.05979139630776219\n",
      "epoch 900: training loss 0.05840656427381451\n"
     ]
    },
    {
     "data": {
      "text/plain": [
       "<__main__.LogisticRegression at 0x7fe459af2e10>"
      ]
     },
     "execution_count": 14,
     "metadata": {},
     "output_type": "execute_result"
    }
   ],
   "source": [
    "logreg.fit()"
   ]
  },
  {
   "cell_type": "code",
   "execution_count": 15,
   "metadata": {},
   "outputs": [
    {
     "data": {
      "text/plain": [
       "(array([[16.57072155]]),\n",
       " array([-1.36977859, -3.60908199, -1.38979131, -2.79952529, -1.54511623,\n",
       "         1.68723417, -4.34453813, -6.67651982, -1.66364878,  2.9301174 ,\n",
       "        -8.82951222, -0.49804578, -6.89981326, -5.12264391,  1.51884402,\n",
       "         4.26245487,  1.96548493,  0.92198929,  3.35851652,  3.18265654,\n",
       "        -5.57250878, -4.65221362, -4.92812411, -5.25039108, -3.43445255,\n",
       "        -0.9057598 , -4.14625215, -4.96722675, -3.08887622, -1.48236606]))"
      ]
     },
     "execution_count": 15,
     "metadata": {},
     "output_type": "execute_result"
    }
   ],
   "source": [
    "# Get coefficient.\n",
    "logreg.get_coeff()"
   ]
  },
  {
   "cell_type": "code",
   "execution_count": 16,
   "metadata": {},
   "outputs": [
    {
     "data": {
      "text/plain": [
       "array([9.95480187e-01, 8.98778456e-13, 8.74945642e-05])"
      ]
     },
     "execution_count": 16,
     "metadata": {},
     "output_type": "execute_result"
    }
   ],
   "source": [
    "# Predicted probabilities for training data.\n",
    "p_train_hat = logreg.predict(X_train)\n",
    "p_train_hat[:3]"
   ]
  },
  {
   "cell_type": "code",
   "execution_count": 17,
   "metadata": {},
   "outputs": [
    {
     "data": {
      "text/plain": [
       "array([1, 0, 0])"
      ]
     },
     "execution_count": 17,
     "metadata": {},
     "output_type": "execute_result"
    }
   ],
   "source": [
    "# Predicted labels for training data.\n",
    "y_train_hat = (p_train_hat > 0.5) * 1\n",
    "y_train_hat[:3]"
   ]
  },
  {
   "cell_type": "code",
   "execution_count": 18,
   "metadata": {},
   "outputs": [],
   "source": [
    "# Predicted label correctness for training data.\n",
    "# y_train_hat == y_train"
   ]
  },
  {
   "cell_type": "code",
   "execution_count": 19,
   "metadata": {},
   "outputs": [
    {
     "data": {
      "text/plain": [
       "(426,)"
      ]
     },
     "execution_count": 19,
     "metadata": {},
     "output_type": "execute_result"
    }
   ],
   "source": [
    "y_train_hat.shape"
   ]
  },
  {
   "cell_type": "code",
   "execution_count": 20,
   "metadata": {},
   "outputs": [
    {
     "data": {
      "text/plain": [
       "0.9882629107981221"
      ]
     },
     "execution_count": 20,
     "metadata": {},
     "output_type": "execute_result"
    }
   ],
   "source": [
    "# Prediction accuracy for training data.\n",
    "accuracy(y_train, y_train_hat)"
   ]
  },
  {
   "cell_type": "code",
   "execution_count": 21,
   "metadata": {},
   "outputs": [],
   "source": [
    "# Predicted label correctness for test data.\n",
    "p_test_hat = logreg.predict(X_test)\n",
    "y_test_hat = (p_test_hat > 0.5) * 1\n",
    "\n",
    "# y_test_hat == y_test"
   ]
  },
  {
   "cell_type": "code",
   "execution_count": 22,
   "metadata": {},
   "outputs": [
    {
     "data": {
      "text/plain": [
       "0.965034965034965"
      ]
     },
     "execution_count": 22,
     "metadata": {},
     "output_type": "execute_result"
    }
   ],
   "source": [
    "# Prediction accuracy for test data.\n",
    "accuracy(y_test, y_test_hat)"
   ]
  },
  {
   "cell_type": "markdown",
   "metadata": {},
   "source": [
    "## 5. Fitting Sklearn's Logistic Regression as Benchmark"
   ]
  },
  {
   "cell_type": "code",
   "execution_count": null,
   "metadata": {},
   "outputs": [],
   "source": [
    "# Fit sklearn's Logistic Regression.\n",
    "logreg_sk = LogisticRegressionSklearn(C=1e4, solver='lbfgs', max_iter=500)\n",
    "\n",
    "logreg_sk.fit(X_train, y_train)"
   ]
  },
  {
   "cell_type": "code",
   "execution_count": null,
   "metadata": {},
   "outputs": [],
   "source": [
    "# Get coefficients.\n",
    "logreg_sk.intercept_, logreg_sk.coef_"
   ]
  },
  {
   "cell_type": "code",
   "execution_count": null,
   "metadata": {},
   "outputs": [],
   "source": [
    "# Predicted labels for training data.\n",
    "y_pred_train = logreg_sk.predict(X_train)\n",
    "y_pred_train[:3]"
   ]
  },
  {
   "cell_type": "code",
   "execution_count": null,
   "metadata": {},
   "outputs": [],
   "source": [
    "# Predicted label correctness for training data.\n",
    "# y_pred_train == y_train"
   ]
  },
  {
   "cell_type": "code",
   "execution_count": null,
   "metadata": {},
   "outputs": [],
   "source": [
    "# Prediction accuracy for training data.\n",
    "accuracy(y_train, y_pred_train)"
   ]
  },
  {
   "cell_type": "code",
   "execution_count": null,
   "metadata": {},
   "outputs": [],
   "source": [
    "# Predicted label correctness for test data.\n",
    "y_pred_test = logreg_sk.predict(X_test) \n",
    "# y_pred_test == y_test"
   ]
  },
  {
   "cell_type": "code",
   "execution_count": null,
   "metadata": {},
   "outputs": [],
   "source": [
    "# # Prediction accuracy for test data.\n",
    "accuracy(y_test, y_pred_test)"
   ]
  },
  {
   "cell_type": "code",
   "execution_count": null,
   "metadata": {},
   "outputs": [],
   "source": []
  }
 ],
 "metadata": {
  "kernelspec": {
   "display_name": "Python 3",
   "language": "python",
   "name": "python3"
  },
  "language_info": {
   "codemirror_mode": {
    "name": "ipython",
    "version": 3
   },
   "file_extension": ".py",
   "mimetype": "text/x-python",
   "name": "python",
   "nbconvert_exporter": "python",
   "pygments_lexer": "ipython3",
   "version": "3.6.9"
  }
 },
 "nbformat": 4,
 "nbformat_minor": 2
}
