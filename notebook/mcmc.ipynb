{
 "cells": [
  {
   "cell_type": "markdown",
   "metadata": {},
   "source": [
    "# Markov Chain Monte Carlo (MCMC)\n",
    "\n",
    "- Bowen Li\n",
    "- 2018/01/03"
   ]
  },
  {
   "cell_type": "markdown",
   "metadata": {
    "collapsed": true
   },
   "source": [
    "## Introduction\n",
    "\n",
    "**Markov Chain Monte Carlo (MCMC)** is a powerful technique to **generate random variables from complicated joint distribution,** with applications in moment estimation, Bayesian modeling, to name a few. This notebook is to summarize it methodology and implementations."
   ]
  },
  {
   "cell_type": "markdown",
   "metadata": {},
   "source": [
    "## Markov Chain\n",
    "\n",
    "TBD\n",
    "\n",
    "## Hastings-Metropolis Algorithm\n",
    "\n",
    "Let $b(j), j = 1,...,m$, be positive numbers, and $B = \\sum_j b(j)$. \n",
    "Suppose $m$ is large and $B$ is difficult to calculate.\n",
    "We want to simulate a sequence of random variables with probability mass function \n",
    "\n",
    "$$\n",
    "\\pi(j) = b(j) / B, j = 1,...,m.\n",
    "$$\n",
    "\n",
    "One way of this simulation is to find a Markov chain that is easy to simulate and whose limiting probabilities are the $\\pi(j)$.\n",
    "\n",
    "The Hastings-Metropolis algorithm provides a procedure for accomplishing the task.\n",
    "\n",
    "### Procedure\n",
    "\n",
    "1. Choose an irreducible Markov chain transition probability matrix $Q$ with transition probability $q(i, j), i, j = 1,...,m$.\n",
    "2. Choose some integer $k$ between $1,...,m$.\n",
    "3. Let $n = 0$, $X_n = k$.\n",
    "4. Generate a random variable $X$ s.t. $P(X = j) = q(X_n, j)$ and generate a random number $U$.\n",
    "5. If $U < b(X)q(X, X_n) / b(X_n)q(X_n, X)$, then $X_{n + 1} = X$, else $X_{n + 1} = X_n$.\n",
    "6. Set $n = n + 1$ and go to Step 3."
   ]
  },
  {
   "cell_type": "markdown",
   "metadata": {
    "collapsed": true
   },
   "source": [
    "## Gibbs Sampler\n",
    "\n",
    "TBD"
   ]
  },
  {
   "cell_type": "code",
   "execution_count": null,
   "metadata": {
    "collapsed": true
   },
   "outputs": [],
   "source": []
  }
 ],
 "metadata": {
  "kernelspec": {
   "display_name": "Python 2",
   "language": "python",
   "name": "python2"
  },
  "language_info": {
   "codemirror_mode": {
    "name": "ipython",
    "version": 2
   },
   "file_extension": ".py",
   "mimetype": "text/x-python",
   "name": "python",
   "nbconvert_exporter": "python",
   "pygments_lexer": "ipython2",
   "version": "2.7.12"
  }
 },
 "nbformat": 4,
 "nbformat_minor": 2
}
