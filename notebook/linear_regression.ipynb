{
 "cells": [
  {
   "cell_type": "markdown",
   "metadata": {},
   "source": [
    "# Linear Regression with Numpy Implementation"
   ]
  },
  {
   "cell_type": "markdown",
   "metadata": {},
   "source": [
    "## 1. Introduction\n",
    "\n",
    "Linear regression is the most important machine learning model for continuous response. I will summarize its methodology and implement it from scratch using NumPy.\n",
    "\n",
    "The problem we want to solve is prediction for **continuous response,** for example, we want to use house size and the number of rooms, $(x_1, x_2)$, to predict house price, $y \\in R$, such as house price."
   ]
  },
  {
   "cell_type": "markdown",
   "metadata": {},
   "source": [
    "## 2. Linear Regression Model\n",
    "\n",
    "Generally, we would like to use multiple features $(x_1, ..., x_p)$ for better prediction of response $y$, with the observed data $\\{(y_i, x_{i1}, ..., x_{ip})\\},\\ i = 1, ..., n\\}$, where $n$ is the number of examples. Suppose\n",
    "\n",
    "$$\n",
    "y_i = b + w_1 x_{i1} + ...+ w_p x_{ip} + \\epsilon_i = b + x_i^T w + \\epsilon_i,\n",
    "$$\n",
    "\n",
    "where\n",
    "- $b$ and $w = (w_1, ..., w_p)^T$ are the unknown model parameters; $b$ is the model bias, and $w$ is the model weights, and\n",
    "- $\\epsilon_i = y_i - (b + x_i^T w)$ is the resulting estimation error.\n",
    "\n",
    "We want to estimate $(b, w)$ which minimize the **mean squared errors:**\n",
    "\n",
    "$$\n",
    "J(b, w) = \\frac{1}{2m} \\sum_{i=1}^n (y_i - (b + x_i^T w))^2.\n",
    "$$\n",
    "\n",
    "[To be continued.]"
   ]
  },
  {
   "cell_type": "markdown",
   "metadata": {},
   "source": [
    "## 3. Data Preparation and Preprocessing"
   ]
  },
  {
   "cell_type": "code",
   "execution_count": 1,
   "metadata": {},
   "outputs": [],
   "source": [
    "from __future__ import absolute_import\n",
    "from __future__ import division\n",
    "from __future__ import print_function\n",
    "\n",
    "import numpy as np\n",
    "from sklearn.model_selection import train_test_split"
   ]
  },
  {
   "cell_type": "code",
   "execution_count": 3,
   "metadata": {},
   "outputs": [],
   "source": [
    "true_w = np.array([2, -3.4])\n",
    "true_b = 4.2\n",
    "\n",
    "n_examples = 1000\n",
    "n_inputs = len(true_w)\n",
    "\n",
    "X = np.random.normal(scale=1, size=(n_examples, n_inputs))\n",
    "y = np.matmul(X, true_w) + true_b + np.random.normal(scale=0.01, size=n_examples)"
   ]
  },
  {
   "cell_type": "code",
   "execution_count": 4,
   "metadata": {},
   "outputs": [
    {
     "data": {
      "text/plain": [
       "array([[0.87476274, 0.54884147],\n",
       "       [0.15622398, 0.95024411],\n",
       "       [0.11297256, 2.09362462]])"
      ]
     },
     "execution_count": 4,
     "metadata": {},
     "output_type": "execute_result"
    }
   ],
   "source": [
    "X[:3]"
   ]
  },
  {
   "cell_type": "code",
   "execution_count": 5,
   "metadata": {},
   "outputs": [
    {
     "data": {
      "text/plain": [
       "array([ 4.06239435,  1.276877  , -2.68890923])"
      ]
     },
     "execution_count": 5,
     "metadata": {},
     "output_type": "execute_result"
    }
   ],
   "source": [
    "y[:3]"
   ]
  },
  {
   "cell_type": "code",
   "execution_count": 6,
   "metadata": {},
   "outputs": [],
   "source": [
    "# Split data into training and test datasets.\n",
    "X_train, X_test, y_train, y_test = train_test_split(\n",
    "    X, y, test_size=0.25, random_state=71, shuffle=True)"
   ]
  },
  {
   "cell_type": "markdown",
   "metadata": {},
   "source": [
    "## 4. Fitting Linear Regression from Scratch\n",
    "\n",
    "[To be continued.]"
   ]
  },
  {
   "cell_type": "code",
   "execution_count": null,
   "metadata": {},
   "outputs": [],
   "source": []
  }
 ],
 "metadata": {
  "kernelspec": {
   "display_name": "Python 3",
   "language": "python",
   "name": "python3"
  },
  "language_info": {
   "codemirror_mode": {
    "name": "ipython",
    "version": 3
   },
   "file_extension": ".py",
   "mimetype": "text/x-python",
   "name": "python",
   "nbconvert_exporter": "python",
   "pygments_lexer": "ipython3",
   "version": "3.5.2"
  }
 },
 "nbformat": 4,
 "nbformat_minor": 2
}
