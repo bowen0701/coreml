{
 "cells": [
  {
   "cell_type": "markdown",
   "metadata": {},
   "source": [
    "# Correspondence Analysis with Implementation"
   ]
  },
  {
   "cell_type": "markdown",
   "metadata": {},
   "source": [
    "- Bowen Li\n",
    "- 2016/10/06"
   ]
  },
  {
   "cell_type": "markdown",
   "metadata": {},
   "source": [
    "## Outline\n",
    "\n",
    "1. What is Correspondence Analysis?\n",
    "2. Why Correspondence Analysis?\n",
    "3. Methodology Summary\n",
    "4. Visualization Maps\n",
    "5. Implementation from Scratch"
   ]
  },
  {
   "cell_type": "markdown",
   "metadata": {},
   "source": [
    "## 1. What is Correspondence Analysis?\n",
    "- **Aggregate data based:** more useful and convenient, compared with raw data-based.\n",
    "- **Dimension reduction:** represent associations in a table of nonnegative **counts.**\n",
    "- **Data visualization for association**: the positions of the points reflect associations."
   ]
  },
  {
   "cell_type": "markdown",
   "metadata": {},
   "source": [
    "### Numerous Applications\n",
    "\n",
    "- Segments vs. Genders\n",
    "- Segments vs. 24 hours\n",
    "- Segments vs. 7 weekdays\n",
    "- Segments vs. Locations\n",
    "- Segments vs. App detection\n",
    "- Segments vs. {only-impressions, with-clicks and further-with-actions}\n",
    "- Campaigns vs. {only-impressions, with-clicks and further-with-actions}\n",
    "- Other groups vs. characteristics, etc..."
   ]
  },
  {
   "cell_type": "markdown",
   "metadata": {
    "collapsed": true
   },
   "source": [
    "### Correspondence analysis of archaeological data: sites vs. types\n",
    "<img src=\"./images/contingency_table.png\" alt=\"Drawing\" style=\"width: 450px;\"/>"
   ]
  },
  {
   "cell_type": "markdown",
   "metadata": {},
   "source": [
    "Common data visualizations:"
   ]
  },
  {
   "cell_type": "markdown",
   "metadata": {},
   "source": [
    "<img src=\"./images/site_type_profile.png\" alt=\"Drawing\" style=\"width: 700px;\"/>"
   ]
  },
  {
   "cell_type": "markdown",
   "metadata": {},
   "source": [
    "However, common data visualizations of type by site (left) and site by type (right) **cannot quantify associations.**\n",
    "\n",
    "**Correspondence analysis vidualization:**"
   ]
  },
  {
   "cell_type": "markdown",
   "metadata": {
    "collapsed": true
   },
   "source": [
    "<img src=\"./images/ca_demo.png\" alt=\"Drawing\" style=\"width: 550px;\"/>"
   ]
  },
  {
   "cell_type": "markdown",
   "metadata": {},
   "source": [
    "- **Sites association:** \n",
    "  * *P1* and *P2* are close together, and thus have similar **type profiles**\n",
    "  * *P0* ad *P6* are far apart, and thus have different type profiles\n",
    "- **Types association:**\n",
    "  * *A*, *B*, *C* and *D* have different **site profiles**\n",
    "- **Site and type association:** (rough, see later)\n",
    "  * Site *P0* is associated almost exclusively with type *D*\n",
    "  * Site *P6* is similarly associated with type *C*\n",
    "  * Sites *P1*, *P2* and *P3* (to lesser degrees) are associated with type *A*\n",
    "- **Measure of retained information:**\n",
    "  * **Inertia:** amount of retained information with\n",
    "    - 1st dimension: $\\lambda^2_1 = 0.28 (55\\%)$\n",
    "    - 2nd dimension: $\\lambda^2_2 = 0.17 (28\\%)$\n",
    "  * The two dimensions account for $55\\% + 28\\% = 88\\%$ of the total inertia\n",
    "  * The representations fits the data well"
   ]
  },
  {
   "cell_type": "markdown",
   "metadata": {},
   "source": [
    "## 2. Why Correspondence Analysis?"
   ]
  },
  {
   "cell_type": "markdown",
   "metadata": {},
   "source": [
    "Reference: Abdi & Williams (2010)."
   ]
  },
  {
   "cell_type": "code",
   "execution_count": 12,
   "metadata": {
    "collapsed": true
   },
   "outputs": [],
   "source": [
    "from __future__ import division\n",
    "from __future__ import print_function\n",
    "\n",
    "import numpy as np\n",
    "import scipy as sp \n",
    "import pandas as pd"
   ]
  },
  {
   "cell_type": "code",
   "execution_count": 14,
   "metadata": {
    "collapsed": true
   },
   "outputs": [],
   "source": [
    "%load_ext rpy2.ipython"
   ]
  },
  {
   "cell_type": "code",
   "execution_count": null,
   "metadata": {
    "collapsed": true
   },
   "outputs": [],
   "source": [
    "%%R\n",
    "library(ggplot2)\n",
    "library(scales)\n",
    "library(dplyr)\n",
    "library(data.table)\n",
    "library(grid)\n",
    "library(gridExtra)\n",
    "\n",
    "library(ca)"
   ]
  },
  {
   "cell_type": "markdown",
   "metadata": {},
   "source": [
    "**French authors dataset:**\n",
    "- Goal: Derive a map that reveals the **similarities in punctuation style between authors.**\n",
    "- Note: Zola, who wrote a *small* novel under a pseudonym of Aloz."
   ]
  },
  {
   "cell_type": "code",
   "execution_count": 15,
   "metadata": {},
   "outputs": [
    {
     "data": {
      "text/html": [
       "<div>\n",
       "<table border=\"1\" class=\"dataframe\">\n",
       "  <thead>\n",
       "    <tr style=\"text-align: right;\">\n",
       "      <th></th>\n",
       "      <th>period</th>\n",
       "      <th>comma</th>\n",
       "      <th>others</th>\n",
       "    </tr>\n",
       "  </thead>\n",
       "  <tbody>\n",
       "    <tr>\n",
       "      <th>Rousseau</th>\n",
       "      <td>7836</td>\n",
       "      <td>13112</td>\n",
       "      <td>6026</td>\n",
       "    </tr>\n",
       "    <tr>\n",
       "      <th>Chateaubriand</th>\n",
       "      <td>53655</td>\n",
       "      <td>102383</td>\n",
       "      <td>42413</td>\n",
       "    </tr>\n",
       "    <tr>\n",
       "      <th>Hugo</th>\n",
       "      <td>115615</td>\n",
       "      <td>184541</td>\n",
       "      <td>59226</td>\n",
       "    </tr>\n",
       "    <tr>\n",
       "      <th>Zola</th>\n",
       "      <td>161926</td>\n",
       "      <td>340479</td>\n",
       "      <td>62754</td>\n",
       "    </tr>\n",
       "    <tr>\n",
       "      <th>Proust</th>\n",
       "      <td>38177</td>\n",
       "      <td>105101</td>\n",
       "      <td>12670</td>\n",
       "    </tr>\n",
       "    <tr>\n",
       "      <th>Giraudoux</th>\n",
       "      <td>46371</td>\n",
       "      <td>58367</td>\n",
       "      <td>14299</td>\n",
       "    </tr>\n",
       "    <tr>\n",
       "      <th>Aloz</th>\n",
       "      <td>2699</td>\n",
       "      <td>5675</td>\n",
       "      <td>1046</td>\n",
       "    </tr>\n",
       "  </tbody>\n",
       "</table>\n",
       "</div>"
      ],
      "text/plain": [
       "               period   comma  others\n",
       "Rousseau         7836   13112    6026\n",
       "Chateaubriand   53655  102383   42413\n",
       "Hugo           115615  184541   59226\n",
       "Zola           161926  340479   62754\n",
       "Proust          38177  105101   12670\n",
       "Giraudoux       46371   58367   14299\n",
       "Aloz             2699    5675    1046"
      ]
     },
     "execution_count": 15,
     "metadata": {},
     "output_type": "execute_result"
    }
   ],
   "source": [
    "data = {'period': [7836, 53655, 115615, 161926, 38177, 46371, 2699],\n",
    "        'comma': [13112, 102383, 184541, 340479, 105101, 58367, 5675],\n",
    "        'others': [6026, 42413, 59226, 62754, 12670, 14299, 1046]}\n",
    "data = pd.DataFrame(data, columns=['period', 'comma', 'others'],\n",
    "                    index=['Rousseau', 'Chateaubriand', 'Hugo', \\\n",
    "                           'Zola', 'Proust', 'Giraudoux', 'Aloz'])\n",
    "data"
   ]
  },
  {
   "cell_type": "markdown",
   "metadata": {},
   "source": [
    "**First (bad) idea: PCA (sometimes)**\n",
    "- Aloz punctuates the style similarity as Zola, but is farther away from Zola than any authors.\n",
    "- That is because **PCA is mainly sensitive to the number** of produced punctuation marks. \n",
    "\n",
    "<img src=\"./images/bad_pca.png\" alt=\"Drawing\" style=\"width: 700px;\" align=\"left\" />"
   ]
  },
  {
   "cell_type": "markdown",
   "metadata": {},
   "source": [
    "**Correspondence analysis is successful:**\n",
    "- From correspondence analysis results, Aloz and Zola are close together!\n",
    "- It successfully **reveals profile (style) similarity.**"
   ]
  },
  {
   "cell_type": "code",
   "execution_count": 28,
   "metadata": {},
   "outputs": [
    {
     "data": {
      "image/png": "[encoded data removed]"
     },
     "metadata": {},
     "output_type": "display_data"
    }
   ],
   "source": [
    "%%R -i data\n",
    "plot(ca(data))"
   ]
  },
  {
   "cell_type": "markdown",
   "metadata": {
    "collapsed": true
   },
   "source": [
    "## 3. Methodology Summary\n",
    "Correspondence Analysis is based on **generalized singular value decomposition (SVD),** which is similar to **principal component analysis (PCA),** except that the former applies to categorical rather than continuous data; for introduction see [post](https://bowen0701.github.io/2016/10/05/sml-pca-svd)."
   ]
  },
  {
   "cell_type": "markdown",
   "metadata": {},
   "source": [
    "### Correspondence analysis methodology\n",
    "- Let the observed data be a **contigency table** of *unscaled* **counts** which is summarized data,\n",
    "\n",
    "$$\n",
    "\\underset{(I \\times J)}X = \\{x_{ij}\\} =\n",
    "\\begin{bmatrix}\n",
    "x_{11} & \\cdots & x_{1J} \\\\\n",
    "\\vdots &        & \\vdots \\\\ \n",
    "x_{I1} & \\cdots & x_{IJ}\n",
    "\\end{bmatrix}\n",
    "$$\n",
    "\n",
    "- The rows and columns of $X$ correspond to different **categories (groups)** of different **characteristics.**"
   ]
  },
  {
   "cell_type": "markdown",
   "metadata": {},
   "source": [
    "Define:\n",
    "- **Correspondence matrix**: divide $x_{ij}$ by **total count,** $n = \\textstyle \\sum_{i=1}^I \\sum_{j=1}^J x_{ij}$, to obtain\n",
    "\n",
    "$$\n",
    "p_{ij} = \\frac{1}{n} x_{ij}, or \n",
    "\\underset{I \\times J}P = \\frac{1}{n} X\n",
    "$$\n",
    "\n",
    "- **Row and column profiles:**\n",
    "\n",
    "$$\n",
    "r_i = \\sum_{j=1}^J p_{ij} = \\frac{1}{n} \\sum_{j=1}^J x_{ij}, or \\underset{I \\times 1} r = P \\mathbf{1}_J\n",
    "$$\n",
    "$$\n",
    "c_j = \\sum_{i=1}^I p_{ij} = \\frac{1}{n} \\sum_{i=1}^I x_{ij}, or \\underset{J \\times 1} c = P^T \\mathbf{1}_I\n",
    "$$\n",
    "\n",
    "- Diagonal matrices with elements of $r$ and $c$:\n",
    "\n",
    "$$\n",
    "D_r = diag(r_1,...,r_I)\n",
    "$$\n",
    "$$\n",
    "D_c = diag(c_1,...,c_J)\n",
    "$$"
   ]
  },
  {
   "cell_type": "markdown",
   "metadata": {},
   "source": [
    "**Correspondence analysis:**\n",
    "- It can be formulated as the **reduced rank-K \"weighted\" least squares approximation** to select $\\widehat{P} = \\{p_{ij}\\}$ which **minimizes**\n",
    "\n",
    "$$\n",
    "\\sum_{i=1}^I \\sum_{j=1}^J \\frac{\\left( p_{ij} - \\widehat{p}_{ij} \\right)^2}{r_i c_j}\n",
    "= tr \\left[ \\left( D_r^{-1/2} (P - \\widehat{P}) D_c^{-1/2} \\right) \\left( D_r^{-1/2} (P - \\widehat{P}) D_c^{-1/2} \\right)^T \\right]\n",
    "$$"
   ]
  },
  {
   "cell_type": "markdown",
   "metadata": {},
   "source": [
    "- **Result from Johnson & Wichern (2002), p. 72:** The term $r c^T$ is common to the approximation $\\widehat{P}$ whatever the correspondence matrix $P$.\n",
    "- Thus, it is equivalent to minimize\n",
    "\n",
    "$$\n",
    "tr \\left[ \\left( D_r^{-1/2} (P - r c^T - \\widehat{P}) D_c^{-1/2} \\right) \\left( D_r^{-1/2} (P - r c^T - \\widehat{P}) D_c^{-1/2} \\right)^T \\right]\n",
    "$$\n",
    "\n",
    "- Similarly with SVD, compute the **SVD of $D_r^{-1/2} (P - r c^T) D_c^{-1/2}$**:\n",
    "\n",
    "$$\n",
    "D_r^{-1/2} (P - r c^T) D_c^{-1/2} = U \\Sigma V^T\n",
    "$$\n",
    "\n",
    "where $U$ and $V$ are *orthogonal* matrices with $U^T U = V^T V = I$, and $\\Sigma$ is a rank-K *diagonal* matrix."
   ]
  },
  {
   "cell_type": "markdown",
   "metadata": {},
   "source": [
    "- Thus,\n",
    "\n",
    "$$\n",
    "P - r c^T = D_r^{1/2} \\left( U \\Sigma V^T \\right) D_c^{1/2}\n",
    "          = A \\Sigma B\n",
    "$$\n",
    "\n",
    "where $A = D_r^{1/2} U$ and $B = D_c^{1/2} V$.\n",
    "\n",
    "- The above decomposition is often called **generalized SVD:**\n",
    "\n",
    "$$\n",
    "P - r c^T = A \\Sigma B, \\mbox{ with } A^T D_r^{-1} A =  B^T D_c^{-1} B = I\n",
    "$$"
   ]
  },
  {
   "cell_type": "markdown",
   "metadata": {},
   "source": [
    "- **Row profile matrix:** divide each row by its sum,\n",
    "\n",
    "$$\n",
    "R = D_r^{-1} P = \n",
    "\\begin{bmatrix}\n",
    "\\frac{p_{11}}{r_1} & \\frac{p_{12}}{r_1} & \\cdots & \\frac{p_{1J}}{r_1} \\\\\n",
    "\\vdots &        & \\vdots \\\\ \n",
    "\\frac{p_{I1}}{r_I} & \\frac{p_{I2}}{r_I} & \\cdots & \\frac{p_{IJ}}{r_I} \\\\\n",
    "\\end{bmatrix}\n",
    "$$\n",
    "\n",
    "- **Column profile matrix:** divide each column by its sum,\n",
    "\n",
    "$$\n",
    "C = P D_c^{-1} = \n",
    "\\begin{bmatrix}\n",
    "\\frac{p_{11}}{c_1} & \\frac{p_{12}}{c_2} & \\cdots & \\frac{p_{1J}}{c_J} \\\\\n",
    "\\vdots &        & \\vdots \\\\ \n",
    "\\frac{p_{I1}}{c_1} & \\frac{p_{I2}}{c_2} & \\cdots & \\frac{p_{IJ}}{c_J} \\\\\n",
    "\\end{bmatrix}\n",
    "$$"
   ]
  },
  {
   "cell_type": "markdown",
   "metadata": {},
   "source": [
    "- **Row deviations from average row profile:**\n",
    "\n",
    "$$\n",
    "R - \\mathbf{1}_I c^T = D_r^{-1} P - \\mathbf{1}_I c^T\n",
    "         = D_r^{-1} (P - rc^T)\n",
    "         = D_r^{-1} A \\Sigma B^T \\\\\n",
    "         = D_r^{-1} \\left( D_r^{1/2} U \\right) \\Sigma B^T\n",
    "         = D_r^{-1/2} U \\Sigma B^T\n",
    "$$\n",
    "\n",
    "- **Column deviations from average column profile:** similarly,\n",
    "\n",
    "$$\n",
    "(C - r\\mathbf{1}_J^T)^T = D_c^{-1} P - r\\mathbf{1}_J^T\n",
    "                        =  D_c^{-1/2} V \\Sigma A^T \n",
    "$$"
   ]
  },
  {
   "cell_type": "markdown",
   "metadata": {},
   "source": [
    "- **Principal coordinates of rows:** The coordinates for $(R - \\mathbf{1}_I c^T)$ w.r.t. the axes of $b_1,...,b_k$ are given by the columns of\n",
    "\n",
    "$$\n",
    "F = D_r^{-1/2} U \\Sigma\n",
    "$$\n",
    "\n",
    "- **Principal coordinates of columns:** The coordinates for $(C - r\\mathbf{1}_J^T)^T$ w.r.t. the axes of $b_1,...,b_k$ are given by the columns of\n",
    "\n",
    "$$\n",
    "G = D_c^{-1/2} V \\Sigma\n",
    "$$\n",
    "\n",
    "- **Standard coordinates of rows:**\n",
    "\n",
    "$$\n",
    "\\Phi = D_r^{-1/2} U\n",
    "$$\n",
    "\n",
    "- **Standard coordinates of columns:**\n",
    "\n",
    "$$\n",
    "\\Gamma = D_c^{-1/2} V\n",
    "$$"
   ]
  },
  {
   "cell_type": "markdown",
   "metadata": {},
   "source": [
    "- Relationship:\n",
    "\n",
    "$$\n",
    "F^T D_r F = G^T D_c G = \\Sigma^2\n",
    "$$\n",
    "$$\n",
    "\\Phi^T D_r \\Phi = \\Gamma^T D_c \\Gamma = I\n",
    "$$"
   ]
  },
  {
   "cell_type": "markdown",
   "metadata": {},
   "source": [
    "**Inertia:** total variance of the correspondence matrix $P$, which resembles a chi-square statistic,\n",
    "\n",
    "$$\n",
    "Inertia = \\sum_{i=1}^I \\sum_{j=1}^J \\frac{\\left( p_{ij} - r_i c_j \\right)^2}{r_i c_j} \n",
    "        = \\sum_{k=1}^K \\lambda_k^2\n",
    "$$\n",
    "\n",
    "\n",
    "**Evaluation of 2D graphical display:**\n",
    "- **Inertia associated with dimension $k$, for $k = 1,2$:** $\\lambda_k^2$.\n",
    "- **Proportion of total inertia:** explained total variance; the larger, the better.\n",
    "\n",
    "$$\n",
    "\\frac{\\left(\\lambda_1^2 + \\lambda_2^2 \\right)}{\\sum_{k=1}^K \\lambda_k^2}\n",
    "$$"
   ]
  },
  {
   "cell_type": "markdown",
   "metadata": {},
   "source": [
    "## 4. Visualization Maps\n",
    "\n",
    "- **(1) Symmetric map:** $(F, G)$, rows and columns in principal coordinates.\n",
    "- **(2) Asymmetric map with row principal:** $(F, \\Gamma)$, rows (of more interest) in principal and columns in standard coordinates.\n",
    "- **(3) Asymmetric map with column principal:** $(\\Phi, G)$, rows in standard and columns (of more interest) in principal corordinates. \n",
    "\n",
    "**Symmetric map (1):**\n",
    "- Since principal coordinates of rows and columns, $(F, G)$, are scaled similarly, **joint display of two separate maps** finds some justification.\n",
    "- Distances between row points (and between column points) are meaningful.\n",
    "- However, there is a **danger in interpreting row-to-column distances directly:** not possible to deduce from the closeness of a row and column point the fact that the corresponding row and column necessarily have a high association.\n",
    "\n",
    "**Asymmetric maps (2) and (3):**\n",
    "- Notice that the **row and column points in biplot lie in the same space**, with the column points defining the most extreme profiles possible, and for example, row profiles are at weighted averages of the column points, the weights being the profile elements.\n",
    "- Hence, closeness of a row and column point indicates a high association; we can calculate **row-to-column distances for one column at a time.**"
   ]
  },
  {
   "cell_type": "markdown",
   "metadata": {},
   "source": [
    "Figures 9.4 in Greenacre (2007):\n",
    "<img src=\"./images/symmetric_map.png\" alt=\"Drawing\" style=\"width: 550px;\"/>"
   ]
  },
  {
   "cell_type": "markdown",
   "metadata": {
    "collapsed": true
   },
   "source": [
    "Figures 9.5 in Greenacre (2007):\n",
    "\n",
    "<img src=\"./images/asymmetric_map.png\" alt=\"Drawing\" style=\"width: 550px;\"/>"
   ]
  },
  {
   "cell_type": "markdown",
   "metadata": {},
   "source": [
    "## 5. Implementation from Scratch\n",
    "\n",
    "I implement Correspondence Analysis from scratch as follows; to download the scripts please refert to my corresponding [GitHub repo](https://github.com/bowen0701/corranal)."
   ]
  },
  {
   "cell_type": "code",
   "execution_count": 1,
   "metadata": {
    "collapsed": true
   },
   "outputs": [],
   "source": [
    "# corranal2.py: Python Correspondence Analysis\n",
    "from __future__ import division\n",
    "from __future__ import print_function\n",
    "\n",
    "import numpy as np\n",
    "import scipy as sp \n",
    "import pandas as pd\n",
    "from numpy.linalg import svd\n",
    "\n",
    "def _coordinates_df(array_x1, array_x2, rows, cols):\n",
    "    \"\"\"Create pandas DataFrame with coordinates in rows and columns.\n",
    "        \n",
    "    Args:\n",
    "      array_x1: numpy array, coordinates in rows.\n",
    "      array_x2: numpy array, coordinates in columns.\n",
    "      rows: numpy array, row group name.\n",
    "      cols: numpy array, column group name.\n",
    "        \n",
    "    Returns:\n",
    "      coord_df: pandas DataFrame with columns {'x_1',..., 'x_K', 'point', 'coord'}:\n",
    "        x_k, k=1,...,K: K-dimensional coordinates.\n",
    "        point: row and column points for labeling.\n",
    "        coord: {'row', 'col'}, indicates row point or column point.\n",
    "    \"\"\"\n",
    "    row_df = pd.DataFrame(\n",
    "        array_x1, columns=['x' +  str(i) for i in (np.arange(array_x1.shape[1]) + 1)])\n",
    "    row_df['point'] = rows\n",
    "    row_df['coord'] = 'row'\n",
    "    col_df = pd.DataFrame(\n",
    "        array_x2, columns=['x' +  str(i) for i in (np.arange(array_x2.shape[1]) + 1)])\n",
    "    col_df['point'] = cols\n",
    "    col_df['coord'] = 'col'         \n",
    "    coord_df = pd.concat([row_df, col_df], ignore_index=True)\n",
    "    return coord_df\n",
    "\n",
    "def ca(df, option='symmetric'):\n",
    "    \"\"\"Correspondence Analysis.\n",
    "    \n",
    "    This method performs generalized singular value decomposition (SVD) for\n",
    "    correspondence matrix and computes principal and standard coordinates for\n",
    "    rows and columns.\n",
    "    \n",
    "    ### Usage\n",
    "    \n",
    "    ```\n",
    "    ca_output = ca(author_data, option='symmetric')\n",
    "    coord_df = ca_output['coordinates']\n",
    "    inertia_prop = ca_output['inertia_proportion']\n",
    "    ```\n",
    "    \n",
    "    Args:\n",
    "      df: pandas DataFrame, with row and column names.\n",
    "      option: string, in one of the following three:\n",
    "        'symmetric': symmetric map with \n",
    "          - rows and columns in principal coordinates.\n",
    "        'rowprincipal': asymmetric map with \n",
    "          - rows in principal coordinates and \n",
    "          - columns in standard coordinates.  \n",
    "        'colprincipal': asymmetric map with \n",
    "          - rows in standard coordinates and \n",
    "          - columns in principal coordinates.\n",
    "    \n",
    "    Returns:\n",
    "      d : dict, information dict.\n",
    "        * d['coordinates']: pandas DataFrame, contains coordinates, row and column points. \n",
    "        * d['inertia_proportion']: numpy array, contains proportions of total inertia explained \n",
    "            in coordinate dimensions.\n",
    "    \n",
    "    Raises:\n",
    "      TypeError: The input is not a pandas DataFrame\n",
    "      ValueError: Numpy array contains missing values.\n",
    "      TypeError: Numpy array contains data types other than numeric.\n",
    "      ValueError: Option only includes {\"symmetric\", \"rowprincipal\", \"colprincipal\"}.\n",
    "    \"\"\"\n",
    "\n",
    "    if isinstance(df, pd.DataFrame) is not True:\n",
    "        raise TypeError('The input is not a pandas DataFrame.')  \n",
    "    rows = np.array(df.index)\n",
    "    cols = np.array(df.columns)\n",
    "    np_data = np.array(df.values)      \n",
    "    if np.isnan(np_data).any():\n",
    "        raise ValueError('Numpy array contains missing values.')\n",
    "    if np.issubdtype(np_data.dtype, np.number) is not True:\n",
    "        raise TypeError('Numpy array contains data types other than numeric.')\n",
    "\n",
    "    p_corrmat = np_data / np_data.sum()\n",
    "    r_profile = p_corrmat.sum(axis=1).reshape(p_corrmat.shape[0], 1)\n",
    "    c_profile = p_corrmat.sum(axis=0).reshape(p_corrmat.shape[1], 1)\n",
    "    Dr_invsqrt = np.diag(np.power(r_profile, -1/2).T[0])\n",
    "    Dc_invsqrt = np.diag(np.power(c_profile, -1/2).T[0])\n",
    "    ker_mat = np.subtract(p_corrmat, np.dot(r_profile, c_profile.T))\n",
    "    left_mat = Dr_invsqrt\n",
    "    right_mat = Dc_invsqrt\n",
    "    weighted_lse = left_mat.dot(ker_mat).dot(right_mat)\n",
    "    U, sv, Vt = svd(weighted_lse, full_matrices=False)\n",
    "    V = Vt.T\n",
    "    SV = np.diag(sv)\n",
    "    inertia = np.power(sv, 2)\n",
    "    \n",
    "    if option == 'symmetric':\n",
    "        # Symmetric map with pricipal coordinates for rows and columns.\n",
    "        F = Dr_invsqrt.dot(U).dot(SV)\n",
    "        G = Dc_invsqrt.dot(V).dot(SV)\n",
    "        coordinates = _coordinates_df(F, G, rows, cols)\n",
    "    elif option == 'rowprincipal':\n",
    "        # Asymmetric map with principal coordinates for rows and standard ones for columns.\n",
    "        F = Dr_invsqrt.dot(U).dot(SV)\n",
    "        Gam = Dc_invsqrt.dot(V)\n",
    "        coordinates = _coordinates_df(F, Gam, rows, cols)\n",
    "    elif option == 'colprincipal':\n",
    "        # Asymmetric map with standard coordinates for rows and principal ones for columns.\n",
    "        Phi = Dr_invsqrt.dot(U)\n",
    "        G = Dc_invsqrt.dot(V).dot(SV)\n",
    "        coordinates = _coordinates_df(Phi, G, rows, cols)\n",
    "    else:\n",
    "        raise ValueError(\n",
    "            'Option only includes {\"symmetric\", \"rowprincipal\", \"colprincipal\"}.')\n",
    "    \n",
    "    inertia_proportion = (inertia / inertia.sum())\n",
    "\n",
    "    d = {'coordinates': coordinates, \n",
    "         'inertia_proportion': inertia_proportion}\n",
    "    \n",
    "    return d"
   ]
  },
  {
   "cell_type": "code",
   "execution_count": 1,
   "metadata": {
    "collapsed": true
   },
   "outputs": [],
   "source": [
    "# corranal.py: Python Correspondence Analysis\n",
    "from __future__ import division\n",
    "from __future__ import print_function\n",
    "\n",
    "import numpy as np\n",
    "import scipy as sp \n",
    "import pandas as pd\n",
    "from numpy.linalg import svd\n",
    "\n",
    "class CA(object):\n",
    "    \"\"\"Correspondence analysis (CA).\n",
    "    \n",
    "    Methods:\n",
    "      fit: Fit correspondence analysis.\n",
    "      get_coordinates: Get symmetric or asymmetric map coordinates.\n",
    "      score_inertia: Get score inertia.\n",
    "\n",
    "    ### Usage\n",
    "\n",
    "    ```python\n",
    "    corranal = CA(aggregate_cnt)\n",
    "    corranal.fit()\n",
    "    coord_df = corranal.get_coordinates()\n",
    "    inertia_prop = corranal.score_inertia()\n",
    "    ```\n",
    "    \"\"\"\n",
    "\n",
    "    def __init__(self, df):\n",
    "        \"\"\"Create a new Correspondence Analysis.\n",
    "        \n",
    "        Args:\n",
    "          df: Pandas DataFrame, with row and column names.\n",
    "          \n",
    "        Raises:\n",
    "          TypeError: Input data  is not a pandas DataFrame\n",
    "          ValueError: Input data  contains missing values.\n",
    "          TypeError: Input data  contains data types other than numeric.\n",
    "        \"\"\"\n",
    "        if isinstance(df, pd.DataFrame) is not True:\n",
    "            raise TypeError('Input data is not a Pandas DataFrame.')  \n",
    "        self._rows = np.array(df.index)\n",
    "        self._cols = np.array(df.columns)\n",
    "        self._np_data = np.array(df.values)      \n",
    "        if np.isnan(self._np_data).any():\n",
    "            raise ValueError('Input data contains missing values.')\n",
    "        if np.issubdtype(self._np_data.dtype, np.number) is not True:\n",
    "            raise TypeError('Input data contains data types other than numeric.')\n",
    "\n",
    "    def fit(self):\n",
    "        \"\"\"Compute Correspondence Analysis.\n",
    "\n",
    "        Fit method is to\n",
    "          - perform generalized singular value decomposition (SVD) for \n",
    "            correspondence matrix and \n",
    "          - compute principal and standard coordinates for rows and columns.\n",
    "\n",
    "        Returns:\n",
    "          self: Object.\n",
    "        \"\"\"     \n",
    "        p_corrmat = self._np_data / self._np_data.sum()\n",
    "        r_profile = p_corrmat.sum(axis=1).reshape(p_corrmat.shape[0], 1)\n",
    "        c_profile = p_corrmat.sum(axis=0).reshape(p_corrmat.shape[1], 1)\n",
    "        Dr_invsqrt = np.diag(np.power(r_profile, -1/2).T[0])\n",
    "        Dc_invsqrt = np.diag(np.power(c_profile, -1/2).T[0])\n",
    "        ker_mat = np.subtract(p_corrmat, np.dot(r_profile, c_profile.T))\n",
    "        left_mat = Dr_invsqrt\n",
    "        right_mat = Dc_invsqrt\n",
    "        weighted_lse = left_mat.dot(ker_mat).dot(right_mat)\n",
    "        U, sv, Vt = svd(weighted_lse, full_matrices=False)\n",
    "        self._Dr_invsqrt = Dr_invsqrt\n",
    "        self._Dc_invsqrt = Dc_invsqrt\n",
    "        self._U = U\n",
    "        self._V = Vt.T\n",
    "        self._SV = np.diag(sv)\n",
    "        self._inertia = np.power(sv, 2)\n",
    "        # Pricipal coordinates for rows and columns.\n",
    "        self._F = self._Dr_invsqrt.dot(self._U).dot(self._SV)\n",
    "        self._G = self._Dc_invsqrt.dot(self._V).dot(self._SV)\n",
    "        # Standard coordinates for rows and columns.\n",
    "        self._Phi = self._Dr_invsqrt.dot(self._U)\n",
    "        self._Gam = self._Dc_invsqrt.dot(self._V)\n",
    "        return self\n",
    "    \n",
    "    def _coordinates_df(self, array_x1, array_x2):\n",
    "        \"\"\"Create pandas DataFrame with coordinates in rows and columns.\n",
    "        \n",
    "        Args:\n",
    "          array_x1: numpy array, coordinates in rows.\n",
    "          array_x2: numpy array, coordinates in columns.\n",
    "        \n",
    "        Returns:\n",
    "          coord_df: A Pandas DataFrame with columns \n",
    "            {'x_1',..., 'x_K', 'point', 'coord'}:\n",
    "            - x_k, k=1,...,K: K-dimensional coordinates.\n",
    "            - point: row and column points for labeling.\n",
    "            - coord: {'row', 'col'}, indicates row point or column point.\n",
    "        \"\"\"\n",
    "        row_df = pd.DataFrame(\n",
    "            array_x1, \n",
    "            columns=['x' +  str(i) for i in (np.arange(array_x1.shape[1]) + 1)])\n",
    "        row_df['point'] = self._rows\n",
    "        row_df['coord'] = 'row'\n",
    "        col_df = pd.DataFrame(\n",
    "            array_x2, \n",
    "            columns=['x' +  str(i) for i in (np.arange(array_x2.shape[1]) + 1)])\n",
    "        col_df['point'] = self._cols\n",
    "        col_df['coord'] = 'col'         \n",
    "        coord_df = pd.concat([row_df, col_df], ignore_index=True)\n",
    "        return coord_df\n",
    "    \n",
    "    def get_coordinates(self, option='symmetric'):\n",
    "        \"\"\"Take coordinates in rows and columns for symmetric or assymetric map.\n",
    "        \n",
    "        For symmetric vs. asymmetric map:\n",
    "          - For symmetric map, we can catch row-to-row and column-to-column \n",
    "            association (maybe not row-to-column association); \n",
    "          - For asymmetric map, we can further catch row-to-column association.\n",
    "        \n",
    "        Args:\n",
    "          option: string, in one of the following three:\n",
    "            'symmetric': symmetric map with \n",
    "              - rows and columns in principal coordinates.\n",
    "            'rowprincipal': asymmetric map with \n",
    "              - rows in principal coordinates and \n",
    "              - columns in standard coordinates.  \n",
    "            'colprincipal': asymmetric map with \n",
    "              - rows in standard coordinates and \n",
    "              - columns in principal coordinates.\n",
    "        \n",
    "        Returns:\n",
    "          Pandas DataFrame, contains coordinates, row and column points.\n",
    "        \n",
    "        Raises:\n",
    "          ValueError: Option only includes {\"symmetric\", \"rowprincipal\", \"colprincipal\"}.\n",
    "        \"\"\"     \n",
    "        if option == 'symmetric':\n",
    "            # Symmetric map\n",
    "            return self._coordinates_df(self._F, self._G)\n",
    "        elif option == 'rowprincipal':\n",
    "            # Row principal asymmetric map\n",
    "            return self._coordinates_df(self._F, self._Gam)\n",
    "        elif option == 'colprincipal':\n",
    "            # Column principal asymmetric map\n",
    "            return self._coordinates_df(self._Phi, self._G)\n",
    "        else:\n",
    "            raise ValueError(\n",
    "                'Option only includes {\"symmetric\", \"rowprincipal\", \"colprincipal\"}.')\n",
    "\n",
    "    def score_inertia(self):\n",
    "        \"\"\"Score inertia.\n",
    "        \n",
    "        Returns:\n",
    "          A NumPy array, contains proportions of total inertia explained \n",
    "            in coordinate dimensions.\n",
    "        \"\"\"\n",
    "        inertia = self._inertia\n",
    "        inertia_prop = (inertia / inertia.sum()).cumsum()\n",
    "        return inertia_prop"
   ]
  },
  {
   "cell_type": "markdown",
   "metadata": {},
   "source": [
    "I prefer the latter version which uses OOP. :-)"
   ]
  },
  {
   "cell_type": "code",
   "execution_count": 1,
   "metadata": {
    "collapsed": true
   },
   "outputs": [],
   "source": [
    "# TODO: Add test results."
   ]
  },
  {
   "cell_type": "markdown",
   "metadata": {},
   "source": [
    "## References\n",
    "\n",
    "- Johnson & Wichern (2002). Applied Multivariate Statistical Analysis.\n",
    "- Rencher & Christensen (2012). Methods of Multivariate Analysis.\n",
    "- Greenacre (2007). Correspondence Analysis in Practice.\n",
    "- Abdi & Williams (Ency. Res. Design, 2010). Correspondence Analysis."
   ]
  }
 ],
 "metadata": {
  "kernelspec": {
   "display_name": "Python 2",
   "language": "python",
   "name": "python2"
  },
  "language_info": {
   "codemirror_mode": {
    "name": "ipython",
    "version": 2
   },
   "file_extension": ".py",
   "mimetype": "text/x-python",
   "name": "python",
   "nbconvert_exporter": "python",
   "pygments_lexer": "ipython2",
   "version": "2.7.12"
  }
 },
 "nbformat": 4,
 "nbformat_minor": 1
}
