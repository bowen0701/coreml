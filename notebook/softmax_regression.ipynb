{
 "cells": [
  {
   "cell_type": "markdown",
   "metadata": {},
   "source": [
    "# Softmax Regression with Implementation"
   ]
  },
  {
   "cell_type": "markdown",
   "metadata": {},
   "source": [
    "## Introduction\n",
    "\n",
    "Logistic regression is one of the most fundamental machine learning models for binary classification. I will summarize its methodology and implement it in NumPy and PyTorch.\n",
    "\n",
    "The problem we solve is **multiclass classification,** for example, we would like to enable computer vision to classify grayscale images into one of the 10 classes. \n",
    "\n",
    "We will load the MNIST data from scikit-learn as a toy dataset, and split the data into the training and test datasets."
   ]
  },
  {
   "cell_type": "markdown",
   "metadata": {},
   "source": [
    "## Softmax Regression Model\n",
    "\n",
    "[To be continued.]"
   ]
  },
  {
   "cell_type": "code",
   "execution_count": 1,
   "metadata": {},
   "outputs": [],
   "source": [
    "import random\n",
    "import numpy as np\n",
    "\n",
    "import torch\n",
    "import torch.nn as nn\n",
    "import torch.nn.functional as F\n",
    "import torch.optim as optim\n",
    "\n",
    "import tensorflow as tf\n",
    "\n",
    "import sys\n",
    "sys.path.append('../numpy/')\n",
    "from metrics import accuracy\n",
    "\n",
    "np.random.seed(71)"
   ]
  },
  {
   "cell_type": "code",
   "execution_count": 2,
   "metadata": {},
   "outputs": [],
   "source": [
    "%load_ext autoreload\n",
    "%autoreload 2"
   ]
  },
  {
   "cell_type": "markdown",
   "metadata": {},
   "source": [
    "## MNIST Dataset and Preprocessing"
   ]
  },
  {
   "cell_type": "code",
   "execution_count": 3,
   "metadata": {},
   "outputs": [],
   "source": [
    "import sklearn\n",
    "from sklearn.datasets import load_digits\n",
    "from sklearn.model_selection import train_test_split\n",
    "from sklearn.preprocessing import MinMaxScaler"
   ]
  },
  {
   "cell_type": "code",
   "execution_count": 6,
   "metadata": {},
   "outputs": [],
   "source": [
    "# Read breast cancer data.\n",
    "mnist_data = load_digits()\n",
    "X, y = mnist_data.data, mnist_data.target"
   ]
  },
  {
   "cell_type": "code",
   "execution_count": 7,
   "metadata": {},
   "outputs": [
    {
     "data": {
      "text/plain": [
       "((1797, 64), (1797,))"
      ]
     },
     "execution_count": 7,
     "metadata": {},
     "output_type": "execute_result"
    }
   ],
   "source": [
    "X.shape, y.shape"
   ]
  },
  {
   "cell_type": "code",
   "execution_count": 8,
   "metadata": {},
   "outputs": [
    {
     "name": "stdout",
     "output_type": "stream",
     "text": [
      "['pixel_0_0', 'pixel_0_1', 'pixel_0_2', 'pixel_0_3', 'pixel_0_4', 'pixel_0_5', 'pixel_0_6', 'pixel_0_7', 'pixel_1_0', 'pixel_1_1', 'pixel_1_2', 'pixel_1_3', 'pixel_1_4', 'pixel_1_5', 'pixel_1_6', 'pixel_1_7', 'pixel_2_0', 'pixel_2_1', 'pixel_2_2', 'pixel_2_3', 'pixel_2_4', 'pixel_2_5', 'pixel_2_6', 'pixel_2_7', 'pixel_3_0', 'pixel_3_1', 'pixel_3_2', 'pixel_3_3', 'pixel_3_4', 'pixel_3_5', 'pixel_3_6', 'pixel_3_7', 'pixel_4_0', 'pixel_4_1', 'pixel_4_2', 'pixel_4_3', 'pixel_4_4', 'pixel_4_5', 'pixel_4_6', 'pixel_4_7', 'pixel_5_0', 'pixel_5_1', 'pixel_5_2', 'pixel_5_3', 'pixel_5_4', 'pixel_5_5', 'pixel_5_6', 'pixel_5_7', 'pixel_6_0', 'pixel_6_1', 'pixel_6_2', 'pixel_6_3', 'pixel_6_4', 'pixel_6_5', 'pixel_6_6', 'pixel_6_7', 'pixel_7_0', 'pixel_7_1', 'pixel_7_2', 'pixel_7_3', 'pixel_7_4', 'pixel_7_5', 'pixel_7_6', 'pixel_7_7']\n"
     ]
    },
    {
     "data": {
      "text/plain": [
       "array([[ 0.,  0.,  5., 13.,  9.,  1.,  0.,  0.,  0.,  0., 13., 15., 10.,\n",
       "        15.,  5.,  0.,  0.,  3., 15.,  2.,  0., 11.,  8.,  0.,  0.,  4.,\n",
       "        12.,  0.,  0.,  8.,  8.,  0.,  0.,  5.,  8.,  0.,  0.,  9.,  8.,\n",
       "         0.,  0.,  4., 11.,  0.,  1., 12.,  7.,  0.,  0.,  2., 14.,  5.,\n",
       "        10., 12.,  0.,  0.,  0.,  0.,  6., 13., 10.,  0.,  0.,  0.],\n",
       "       [ 0.,  0.,  0., 12., 13.,  5.,  0.,  0.,  0.,  0.,  0., 11., 16.,\n",
       "         9.,  0.,  0.,  0.,  0.,  3., 15., 16.,  6.,  0.,  0.,  0.,  7.,\n",
       "        15., 16., 16.,  2.,  0.,  0.,  0.,  0.,  1., 16., 16.,  3.,  0.,\n",
       "         0.,  0.,  0.,  1., 16., 16.,  6.,  0.,  0.,  0.,  0.,  1., 16.,\n",
       "        16.,  6.,  0.,  0.,  0.,  0.,  0., 11., 16., 10.,  0.,  0.],\n",
       "       [ 0.,  0.,  0.,  4., 15., 12.,  0.,  0.,  0.,  0.,  3., 16., 15.,\n",
       "        14.,  0.,  0.,  0.,  0.,  8., 13.,  8., 16.,  0.,  0.,  0.,  0.,\n",
       "         1.,  6., 15., 11.,  0.,  0.,  0.,  1.,  8., 13., 15.,  1.,  0.,\n",
       "         0.,  0.,  9., 16., 16.,  5.,  0.,  0.,  0.,  0.,  3., 13., 16.,\n",
       "        16., 11.,  5.,  0.,  0.,  0.,  0.,  3., 11., 16.,  9.,  0.]])"
      ]
     },
     "execution_count": 8,
     "metadata": {},
     "output_type": "execute_result"
    }
   ],
   "source": [
    "print(mnist_data.feature_names)\n",
    "X[:3]"
   ]
  },
  {
   "cell_type": "code",
   "execution_count": 13,
   "metadata": {},
   "outputs": [
    {
     "name": "stdout",
     "output_type": "stream",
     "text": [
      "[0 1 2 3 4 5 6 7 8 9]\n"
     ]
    },
    {
     "data": {
      "text/plain": [
       "array([0, 1, 2])"
      ]
     },
     "execution_count": 13,
     "metadata": {},
     "output_type": "execute_result"
    }
   ],
   "source": [
    "print(mnist_data.target_names)\n",
    "y[:3]"
   ]
  },
  {
   "cell_type": "code",
   "execution_count": 14,
   "metadata": {},
   "outputs": [],
   "source": [
    "# Split data into training and test datasets.\n",
    "X_train_raw, X_test_raw, y_train, y_test = train_test_split(\n",
    "    X, y, test_size=0.25, random_state=71, shuffle=True, stratify=y)"
   ]
  },
  {
   "cell_type": "code",
   "execution_count": 15,
   "metadata": {},
   "outputs": [
    {
     "name": "stdout",
     "output_type": "stream",
     "text": [
      "(1347, 64) (1347,)\n",
      "(450, 64) (450,)\n"
     ]
    }
   ],
   "source": [
    "print(X_train_raw.shape, y_train.shape)\n",
    "print(X_test_raw.shape, y_test.shape)"
   ]
  },
  {
   "cell_type": "code",
   "execution_count": 16,
   "metadata": {},
   "outputs": [],
   "source": [
    "# Feature engineering for standardizing features by min-max scaler.\n",
    "min_max_scaler = MinMaxScaler()\n",
    "\n",
    "X_train = min_max_scaler.fit_transform(X_train_raw)\n",
    "X_test = min_max_scaler.transform(X_test_raw)"
   ]
  },
  {
   "cell_type": "code",
   "execution_count": 17,
   "metadata": {},
   "outputs": [],
   "source": [
    "# Convert arrays to float32.\n",
    "X_train, X_test, y_train, y_test = (\n",
    "    np.float32(X_train), np.float32(X_test), np.float32(y_train), np.float32(y_test))"
   ]
  },
  {
   "cell_type": "code",
   "execution_count": 18,
   "metadata": {},
   "outputs": [
    {
     "data": {
      "text/plain": [
       "(dtype('float32'), dtype('float32'))"
      ]
     },
     "execution_count": 18,
     "metadata": {},
     "output_type": "execute_result"
    }
   ],
   "source": [
    "X_train.dtype, y_train.dtype"
   ]
  },
  {
   "cell_type": "markdown",
   "metadata": {},
   "source": [
    "## Numpy Implementation of Softmax Regression"
   ]
  },
  {
   "cell_type": "code",
   "execution_count": 71,
   "metadata": {},
   "outputs": [],
   "source": [
    "class SoftmaxRegression(object):\n",
    "    \"\"\"Numpy implementation of Softmax Regression.\"\"\"\n",
    "    # TODO\n",
    "\n",
    "    def __init__(self, batch_size=64, lr=0.01, n_epochs=1000):\n",
    "        self.batch_size = batch_size\n",
    "        self.lr = lr\n",
    "        self.n_epochs = n_epochs\n",
    "\n",
    "    def get_data(self, X_train, y_train, shuffle=True):\n",
    "        \"\"\"Get dataset and information.\"\"\"\n",
    "        self.X_train = X_train\n",
    "        self.y_train = y_train\n",
    "\n",
    "        # Get the numbers of examples and inputs.\n",
    "        self.n_examples, self.n_inputs = self.X_train.shape\n",
    "\n",
    "        if shuffle:\n",
    "            idx = list(range(self.n_examples))\n",
    "            random.shuffle(idx)\n",
    "            self.X_train = self.X_train[idx]\n",
    "            self.y_train = self.y_train[idx]\n",
    "\n",
    "    def _create_weights(self):\n",
    "        \"\"\"Create model weights and bias.\"\"\"\n",
    "        self.w = np.zeros(self.n_inputs).reshape(self.n_inputs, 1)\n",
    "        self.b = np.zeros(1).reshape(1, 1)\n",
    "\n",
    "    def _logit(self, X):\n",
    "        \"\"\"Logit: unnormalized log probability.\"\"\"\n",
    "        return np.matmul(X, self.w) + self.b\n",
    "\n",
    "    def _sigmoid(self, logit):\n",
    "        \"\"\"Sigmoid function by stabilization trick.\n",
    "\n",
    "        sigmoid(z) = 1 / (1 + exp(-z)) \n",
    "                   = exp(z) / (1 + exp(z)) * exp(z_max) / exp(z_max)\n",
    "                   = exp(z - z_max) / (exp(-z_max) + exp(z - z_max)),\n",
    "        where z is the logit, and z_max = z - max(0, z).\n",
    "        \"\"\"\n",
    "        logit_max = np.maximum(0, logit)\n",
    "        logit_stable = logit - logit_max\n",
    "        return np.exp(logit_stable) / (np.exp(-logit_max) + np.exp(logit_stable))\n",
    "    \n",
    "    def _model(self, X):\n",
    "        \"\"\"Logistic regression model.\"\"\"\n",
    "        logit = self._logit(X)\n",
    "        return self._sigmoid(logit)\n",
    "\n",
    "    def _loss(self, y, logit):\n",
    "        \"\"\"Cross entropy loss by stabilizaiton trick.\n",
    "\n",
    "        cross_entropy_loss(y, z) \n",
    "          = - 1/n * \\sum_{i=1}^n y_i * log p(y_i = 1|x_i) + (1 - y_i) * log p(y_i = 0|x_i)\n",
    "          = - 1/n * \\sum_{i=1}^n y_i * (z_i - log(1 + exp(z_i))) + (1 - y_i) * (-log(1 + exp(z_i))),\n",
    "        where z is the logit, z_max = z - max(0, z),\n",
    "          log p(y = 1|x)\n",
    "            = log (1 / (1 + exp(-z))) \n",
    "            = log (exp(z) / (1 + exp(z)))\n",
    "            = z - log(1 + exp(z))\n",
    "        and \n",
    "          log(1 + exp(z)) := logsumexp(z)\n",
    "            = log(exp(0) + exp(z))\n",
    "            = log(exp(0) + exp(z) * exp(z_max) / exp(z_max))\n",
    "            = z_max + log(exp(-z_max) + exp(z - z_max)).\n",
    "        \"\"\"\n",
    "        logit_max = np.maximum(0, logit)\n",
    "        logit_stable = logit - logit_max\n",
    "        logsumexp_stable = logit_max + np.log(np.exp(-logit_max) + np.exp(logit_stable))\n",
    "        self.cross_entropy = -(y * (logit - logsumexp_stable) + (1 - y) * (-logsumexp_stable))\n",
    "        return np.mean(self.cross_entropy)\n",
    "\n",
    "    def _optimize(self, X, y):\n",
    "        \"\"\"Optimize by stochastic gradient descent.\"\"\"\n",
    "        m = X.shape[0]\n",
    "\n",
    "        y_ = self._model(X) \n",
    "        dw = 1 / m * np.matmul(X.T, y_ - y)\n",
    "        db = np.mean(y_ - y)\n",
    "\n",
    "        for (param, grad) in zip([self.w, self.b], [dw, db]):\n",
    "            param[:] = param - self.lr * grad\n",
    "\n",
    "    def _fetch_batch(self):\n",
    "        \"\"\"Fetch batch dataset.\"\"\"\n",
    "        idx = list(range(self.n_examples))\n",
    "        for i in range(0, self.n_examples, self.batch_size):\n",
    "            idx_batch = idx[i:min(i + self.batch_size, self.n_examples)]\n",
    "            yield (self.X_train.take(idx_batch, axis=0), self.y_train.take(idx_batch, axis=0))\n",
    "\n",
    "    def fit(self):\n",
    "        \"\"\"Fit model.\"\"\"\n",
    "        self._create_weights()\n",
    "\n",
    "        for epoch in range(1, self.n_epochs + 1):\n",
    "            total_loss = 0\n",
    "            for X_train_b, y_train_b in self._fetch_batch():\n",
    "                y_train_b = y_train_b.reshape((y_train_b.shape[0], -1))\n",
    "                self._optimize(X_train_b, y_train_b)\n",
    "                train_loss = self._loss(y_train_b, self._logit(X_train_b))\n",
    "                total_loss += train_loss * X_train_b.shape[0]\n",
    "\n",
    "            if epoch % 100 == 0:\n",
    "                print('epoch {0}: training loss {1}'.format(epoch, total_loss / self.n_examples))\n",
    "\n",
    "        return self\n",
    "\n",
    "    def get_coeff(self):\n",
    "        return self.b, self.w.reshape((-1,))\n",
    "\n",
    "    def predict(self, X):\n",
    "        return self._model(X).reshape((-1,))"
   ]
  },
  {
   "cell_type": "markdown",
   "metadata": {},
   "source": [
    "## Fitting Softmax Regression in NumPy"
   ]
  },
  {
   "cell_type": "code",
   "execution_count": null,
   "metadata": {},
   "outputs": [],
   "source": [
    "# Fit our Softmax Regression.\n",
    "softmax = SoftmaxRegression(batch_size=64, lr=1, n_epochs=100)"
   ]
  },
  {
   "cell_type": "code",
   "execution_count": null,
   "metadata": {},
   "outputs": [],
   "source": [
    "# Get datasets and build graph.\n",
    "softmax.get_data(X_train, y_train, shuffle=True)"
   ]
  },
  {
   "cell_type": "code",
   "execution_count": null,
   "metadata": {},
   "outputs": [],
   "source": [
    "softmax.fit()"
   ]
  },
  {
   "cell_type": "code",
   "execution_count": null,
   "metadata": {},
   "outputs": [],
   "source": [
    "# Get coefficient.\n",
    "softmax.get_coeff()"
   ]
  },
  {
   "cell_type": "code",
   "execution_count": null,
   "metadata": {},
   "outputs": [],
   "source": [
    "# Predicted probabilities for training data.\n",
    "p_train_ = softmax.predict(X_train)\n",
    "p_train_[:10]"
   ]
  },
  {
   "cell_type": "code",
   "execution_count": null,
   "metadata": {},
   "outputs": [],
   "source": [
    "# Predicted labels for training data.\n",
    "y_train_ = (p_train_ > 0.5) * 1\n",
    "y_train_[:3]"
   ]
  },
  {
   "cell_type": "code",
   "execution_count": null,
   "metadata": {},
   "outputs": [],
   "source": [
    "# Prediction accuracy for training data.\n",
    "accuracy(y_train, y_train_)"
   ]
  },
  {
   "cell_type": "code",
   "execution_count": null,
   "metadata": {},
   "outputs": [],
   "source": [
    "# Predicted label correctness for test data.\n",
    "p_test_ = softmax.predict(X_test)\n",
    "print(p_test_[:10])\n",
    "y_test_ = (p_test_ > 0.5) * 1"
   ]
  },
  {
   "cell_type": "code",
   "execution_count": null,
   "metadata": {},
   "outputs": [],
   "source": [
    "# Prediction accuracy for test data.\n",
    "accuracy(y_test, y_test_)"
   ]
  },
  {
   "cell_type": "markdown",
   "metadata": {},
   "source": [
    "## PyTorch Implementation of Softmax Regression"
   ]
  },
  {
   "cell_type": "code",
   "execution_count": 136,
   "metadata": {},
   "outputs": [],
   "source": [
    "class SoftmaxRegressionTorch(nn.Module):\n",
    "    \"\"\"PyTorch implementation of Softmax Regression.\"\"\"\n",
    "\n",
    "    def __init__(self, n_targets=10, batch_size=64, lr=0.01, n_epochs=1000):\n",
    "        super(SoftmaxRegressionTorch, self).__init__()\n",
    "        self.n_targets = n_targets\n",
    "        self.batch_size = batch_size\n",
    "        self.lr = lr\n",
    "        self.n_epochs = n_epochs\n",
    "\n",
    "    def get_data(self, X_train, y_train, shuffle=True):\n",
    "        \"\"\"Get dataset and information.\"\"\"\n",
    "        self.X_train = X_train\n",
    "        self.y_train = y_train\n",
    "\n",
    "        # Get the numbers of examples and inputs.\n",
    "        self.n_examples, self.n_inputs = self.X_train.shape\n",
    "\n",
    "        if shuffle:\n",
    "            idx = list(range(self.n_examples))\n",
    "            random.shuffle(idx)\n",
    "            self.X_train = self.X_train[idx]\n",
    "            self.y_train = self.y_train[idx]\n",
    "\n",
    "    def _create_model(self):\n",
    "        \"\"\"Create logistic regression model.\"\"\"\n",
    "        self.net = nn.Sequential(\n",
    "            nn.Linear(self.n_inputs, self.n_targets),\n",
    "            nn.Softmax(dim=1),\n",
    "        )\n",
    "\n",
    "    def forward(self, x):\n",
    "        x = x.view(-1, 1)\n",
    "        y = self.net(x)\n",
    "        return y\n",
    "\n",
    "    def _create_loss(self):\n",
    "        \"\"\"Create cross entropy loss.\"\"\"\n",
    "        self.criterion = nn.CrossEntropyLoss()\n",
    "\n",
    "    def _create_optimizer(self):\n",
    "        \"\"\"Create optimizer by stochastic gradient descent.\"\"\"\n",
    "        self.optimizer = optim.SGD(self.parameters(), lr=self.lr)\n",
    "\n",
    "    def build(self):\n",
    "        \"\"\"Build model, loss function and optimizer.\"\"\"\n",
    "        self._create_model()\n",
    "        self._create_loss()\n",
    "        self._create_optimizer()\n",
    "\n",
    "    def _fetch_batch(self):\n",
    "        \"\"\"Fetch batch dataset.\"\"\"\n",
    "        idx = list(range(self.n_examples))\n",
    "        for i in range(0, self.n_examples, self.batch_size):\n",
    "            idx_batch = idx[i:min(i + self.batch_size, self.n_examples)]\n",
    "            yield (self.X_train.take(idx_batch, axis=0), \n",
    "                   self.y_train.take(idx_batch, axis=0))\n",
    "\n",
    "    def fit(self):\n",
    "        \"\"\"Fit model.\"\"\"\n",
    "        for epoch in range(1, self.n_epochs + 1):\n",
    "            total_loss = 0\n",
    "            for X_train_b, y_train_b in self._fetch_batch():\n",
    "                # Convert to Tensor from NumPy array and reshape ys.\n",
    "                X_train_b, y_train_b = (\n",
    "                    torch.from_numpy(X_train_b), torch.from_numpy(y_train_b))\n",
    "\n",
    "                y_pred_b = self.net(X_train_b)\n",
    "                loss = self.criterion(y_pred_b, y_train_b.long())\n",
    "                total_loss += loss * X_train_b.shape[0]\n",
    "\n",
    "                # Zero grads, performs backward pass, and update weights.\n",
    "                self.optimizer.zero_grad()\n",
    "                loss.backward()\n",
    "                self.optimizer.step()\n",
    "\n",
    "            if epoch % 100 == 0:\n",
    "                print(f'Epoch {epoch}: training loss: {total_loss / self.n_examples}')\n",
    "\n",
    "    def get_coeff(self):\n",
    "        \"\"\"Get model coefficients.\"\"\"\n",
    "        # Detach var which require grad.\n",
    "        return (self.net[0].bias.detach().numpy(),\n",
    "                self.net[0].weight.detach().numpy())\n",
    "\n",
    "    def predict(self, X):\n",
    "        \"\"\"Predict for new data.\"\"\"\n",
    "        with torch.no_grad():\n",
    "            X_ = torch.from_numpy(X)\n",
    "            return self.net(X_)"
   ]
  },
  {
   "cell_type": "markdown",
   "metadata": {},
   "source": [
    "## Fitting Softmax Regression in PyTorch"
   ]
  },
  {
   "cell_type": "code",
   "execution_count": 131,
   "metadata": {},
   "outputs": [],
   "source": [
    "# Fit PyTorch Logistic Regression.\n",
    "softmax_torch = SoftmaxRegressionTorch(n_targets=10, batch_size=64, lr=0.5, n_epochs=1000)"
   ]
  },
  {
   "cell_type": "code",
   "execution_count": 132,
   "metadata": {},
   "outputs": [],
   "source": [
    "softmax_torch.get_data(X_train, y_train, shuffle=True)"
   ]
  },
  {
   "cell_type": "code",
   "execution_count": 133,
   "metadata": {},
   "outputs": [],
   "source": [
    "softmax_torch.build()"
   ]
  },
  {
   "cell_type": "code",
   "execution_count": 134,
   "metadata": {},
   "outputs": [
    {
     "data": {
      "text/plain": [
       "Sequential(\n",
       "  (0): Linear(in_features=64, out_features=10, bias=True)\n",
       "  (1): Softmax(dim=1)\n",
       ")"
      ]
     },
     "execution_count": 134,
     "metadata": {},
     "output_type": "execute_result"
    }
   ],
   "source": [
    "softmax_torch.net"
   ]
  },
  {
   "cell_type": "code",
   "execution_count": 135,
   "metadata": {},
   "outputs": [
    {
     "ename": "TypeError",
     "evalue": "take(): argument 'index' (position 1) must be Tensor, not list",
     "output_type": "error",
     "traceback": [
      "\u001b[0;31m---------------------------------------------------------------------------\u001b[0m",
      "\u001b[0;31mTypeError\u001b[0m                                 Traceback (most recent call last)",
      "\u001b[0;32m<ipython-input-135-9c368f029899>\u001b[0m in \u001b[0;36m<module>\u001b[0;34m\u001b[0m\n\u001b[0;32m----> 1\u001b[0;31m \u001b[0msoftmax_torch\u001b[0m\u001b[0;34m.\u001b[0m\u001b[0mfit\u001b[0m\u001b[0;34m(\u001b[0m\u001b[0;34m)\u001b[0m\u001b[0;34m\u001b[0m\u001b[0;34m\u001b[0m\u001b[0m\n\u001b[0m",
      "\u001b[0;32m<ipython-input-130-8741822741b8>\u001b[0m in \u001b[0;36mfit\u001b[0;34m(self)\u001b[0m\n\u001b[1;32m     61\u001b[0m         \u001b[0;32mfor\u001b[0m \u001b[0mepoch\u001b[0m \u001b[0;32min\u001b[0m \u001b[0mrange\u001b[0m\u001b[0;34m(\u001b[0m\u001b[0;36m1\u001b[0m\u001b[0;34m,\u001b[0m \u001b[0mself\u001b[0m\u001b[0;34m.\u001b[0m\u001b[0mn_epochs\u001b[0m \u001b[0;34m+\u001b[0m \u001b[0;36m1\u001b[0m\u001b[0;34m)\u001b[0m\u001b[0;34m:\u001b[0m\u001b[0;34m\u001b[0m\u001b[0;34m\u001b[0m\u001b[0m\n\u001b[1;32m     62\u001b[0m             \u001b[0mtotal_loss\u001b[0m \u001b[0;34m=\u001b[0m \u001b[0;36m0\u001b[0m\u001b[0;34m\u001b[0m\u001b[0;34m\u001b[0m\u001b[0m\n\u001b[0;32m---> 63\u001b[0;31m             \u001b[0;32mfor\u001b[0m \u001b[0mX_train_b\u001b[0m\u001b[0;34m,\u001b[0m \u001b[0my_train_b\u001b[0m \u001b[0;32min\u001b[0m \u001b[0mself\u001b[0m\u001b[0;34m.\u001b[0m\u001b[0m_fetch_batch\u001b[0m\u001b[0;34m(\u001b[0m\u001b[0;34m)\u001b[0m\u001b[0;34m:\u001b[0m\u001b[0;34m\u001b[0m\u001b[0;34m\u001b[0m\u001b[0m\n\u001b[0m\u001b[1;32m     64\u001b[0m                 \u001b[0;31m# Convert to Tensor from NumPy array and reshape ys.\u001b[0m\u001b[0;34m\u001b[0m\u001b[0;34m\u001b[0m\u001b[0;34m\u001b[0m\u001b[0m\n\u001b[1;32m     65\u001b[0m                 \u001b[0;31m# X_train_b, y_train_b = (\u001b[0m\u001b[0;34m\u001b[0m\u001b[0;34m\u001b[0m\u001b[0;34m\u001b[0m\u001b[0m\n",
      "\u001b[0;32m<ipython-input-130-8741822741b8>\u001b[0m in \u001b[0;36m_fetch_batch\u001b[0;34m(self)\u001b[0m\n\u001b[1;32m     54\u001b[0m         \u001b[0;32mfor\u001b[0m \u001b[0mi\u001b[0m \u001b[0;32min\u001b[0m \u001b[0mrange\u001b[0m\u001b[0;34m(\u001b[0m\u001b[0;36m0\u001b[0m\u001b[0;34m,\u001b[0m \u001b[0mself\u001b[0m\u001b[0;34m.\u001b[0m\u001b[0mn_examples\u001b[0m\u001b[0;34m,\u001b[0m \u001b[0mself\u001b[0m\u001b[0;34m.\u001b[0m\u001b[0mbatch_size\u001b[0m\u001b[0;34m)\u001b[0m\u001b[0;34m:\u001b[0m\u001b[0;34m\u001b[0m\u001b[0;34m\u001b[0m\u001b[0m\n\u001b[1;32m     55\u001b[0m             \u001b[0midx_batch\u001b[0m \u001b[0;34m=\u001b[0m \u001b[0midx\u001b[0m\u001b[0;34m[\u001b[0m\u001b[0mi\u001b[0m\u001b[0;34m:\u001b[0m\u001b[0mmin\u001b[0m\u001b[0;34m(\u001b[0m\u001b[0mi\u001b[0m \u001b[0;34m+\u001b[0m \u001b[0mself\u001b[0m\u001b[0;34m.\u001b[0m\u001b[0mbatch_size\u001b[0m\u001b[0;34m,\u001b[0m \u001b[0mself\u001b[0m\u001b[0;34m.\u001b[0m\u001b[0mn_examples\u001b[0m\u001b[0;34m)\u001b[0m\u001b[0;34m]\u001b[0m\u001b[0;34m\u001b[0m\u001b[0;34m\u001b[0m\u001b[0m\n\u001b[0;32m---> 56\u001b[0;31m             yield (self.X_train.take(idx_batch, axis=0), \n\u001b[0m\u001b[1;32m     57\u001b[0m                    self.y_train.take(idx_batch, axis=0))\n\u001b[1;32m     58\u001b[0m \u001b[0;34m\u001b[0m\u001b[0m\n",
      "\u001b[0;31mTypeError\u001b[0m: take(): argument 'index' (position 1) must be Tensor, not list"
     ]
    }
   ],
   "source": [
    "softmax_torch.fit()"
   ]
  },
  {
   "cell_type": "code",
   "execution_count": 113,
   "metadata": {},
   "outputs": [
    {
     "data": {
      "text/plain": [
       "(array([ 0.34614038, -1.2373579 ,  0.29602474, -0.0225497 ,  0.6881342 ,\n",
       "         0.3988186 , -0.47175255,  0.6793346 , -0.0637628 , -0.71125305],\n",
       "       dtype=float32),\n",
       " array([[-4.49560434e-02, -9.57254246e-02,  6.61493540e-02,\n",
       "          6.69127464e-01,  4.51049395e-02, -1.40119660e+00,\n",
       "         -9.77220178e-01, -1.52913451e-01, -1.22519985e-01,\n",
       "         -3.50598127e-01, -1.79643556e-01,  9.07961726e-01,\n",
       "          1.13435841e+00,  1.04423416e+00, -8.16198885e-01,\n",
       "         -3.68970722e-01,  3.61148901e-02,  1.81158453e-01,\n",
       "          1.32691646e+00,  2.74166822e-01, -2.62822366e+00,\n",
       "          1.76306224e+00,  2.57433921e-01, -4.04783040e-02,\n",
       "         -1.29982899e-03,  8.49267602e-01,  1.24488056e+00,\n",
       "         -1.43357670e+00, -4.57879925e+00,  1.91305473e-01,\n",
       "          1.18586361e+00, -6.23569638e-02,  1.20715097e-01,\n",
       "          1.42673004e+00,  1.23313761e+00, -2.06321907e+00,\n",
       "         -3.97202134e+00,  4.57551777e-01,  9.87216592e-01,\n",
       "          4.44296598e-02, -1.73177253e-02,  1.03845187e-01,\n",
       "          2.48427606e+00, -1.43344474e+00, -8.36775124e-01,\n",
       "          7.93045640e-01,  2.67785013e-01,  1.27283426e-03,\n",
       "         -9.37424079e-02, -2.96711028e-01,  1.14026701e+00,\n",
       "         -2.29143679e-01,  9.36144829e-01,  2.72542655e-01,\n",
       "         -8.02288175e-01, -2.03642279e-01,  3.99390981e-02,\n",
       "          2.73135640e-02, -3.41485232e-01,  1.03039575e+00,\n",
       "         -3.95176739e-01, -5.75942874e-01, -5.79692364e-01,\n",
       "         -2.84034371e-01],\n",
       "        [ 3.01436484e-02, -2.48383701e-01, -5.26705980e-01,\n",
       "          1.94551468e-01, -4.55141878e+00,  1.12567258e+00,\n",
       "         -1.06900543e-01,  4.67312746e-02, -1.65257782e-01,\n",
       "         -1.83789480e+00, -3.75220180e+00, -6.62552118e-01,\n",
       "          5.47640324e-01,  3.39064807e-01, -2.48999381e+00,\n",
       "         -1.69452116e-01,  1.31591415e+00,  4.84140128e-01,\n",
       "          4.43710923e-01,  4.83947563e+00,  4.54237556e+00,\n",
       "         -7.67764091e-01, -1.13471425e+00, -8.31251964e-02,\n",
       "          1.01561368e+00,  7.05054045e-01,  6.96637332e-01,\n",
       "          2.32118845e+00,  5.40683985e-01,  1.30779302e+00,\n",
       "         -1.32907844e+00, -2.15238929e-02,  4.25951481e-02,\n",
       "         -3.87445569e-01,  3.56935948e-01, -9.37983632e-01,\n",
       "          9.58247185e-01,  8.14711332e-01, -1.44622314e+00,\n",
       "          4.40705866e-02,  1.85313262e-02, -7.47805357e-01,\n",
       "         -7.26637185e-01,  1.85240090e+00,  1.24967849e+00,\n",
       "         -2.29490542e+00, -2.41531634e+00, -8.12748000e-02,\n",
       "          6.17174022e-02, -6.41116500e-01, -9.04248834e-01,\n",
       "          1.16005278e+00,  2.00483370e+00, -7.01733649e-01,\n",
       "         -1.30705500e+00,  9.14983392e-01, -1.31947815e-01,\n",
       "         -4.42227811e-01, -1.51085961e+00, -8.55606437e-01,\n",
       "         -4.48190235e-03,  2.42900181e+00,  1.22277367e+00,\n",
       "          1.33714902e+00],\n",
       "        [-1.20925307e-02,  4.34139371e-01,  1.07698441e+00,\n",
       "          2.72425175e-01,  1.33190289e-01, -1.07217379e-01,\n",
       "         -5.85396849e-02,  5.41628376e-02, -3.79986584e-01,\n",
       "          1.62203693e+00,  1.02975500e+00, -5.75882614e-01,\n",
       "          1.95728791e+00, -1.49402320e-01,  2.10794941e-01,\n",
       "         -1.05840631e-01, -1.69390798e-01,  1.95101500e-04,\n",
       "         -1.50048506e+00, -1.97708511e+00,  1.49050355e+00,\n",
       "          1.35895357e-01,  1.01048911e+00,  4.36488390e-02,\n",
       "         -5.13660200e-02, -1.14770472e+00, -4.37836504e+00,\n",
       "         -3.84829545e+00, -1.21048784e+00, -1.61825847e-02,\n",
       "          2.94565290e-01, -1.24101974e-02,  4.83795404e-02,\n",
       "         -1.21664059e+00, -3.42873287e+00, -1.01408339e+00,\n",
       "         -4.11313742e-01, -2.16343474e+00, -1.52549994e+00,\n",
       "         -8.10081810e-02,  3.33616361e-02,  2.62889355e-01,\n",
       "          6.31769955e-01,  3.85843158e+00, -1.98357832e+00,\n",
       "         -3.24228358e+00, -1.50560856e+00, -1.37768788e-02,\n",
       "          3.37376632e-02,  8.09384108e-01,  7.63620853e-01,\n",
       "          3.50276494e+00,  2.27862597e+00,  2.56122065e+00,\n",
       "          1.22781730e+00,  4.20134664e-01,  1.97705969e-01,\n",
       "          4.52721238e-01,  1.61931753e+00,  5.88838160e-01,\n",
       "          3.98305923e-01,  2.81696868e+00,  2.84258747e+00,\n",
       "          7.78874755e-01],\n",
       "        [-6.25126809e-02,  1.00739288e+00,  2.09207684e-01,\n",
       "          1.06564474e+00,  3.33877873e+00,  1.37757361e+00,\n",
       "         -2.22238988e-01,  3.98738645e-02,  1.82338376e-02,\n",
       "          1.21293509e+00,  8.66113901e-01, -3.28191012e-01,\n",
       "          2.33148299e-02,  2.01645350e+00,  1.02434492e+00,\n",
       "         -2.50138920e-02,  7.95548707e-02, -1.38920903e-01,\n",
       "         -3.61594486e+00, -3.55904460e+00,  1.63496149e+00,\n",
       "         -7.20387876e-01,  1.38750702e-01, -1.20576553e-01,\n",
       "          6.18511252e-02, -7.79216588e-01, -3.30666208e+00,\n",
       "         -3.84869725e-01,  1.88046682e+00, -3.57043481e+00,\n",
       "         -2.12952352e+00, -9.82807670e-03, -7.09954351e-02,\n",
       "         -7.99754083e-01, -1.91665316e+00,  3.07598780e-03,\n",
       "          2.54544330e+00, -6.27189100e-01, -5.33339828e-02,\n",
       "          3.67285013e-02, -6.75916374e-02, -2.13931337e-01,\n",
       "         -2.83895779e+00, -4.15527153e+00,  1.94613129e-01,\n",
       "          2.70958948e+00,  2.62525868e+00,  2.37485617e-02,\n",
       "         -7.84319639e-02, -1.43912137e-01,  3.90396006e-02,\n",
       "         -1.58785701e+00,  3.63904238e-01,  1.10811853e+00,\n",
       "          2.97609663e+00, -5.59790134e-01,  8.49381387e-02,\n",
       "          7.03323007e-01,  1.22064495e+00,  7.77730584e-01,\n",
       "          6.90201640e-01, -6.59066364e-02,  1.78416416e-01,\n",
       "         -9.67723608e-01],\n",
       "        [ 1.63391531e-02, -2.35001653e-01, -1.62746096e+00,\n",
       "         -2.69314837e+00, -5.50334752e-01, -3.11146569e+00,\n",
       "         -1.05451548e+00,  4.03803229e-01,  4.53335829e-02,\n",
       "         -2.26300433e-02, -1.72413683e+00, -5.62858462e-01,\n",
       "         -2.05491972e+00, -3.22731423e+00, -3.42895389e-01,\n",
       "         -2.88416982e-01,  1.23867756e-02,  6.40814960e-01,\n",
       "          2.07644418e-01,  1.76709080e+00,  4.22168136e-01,\n",
       "         -1.93344261e-02,  8.32710147e-01,  3.14606190e-01,\n",
       "          2.57847756e-01,  1.94085562e+00,  2.21619129e+00,\n",
       "         -7.16282010e-01,  2.70372689e-01,  4.30013388e-02,\n",
       "          3.62972617e+00,  8.50837648e-01,  1.20426357e-01,\n",
       "          2.46568418e+00,  2.23355913e+00, -7.59920657e-01,\n",
       "          1.99252105e+00,  2.00061631e+00,  1.92495394e+00,\n",
       "         -1.13052905e-01,  9.66996327e-02,  3.47250891e+00,\n",
       "          7.83908665e-01,  2.46178412e+00,  3.75530362e+00,\n",
       "          6.75676584e-01, -1.80909168e-02, -9.95940343e-02,\n",
       "          1.65068358e-01,  1.48457849e+00, -1.26218808e+00,\n",
       "          8.68927538e-02,  1.47245526e+00, -2.18434405e+00,\n",
       "         -1.24226046e+00,  7.29420185e-02,  7.79853612e-02,\n",
       "         -1.88107148e-01, -1.37007630e+00, -2.03562117e+00,\n",
       "         -1.43195421e-01, -1.60907376e+00, -4.58288074e-01,\n",
       "         -8.41682404e-03],\n",
       "        [-6.24489188e-02,  6.61999643e-01,  2.33465433e+00,\n",
       "          6.64342403e-01,  1.33791780e+00,  3.05651164e+00,\n",
       "          2.06296015e+00, -4.80408162e-01, -6.59546480e-02,\n",
       "          7.87089527e-01,  1.91445780e+00,  4.38070565e-01,\n",
       "          1.92320630e-01, -2.45193720e+00,  8.27757642e-02,\n",
       "         -2.09733158e-01, -3.45995188e-01,  8.55765566e-02,\n",
       "          1.45667398e+00, -4.14296836e-01, -4.74344254e+00,\n",
       "         -4.90495300e+00, -2.95569515e+00, -1.82670787e-01,\n",
       "         -3.85158807e-01,  9.92746353e-01,  2.15994978e+00,\n",
       "         -1.72312424e-01,  1.21263063e+00, -4.60517973e-01,\n",
       "         -1.46504474e+00,  6.87838197e-02,  1.19095862e-01,\n",
       "         -1.08282998e-01,  6.34139955e-01, -8.18012357e-01,\n",
       "         -5.40202498e-01,  4.21895564e-01,  9.44952548e-01,\n",
       "          6.17158413e-03,  1.16538048e-01, -1.09759569e+00,\n",
       "         -1.99403644e+00, -1.29063225e+00, -1.27553713e+00,\n",
       "          5.57704508e-01,  2.52035528e-01, -1.00959927e-01,\n",
       "         -8.39261189e-02, -2.86864579e-01, -5.11547208e-01,\n",
       "         -9.99989331e-01, -2.57757217e-01,  5.47819957e-02,\n",
       "         -1.47919691e+00, -8.02134201e-02, -8.32880139e-02,\n",
       "          9.15387988e-01,  3.08413386e+00,  1.68247247e+00,\n",
       "          6.34085340e-03, -1.15230870e+00, -1.18829739e+00,\n",
       "         -3.39817107e-01],\n",
       "        [ 9.52540189e-02, -1.33280784e-01, -1.81975341e+00,\n",
       "         -7.09428072e-01, -5.22534311e-01, -8.23760927e-01,\n",
       "         -2.83614933e-01,  5.73765934e-02, -6.53313473e-02,\n",
       "         -1.01739109e+00, -1.53094614e+00,  3.18898201e-01,\n",
       "         -2.00554252e+00, -1.42423439e+00, -1.23219833e-01,\n",
       "          1.49550391e-02, -2.16581389e-01, -1.22352624e+00,\n",
       "          1.31519985e+00,  6.60361230e-01, -2.74665403e+00,\n",
       "         -3.49394655e+00, -6.38966501e-01, -1.04209170e-01,\n",
       "         -3.36992517e-02,  2.49931529e-01,  9.21406269e-01,\n",
       "          6.50216043e-01, -1.09223926e+00, -1.27203453e+00,\n",
       "         -1.28206074e+00,  7.48777762e-03,  6.51733428e-02,\n",
       "          1.54481494e+00,  2.33923316e+00,  1.19934809e+00,\n",
       "          4.07563560e-02,  2.00556964e-02,  1.84319213e-01,\n",
       "         -1.70073360e-02, -1.59661144e-01, -6.44799769e-01,\n",
       "          3.97012520e+00,  1.07119966e+00,  1.08564353e+00,\n",
       "          7.51898944e-01,  1.19178176e+00,  1.69880837e-01,\n",
       "         -5.81717417e-02, -7.65241265e-01,  1.46850777e+00,\n",
       "          1.63567877e+00, -9.22320008e-01,  1.76317644e+00,\n",
       "          1.08231521e+00, -4.61352915e-01,  4.28929329e-02,\n",
       "         -2.16356099e-01, -1.56805336e+00, -1.12397206e+00,\n",
       "          1.30326435e-01,  1.88679254e+00, -8.15111175e-02,\n",
       "         -4.28474545e-01],\n",
       "        [-4.70134616e-02, -6.72837943e-02,  7.29400277e-01,\n",
       "          1.17481792e+00,  1.05101717e+00,  1.62157393e+00,\n",
       "          2.01533246e+00,  8.22042227e-01,  1.54278167e-02,\n",
       "         -3.13405544e-01,  4.10678953e-01,  9.35476780e-01,\n",
       "          3.45679998e+00,  3.32992822e-01,  2.14425385e-01,\n",
       "          1.40438986e+00,  5.32848947e-02, -1.65437543e+00,\n",
       "         -2.61280107e+00, -2.31869888e+00,  1.14564025e+00,\n",
       "         -3.11327159e-01,  1.29826581e+00,  6.84628263e-02,\n",
       "          8.99413377e-02, -1.58153045e+00, -5.55809498e-01,\n",
       "         -2.55804133e+00, -1.59725606e-01,  2.38845873e+00,\n",
       "          2.46328568e+00, -4.80314642e-01, -1.02446452e-01,\n",
       "          6.87413096e-01,  5.03387094e-01,  2.85192698e-01,\n",
       "          1.15389061e+00,  2.30327868e+00,  1.72078431e+00,\n",
       "          6.78737313e-02, -5.99237382e-02, -3.61668497e-01,\n",
       "         -6.13736629e-01,  1.24849129e+00,  7.35561907e-01,\n",
       "          2.51180470e-01, -1.69203401e-01,  5.30923344e-02,\n",
       "         -9.02035534e-02, -1.59477249e-01, -1.00734937e+00,\n",
       "          8.46245527e-01, -2.71945024e+00, -3.16297936e+00,\n",
       "         -7.73069322e-01, -4.31137942e-02, -6.90182671e-02,\n",
       "         -2.77187228e-01,  6.59116089e-01, -7.01190412e-01,\n",
       "         -3.59461927e+00, -2.36463332e+00, -3.22163314e-01,\n",
       "         -1.75481126e-01],\n",
       "        [-4.22023535e-02, -4.48269546e-01, -3.25060725e-01,\n",
       "         -1.68380785e+00,  2.67298937e-01, -2.99674392e-01,\n",
       "         -1.93455029e+00, -2.33347803e-01,  7.02002704e-01,\n",
       "         -9.82852280e-01,  1.81813836e+00, -6.21911108e-01,\n",
       "         -2.28804326e+00,  1.43200612e+00,  3.26863974e-01,\n",
       "         -3.91271114e-02, -5.32928705e-01,  1.14531410e+00,\n",
       "          1.16505039e+00,  5.08040309e-01, -5.38425088e-01,\n",
       "          2.34553123e+00,  8.22096944e-01, -1.28000215e-01,\n",
       "         -7.86809742e-01, -7.71335304e-01, -5.65225363e-01,\n",
       "          3.10009336e+00, -7.14453519e-04, -9.02720809e-01,\n",
       "         -1.52624989e+00, -6.87936088e-03,  1.11255303e-01,\n",
       "         -1.71176839e+00, -1.08106017e+00,  2.90024066e+00,\n",
       "          6.95530057e-01, -1.90075636e+00, -3.30606794e+00,\n",
       "         -7.93427229e-04, -1.30256578e-01, -2.11733812e-03,\n",
       "          2.43739510e+00,  1.33458567e+00,  5.55497468e-01,\n",
       "          1.09281874e+00,  1.54969096e-01, -8.28139186e-02,\n",
       "          4.08889465e-02, -9.91740599e-02,  1.65593243e+00,\n",
       "         -2.79424119e+00, -1.96464097e+00,  1.15026689e+00,\n",
       "         -1.49412543e-01, -4.77289073e-02, -1.03996165e-01,\n",
       "         -1.77163064e-01, -2.42800951e+00,  7.62121558e-01,\n",
       "          2.35404682e+00, -2.36556277e-01, -1.39792371e+00,\n",
       "         -1.84082031e-01],\n",
       "        [ 1.11063600e-01, -8.37536156e-01,  1.34776831e-01,\n",
       "          8.00043225e-01, -5.05509079e-01, -1.46881914e+00,\n",
       "          6.36951268e-01, -3.44543785e-01,  5.81450239e-02,\n",
       "          7.55375504e-01,  1.26373732e+00,  5.38229287e-01,\n",
       "         -1.10935426e+00,  1.72755027e+00,  2.02101374e+00,\n",
       "         -3.74400735e-01,  2.63270494e-02,  5.95003605e-01,\n",
       "          1.54595506e+00,  1.57564059e-01,  1.36433673e+00,\n",
       "          5.63258982e+00,  4.70510751e-01, -2.01272950e-01,\n",
       "         -5.49920090e-02, -2.88995743e-01,  1.52121019e+00,\n",
       "          2.98284411e+00,  3.08114696e+00,  2.39788318e+00,\n",
       "          3.95041585e-01, -1.96994603e-01,  1.21203855e-01,\n",
       "         -2.18400884e+00, -7.21131027e-01,  1.42255497e+00,\n",
       "         -2.33367968e+00, -1.12232995e+00,  5.44517577e-01,\n",
       "         -1.95010304e-02, -3.73180583e-02, -7.45280921e-01,\n",
       "         -4.34818697e+00, -5.26038361e+00, -3.39962029e+00,\n",
       "         -1.17790902e+00, -4.43663627e-01, -8.35793912e-02,\n",
       "          1.03048518e-01,  4.72583205e-01, -1.27945912e+00,\n",
       "         -1.87154317e+00, -1.56294656e+00, -1.06963718e+00,\n",
       "          8.41189101e-02,  1.71327621e-01, -7.27740303e-02,\n",
       "         -8.25931609e-01, -1.89964585e-02,  2.41837949e-01,\n",
       "          6.29553318e-01, -9.63684082e-01, -1.60871565e-01,\n",
       "         -3.08049381e-01]], dtype=float32))"
      ]
     },
     "execution_count": 113,
     "metadata": {},
     "output_type": "execute_result"
    }
   ],
   "source": [
    "# Get coefficient.\n",
    "softmax_torch.get_coeff()"
   ]
  },
  {
   "cell_type": "code",
   "execution_count": 116,
   "metadata": {},
   "outputs": [
    {
     "data": {
      "text/plain": [
       "torch.Size([1347, 10])"
      ]
     },
     "execution_count": 116,
     "metadata": {},
     "output_type": "execute_result"
    }
   ],
   "source": [
    "# Predicted probabilities for training data.\n",
    "p_train_ = softmax_torch.predict(X_train)\n",
    "p_train_.shape"
   ]
  },
  {
   "cell_type": "code",
   "execution_count": 117,
   "metadata": {},
   "outputs": [
    {
     "data": {
      "text/plain": [
       "0.991833704528582"
      ]
     },
     "execution_count": 117,
     "metadata": {},
     "output_type": "execute_result"
    }
   ],
   "source": [
    "# Prediction accuracy for training data.\n",
    "accuracy(p_train_.argmax(dim=1).numpy(), y_train)"
   ]
  },
  {
   "cell_type": "code",
   "execution_count": 118,
   "metadata": {},
   "outputs": [],
   "source": [
    "# Predicted label correctness for test data.\n",
    "p_test_ = softmax_torch.predict(X_test)"
   ]
  },
  {
   "cell_type": "code",
   "execution_count": 120,
   "metadata": {},
   "outputs": [
    {
     "data": {
      "text/plain": [
       "0.9711111111111111"
      ]
     },
     "execution_count": 120,
     "metadata": {},
     "output_type": "execute_result"
    }
   ],
   "source": [
    "# Prediction accuracy for test data.\n",
    "accuracy(p_test_.argmax(dim=1).numpy(), y_test)"
   ]
  },
  {
   "cell_type": "markdown",
   "metadata": {},
   "source": [
    "## Benchmark with Sklearn's Softmax Regression"
   ]
  },
  {
   "cell_type": "code",
   "execution_count": 121,
   "metadata": {},
   "outputs": [
    {
     "data": {
      "text/plain": [
       "LogisticRegression(C=10000.0, max_iter=500, multi_class='multinomial')"
      ]
     },
     "execution_count": 121,
     "metadata": {},
     "output_type": "execute_result"
    }
   ],
   "source": [
    "# Fit sklearn's Softmax Regression.\n",
    "from sklearn.linear_model import LogisticRegression as LogisticRegressionSklearn\n",
    "\n",
    "softmax_sk = LogisticRegressionSklearn(C=1e4, multi_class='multinomial', max_iter=500)\n",
    "\n",
    "softmax_sk.fit(X_train, y_train.reshape(y_train.shape[0], ))"
   ]
  },
  {
   "cell_type": "code",
   "execution_count": 122,
   "metadata": {},
   "outputs": [
    {
     "data": {
      "text/plain": [
       "(array([  6.44249192, -11.78827616,   9.15377243,  -6.54285021,\n",
       "         20.57724269,  -1.87399062,  -1.49799704,   4.82668839,\n",
       "         -1.49597245, -17.80110895]),\n",
       " array([[ 0.00000000e+00,  1.82014829e-02, -1.02354488e-01,\n",
       "         -1.09174791e+00,  6.17472267e-01, -2.09580231e+00,\n",
       "         -2.86710590e+00, -8.13254984e-01,  1.12288811e-03,\n",
       "         -2.24451729e+00, -6.45541061e-01,  4.30635635e+00,\n",
       "          5.72461608e-01, -2.66108726e-01, -1.27924671e+00,\n",
       "         -1.00903806e+00, -3.67088590e-01, -3.81501727e-01,\n",
       "          2.15420862e+00,  4.97151804e-01, -9.82361490e+00,\n",
       "          3.66875990e+00,  8.00124111e-01, -3.42277611e-01,\n",
       "         -3.67357442e-01,  2.76777140e+00,  1.09800041e+00,\n",
       "         -3.53039252e+00, -1.07179082e+01, -5.15154238e-01,\n",
       "          2.34853409e+00,  4.09575676e-03,  0.00000000e+00,\n",
       "          4.89460610e+00,  1.73994209e+00, -3.21061662e+00,\n",
       "         -1.03196894e+01,  1.89809863e+00,  7.33390382e-01,\n",
       "          0.00000000e+00,  3.42605581e-03, -1.58390012e+00,\n",
       "          6.80660559e+00, -2.36367275e+00, -3.41742028e+00,\n",
       "          3.19544070e+00,  7.67686110e-01,  2.94825047e-03,\n",
       "          3.56450628e-03, -1.81750148e+00,  2.03362473e+00,\n",
       "         -5.87507444e-01,  4.11260078e+00,  4.65631525e-01,\n",
       "         -1.41578511e+00, -3.64135024e-01,  6.00163252e-04,\n",
       "          1.24362343e-01, -1.48364033e+00,  4.52972328e+00,\n",
       "         -8.14029331e-01, -7.56422165e-01, -9.07531402e-01,\n",
       "         -5.42481494e-01],\n",
       "        [ 0.00000000e+00,  1.70731545e+00, -1.41150627e+00,\n",
       "          6.28578194e+00, -1.36406471e+01,  3.67307338e+00,\n",
       "          4.91247801e+00,  9.42730008e-03, -2.38132949e-01,\n",
       "         -2.66988746e+00, -1.45775623e+01, -1.89713282e+00,\n",
       "          4.54858459e+00, -2.64912508e-02, -9.27939872e+00,\n",
       "          1.16782777e-02,  8.21889090e+00,  6.76745389e+00,\n",
       "          4.15873996e+00,  1.28467741e+01,  1.09324179e+01,\n",
       "         -4.31997587e+00, -1.29224820e+00,  5.98317137e-03,\n",
       "          2.37143185e-01, -2.15488318e-02,  1.25929537e+00,\n",
       "          5.59106210e+00,  1.12740644e+00,  2.60857925e+00,\n",
       "         -1.41420096e+00,  1.97381318e-03,  0.00000000e+00,\n",
       "         -2.24435892e+00,  3.63955780e+00, -6.95220560e+00,\n",
       "          7.58009697e+00,  4.92203001e+00, -2.23577968e+00,\n",
       "          0.00000000e+00,  2.34702610e-03,  1.32728958e+00,\n",
       "          2.17626733e+00,  4.44559161e+00,  3.22603311e+00,\n",
       "         -6.73618305e+00, -9.95283904e+00, -2.75283206e-01,\n",
       "         -4.69745021e-04, -3.69142359e+00, -2.53859639e+00,\n",
       "          5.00795184e+00,  6.17936879e+00, -2.56588454e+00,\n",
       "         -4.41333406e+00,  5.64316341e+00, -3.34947006e-03,\n",
       "         -8.82740563e-02, -1.88444188e+00, -4.36088731e+00,\n",
       "         -1.38575874e+00,  8.54999500e+00,  3.80952957e+00,\n",
       "          3.53703032e+00],\n",
       "        [ 0.00000000e+00,  1.00669420e+00, -1.26066283e+00,\n",
       "          1.08497871e+00, -1.42044922e+00,  1.85371794e+00,\n",
       "          7.48282906e-01, -1.03310519e-01, -3.44302399e+00,\n",
       "          5.31571972e+00,  1.76186033e+00, -4.05225948e+00,\n",
       "          6.51326994e+00, -8.31994142e-01,  1.97815233e+00,\n",
       "         -1.53739174e-01, -1.72100217e+00,  9.64666723e-01,\n",
       "         -3.80195457e+00, -6.69610515e+00,  5.19177916e+00,\n",
       "         -7.06070453e-01,  5.36344969e+00,  2.04406637e-03,\n",
       "          1.26346944e-03, -3.62385497e+00, -1.25671523e+01,\n",
       "         -8.91046774e+00, -7.40400274e+00, -1.49203251e+00,\n",
       "          3.17860209e+00,  8.08493131e-04,  0.00000000e+00,\n",
       "         -4.39236104e+00, -6.33204654e+00, -3.48451120e+00,\n",
       "          4.57868475e-02, -4.83935966e+00, -7.62945143e+00,\n",
       "          0.00000000e+00,  1.11716840e-03, -2.52288980e-01,\n",
       "          1.58108935e+00,  1.10932302e+01, -7.95984544e+00,\n",
       "         -6.69304188e+00, -3.52362138e+00,  2.83513819e-01,\n",
       "          1.57324606e-02,  1.72669790e+00, -1.81591351e-01,\n",
       "          9.57772399e+00,  4.89503556e+00,  7.46635198e+00,\n",
       "          4.52157969e+00,  1.28805569e+00,  4.08833014e-02,\n",
       "          1.01063009e+00,  4.72447848e+00,  1.21832222e+00,\n",
       "         -3.89274341e-01,  5.28618115e+00,  8.33082953e+00,\n",
       "          3.32122985e+00],\n",
       "        [ 0.00000000e+00,  3.48242346e+00, -3.03753136e+00,\n",
       "          1.80667704e+00,  1.45231547e+01, -1.14745034e-02,\n",
       "         -3.38711862e+00,  9.13443174e-02, -6.98717630e-03,\n",
       "          3.62362465e+00,  2.95299913e+00, -8.74215875e-01,\n",
       "          2.12003439e+00,  8.02273486e+00,  4.30949246e+00,\n",
       "         -8.71704908e-01, -4.84161193e-03, -2.86454352e+00,\n",
       "         -7.42545293e+00, -1.07836015e+01,  4.72753315e+00,\n",
       "         -4.31215725e+00,  4.62854521e+00,  3.01850786e-03,\n",
       "          5.90953434e-04, -3.95452352e+00, -7.50032531e+00,\n",
       "         -2.71541674e+00,  7.58961522e+00, -7.78221788e+00,\n",
       "         -1.00261311e+01,  9.67424690e-04,  0.00000000e+00,\n",
       "         -4.01353542e+00, -3.16041726e+00,  1.91133199e+00,\n",
       "          5.52509460e+00, -3.90287342e+00, -6.06336772e-01,\n",
       "          0.00000000e+00,  1.06825453e-03, -5.33260178e-01,\n",
       "         -8.72120813e+00, -1.25952196e+01,  2.97725871e+00,\n",
       "          6.46925121e+00,  8.19752478e+00, -2.80291414e-01,\n",
       "          6.27391643e-04, -1.44313516e+00, -2.54798268e-02,\n",
       "         -5.60885118e+00, -7.50348376e-01,  4.65175342e+00,\n",
       "          1.32286873e+01, -3.16044892e+00,  5.77174412e-04,\n",
       "          3.72555202e+00,  3.72674073e+00,  2.43158410e+00,\n",
       "          1.65861598e+00, -5.30053163e+00,  3.55390364e+00,\n",
       "         -4.05376536e+00],\n",
       "        [ 0.00000000e+00, -7.21267239e-01, -3.57558797e+00,\n",
       "         -1.09105036e+01, -7.72620421e+00, -9.40581132e+00,\n",
       "         -4.21804173e+00,  5.29353137e-01,  1.69705412e-03,\n",
       "         -7.49147615e-01, -3.79262830e+00, -3.38584516e+00,\n",
       "         -6.94360180e+00, -6.03857546e+00, -2.10871068e+00,\n",
       "         -1.09481850e+00, -2.90857093e+00,  3.15355531e+00,\n",
       "          2.86464091e+00, -4.28201135e-01,  1.50473520e+00,\n",
       "          1.34512886e+00, -1.27304855e+00,  2.85203771e-01,\n",
       "          5.18804307e+00, -1.57798747e-01,  5.95804417e+00,\n",
       "         -3.25460642e-01,  6.43425929e-02, -1.56258677e+00,\n",
       "          1.01972647e+01,  1.05980972e+00,  0.00000000e+00,\n",
       "          5.31946946e+00,  2.76505590e+00, -3.64214644e+00,\n",
       "          4.66160664e+00,  5.77122880e+00,  7.25353815e+00,\n",
       "          0.00000000e+00, -1.69382134e-02,  1.17912906e+01,\n",
       "          2.48577028e-02,  1.05038582e+01,  7.70020777e+00,\n",
       "          1.05054838e-01,  2.54946392e+00, -9.02941664e-03,\n",
       "         -8.76475474e-03,  4.03614902e+00, -2.09544772e+00,\n",
       "          1.41262269e+00,  2.32984036e+00, -6.78193222e+00,\n",
       "         -5.38393689e+00, -4.44059819e-02, -7.72502551e-05,\n",
       "         -1.82461067e+00,  8.68264864e-02, -5.86281453e+00,\n",
       "         -3.32323461e+00, -6.36707017e+00, -4.89622230e-01,\n",
       "         -7.59714858e-03],\n",
       "        [ 0.00000000e+00,  5.02838029e+00,  1.01242698e+01,\n",
       "         -1.28021002e+00,  1.00871159e+00,  1.11637154e+01,\n",
       "          7.13447872e+00, -1.41620148e+00, -1.12704832e-02,\n",
       "         -1.89540777e+00,  4.67452257e+00,  4.42972307e+00,\n",
       "          1.70742571e-01, -6.77864751e+00,  5.53187186e-01,\n",
       "          1.04536777e-01,  8.30054685e-04,  2.27302649e-01,\n",
       "          1.66540238e+00,  1.19471947e+00, -1.09477536e+01,\n",
       "         -5.54405793e+00, -1.33445945e+01, -1.31771707e-02,\n",
       "          2.31079694e-02, -6.87079975e-01,  7.78621491e+00,\n",
       "         -3.61919616e+00,  4.69442680e+00, -4.51766296e+00,\n",
       "         -1.11286159e+01,  1.57770722e-03,  0.00000000e+00,\n",
       "          2.80608749e+00, -1.14606636e+00, -3.76285191e+00,\n",
       "         -9.60080692e+00, -1.98636304e-01,  8.45316575e+00,\n",
       "          0.00000000e+00,  1.48607338e-03, -6.80226828e+00,\n",
       "         -5.74845727e+00, -5.03509050e+00, -9.88213749e-01,\n",
       "          6.24412152e+00, -3.98256587e-01,  2.66405535e-03,\n",
       "          6.63535285e-04, -4.67265196e+00, -2.99561777e+00,\n",
       "         -1.35701569e+00,  9.79594169e-01,  2.53952621e+00,\n",
       "         -1.20648030e+01,  8.68555499e-03,  4.87435067e-04,\n",
       "          3.11532644e+00,  8.06437977e+00,  7.33265504e+00,\n",
       "          3.09802399e+00,  2.32808437e+00, -1.07439631e+01,\n",
       "          7.73971960e-03],\n",
       "        [ 0.00000000e+00, -1.89397628e-01, -2.89976460e+00,\n",
       "         -2.87526898e+00, -2.35672199e+00, -3.37370416e+00,\n",
       "         -2.07431032e+00,  4.51580942e-03, -1.07502318e-01,\n",
       "         -2.27029991e+00, -2.69587583e+00, -7.01571030e-01,\n",
       "         -6.04254262e+00, -1.82428166e-01,  2.90321336e-01,\n",
       "          4.91986763e-03, -9.10744696e-01,  3.05238045e-02,\n",
       "          2.65752538e+00,  4.29954927e-01, -8.02467697e+00,\n",
       "         -1.07641146e+01, -2.67601105e+00,  4.14397077e-03,\n",
       "         -8.56062588e-01,  4.45656900e+00,  2.47051618e+00,\n",
       "          4.46838768e+00, -2.21938906e+00,  1.43784278e+00,\n",
       "         -2.87936617e+00,  2.74142182e-03,  0.00000000e+00,\n",
       "          3.23079677e+00,  5.34330163e+00,  5.17128342e+00,\n",
       "         -2.02039715e-01, -1.57535861e+00,  3.99077195e+00,\n",
       "          0.00000000e+00,  3.10737906e-03, -2.24138281e+00,\n",
       "          1.24702804e+01,  3.72868701e+00,  5.49278282e+00,\n",
       "          8.71612958e-01,  6.52022919e+00,  3.05537446e-01,\n",
       "          1.99804436e-03,  1.72876641e-01,  5.80632402e+00,\n",
       "          1.56070038e+00, -1.76711522e+00,  5.28913647e+00,\n",
       "          1.38615713e+00, -3.77839058e+00,  4.62256212e-04,\n",
       "         -2.56215431e-01, -4.49318782e+00, -4.02597135e+00,\n",
       "         -8.42709775e-01,  2.44620760e+00,  1.17881452e+00,\n",
       "         -1.28985994e+00],\n",
       "        [ 0.00000000e+00, -1.80222013e+00,  6.60671893e-01,\n",
       "          2.94470202e+00, -6.97516090e-01,  3.40695310e+00,\n",
       "          3.38275640e+00,  3.26828361e+00,  1.62953463e-03,\n",
       "         -1.58082043e+00,  2.22080824e+00,  2.55591109e+00,\n",
       "          6.82462307e+00, -4.81378761e-01, -2.38333370e+00,\n",
       "          2.56300154e+00,  8.99690206e-04, -6.87978545e+00,\n",
       "         -9.00954317e+00, -2.55967251e+00,  3.66860621e+00,\n",
       "          4.85964726e-01,  2.90522185e+00,  7.17007100e-02,\n",
       "          8.91043875e-04, -2.03099560e+00, -1.13062941e-01,\n",
       "         -8.61522923e+00,  6.78860479e-02,  5.41563645e+00,\n",
       "          9.82922753e+00, -9.84518441e-01,  0.00000000e+00,\n",
       "          5.01413087e+00, -7.59973490e-01, -7.42165965e-03,\n",
       "          4.55389632e+00,  6.20654229e+00,  5.11232769e+00,\n",
       "          0.00000000e+00,  1.29214996e-03, -1.86236387e+00,\n",
       "         -2.67923922e+00,  4.89844968e+00,  2.23164273e+00,\n",
       "          9.26252494e-01, -1.62249296e+00,  1.86725395e-03,\n",
       "          6.54317929e-04, -3.67935010e-01, -8.87609016e-01,\n",
       "          2.89736066e+00, -7.79716026e+00, -7.57959782e+00,\n",
       "         -2.82474041e+00,  6.99162080e-03,  7.30371204e-04,\n",
       "         -7.75966309e-01,  1.78787659e+00, -2.03682341e+00,\n",
       "         -8.20547256e+00, -6.11455345e+00, -5.13334858e-01,\n",
       "         -1.84579923e-02],\n",
       "        [ 0.00000000e+00, -8.71821566e-01,  3.66437827e+00,\n",
       "         -3.94544271e+00,  2.41871533e+00, -6.32417356e-03,\n",
       "         -8.27691668e+00, -2.28278997e-02,  3.79978390e+00,\n",
       "         -4.66185054e+00,  3.94087488e+00, -4.90697231e-01,\n",
       "         -4.92655682e+00,  3.68305254e+00,  1.58701514e+00,\n",
       "         -2.74064910e-02, -2.30999654e+00,  3.33420042e+00,\n",
       "          3.62549812e+00,  1.40533922e+00, -2.80744733e+00,\n",
       "          4.17140822e+00,  2.27793755e+00,  4.88477497e-03,\n",
       "         -4.22842403e+00, -1.20888459e+00, -4.01133426e+00,\n",
       "          9.66475816e+00,  1.23739769e+00, -1.78817916e-01,\n",
       "         -2.88515346e+00,  2.33048345e-03,  0.00000000e+00,\n",
       "         -2.86870505e+00,  9.56685468e-01,  8.96291788e+00,\n",
       "         -3.24237117e-01, -7.66976827e+00, -1.23990211e+01,\n",
       "          0.00000000e+00,  1.89560883e-03, -8.37665484e-01,\n",
       "          4.19117358e+00,  3.81249284e+00,  2.63441120e+00,\n",
       "          1.40089683e+00,  5.25311887e+00, -3.07330571e-02,\n",
       "         -1.46589649e-02,  3.45328041e+00,  4.67524339e+00,\n",
       "         -9.58603633e+00, -5.77156010e+00,  2.98601709e+00,\n",
       "          7.64096586e+00, -1.00318039e+00, -4.08303437e-02,\n",
       "          1.54449653e+00, -1.21789915e+01,  6.51622260e-01,\n",
       "          6.30827002e+00, -3.14243103e+00, -4.93093789e+00,\n",
       "         -2.75127425e-01],\n",
       "        [ 0.00000000e+00, -7.65830832e+00, -2.16191248e+00,\n",
       "          7.98103348e+00,  7.27348474e+00, -5.20434338e+00,\n",
       "          4.64549720e+00, -1.54732930e+00,  2.68353691e-03,\n",
       "          7.13258665e+00,  6.16054239e+00,  1.09731090e-01,\n",
       "         -2.83701493e+00,  2.89983662e+00,  6.33252135e+00,\n",
       "          4.72570673e-01,  1.62388726e-03, -4.35187210e+00,\n",
       "          3.11093531e+00,  4.09364079e+00,  5.57842127e+00,\n",
       "          1.59751144e+01,  2.61062393e+00, -2.15241907e-02,\n",
       "          8.04369181e-04,  4.46034582e+00,  5.61980383e+00,\n",
       "          7.99195510e+00,  5.56022519e+00,  6.58641379e+00,\n",
       "          2.77983927e+00, -8.97863747e-02,  0.00000000e+00,\n",
       "         -7.74613026e+00, -3.04603923e+00,  5.01422014e+00,\n",
       "         -1.91970824e+00, -6.11903472e-01, -2.67260497e+00,\n",
       "          0.00000000e+00,  1.19849729e-03,  9.94549525e-01,\n",
       "         -1.01013693e+01, -1.84883266e+01, -1.18968569e+01,\n",
       "         -5.78340561e+00, -7.79081290e+00, -1.19373130e-03,\n",
       "          6.53208521e-04,  2.60364323e+00, -3.79085008e+00,\n",
       "         -3.31694893e+00, -2.41025570e+00, -6.47100211e+00,\n",
       "         -6.74790476e-01,  1.40366462e+00,  5.16362478e-04,\n",
       "         -6.57530095e+00,  1.64995944e+00,  1.22589693e-01,\n",
       "          3.89556936e+00,  3.07054033e+00,  7.12312242e-01,\n",
       "         -6.78710531e-01]]))"
      ]
     },
     "execution_count": 122,
     "metadata": {},
     "output_type": "execute_result"
    }
   ],
   "source": [
    "# Get coefficients.\n",
    "softmax_sk.intercept_, softmax_sk.coef_"
   ]
  },
  {
   "cell_type": "code",
   "execution_count": 126,
   "metadata": {},
   "outputs": [
    {
     "data": {
      "text/plain": [
       "array([4., 9., 1.], dtype=float32)"
      ]
     },
     "execution_count": 126,
     "metadata": {},
     "output_type": "execute_result"
    }
   ],
   "source": [
    "# Predicted labels for training data.\n",
    "y_train_ = softmax_sk.predict(X_train)\n",
    "y_train_[:3]"
   ]
  },
  {
   "cell_type": "code",
   "execution_count": 127,
   "metadata": {},
   "outputs": [
    {
     "data": {
      "text/plain": [
       "1.0"
      ]
     },
     "execution_count": 127,
     "metadata": {},
     "output_type": "execute_result"
    }
   ],
   "source": [
    "# Prediction accuracy for training data.\n",
    "accuracy(y_train_, y_train)"
   ]
  },
  {
   "cell_type": "code",
   "execution_count": 128,
   "metadata": {},
   "outputs": [],
   "source": [
    "# Predicted label correctness for test data.\n",
    "y_test_ = softmax_sk.predict(X_test)"
   ]
  },
  {
   "cell_type": "code",
   "execution_count": 129,
   "metadata": {},
   "outputs": [
    {
     "data": {
      "text/plain": [
       "0.9622222222222222"
      ]
     },
     "execution_count": 129,
     "metadata": {},
     "output_type": "execute_result"
    }
   ],
   "source": [
    "# # Prediction accuracy for test data.\n",
    "accuracy(y_test_, y_test)"
   ]
  },
  {
   "cell_type": "code",
   "execution_count": null,
   "metadata": {},
   "outputs": [],
   "source": []
  }
 ],
 "metadata": {
  "kernelspec": {
   "display_name": "Python 3",
   "language": "python",
   "name": "python3"
  },
  "language_info": {
   "codemirror_mode": {
    "name": "ipython",
    "version": 3
   },
   "file_extension": ".py",
   "mimetype": "text/x-python",
   "name": "python",
   "nbconvert_exporter": "python",
   "pygments_lexer": "ipython3",
   "version": "3.6.9"
  }
 },
 "nbformat": 4,
 "nbformat_minor": 2
}
