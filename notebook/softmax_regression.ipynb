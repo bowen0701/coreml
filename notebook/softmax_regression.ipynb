{
 "cells": [
  {
   "cell_type": "markdown",
   "metadata": {},
   "source": [
    "# Softmax Regression with Implementation"
   ]
  },
  {
   "cell_type": "markdown",
   "metadata": {},
   "source": [
    "## Introduction\n",
    "\n",
    "Logistic regression is one of the most fundamental machine learning models for binary classification. I will summarize its methodology and implement it in NumPy and PyTorch.\n",
    "\n",
    "The problem we solve is **multiclass classification,** for example, we would like to enable computer vision to classify grayscale images into one of the 10 classes. \n",
    "\n",
    "We will load the MNIST data from scikit-learn as a toy dataset, and split the data into the training and test datasets."
   ]
  },
  {
   "cell_type": "markdown",
   "metadata": {},
   "source": [
    "## Softmax Regression Model\n",
    "\n",
    "[To be continued.]"
   ]
  },
  {
   "cell_type": "code",
   "execution_count": 1,
   "metadata": {},
   "outputs": [],
   "source": [
    "import random\n",
    "import numpy as np\n",
    "\n",
    "import torch\n",
    "import torch.nn as nn\n",
    "import torch.nn.functional as F\n",
    "import torch.optim as optim\n",
    "\n",
    "import tensorflow as tf\n",
    "\n",
    "import sys\n",
    "sys.path.append('../numpy/')\n",
    "from metrics import accuracy\n",
    "\n",
    "np.random.seed(71)"
   ]
  },
  {
   "cell_type": "code",
   "execution_count": 2,
   "metadata": {},
   "outputs": [],
   "source": [
    "%load_ext autoreload\n",
    "%autoreload 2"
   ]
  },
  {
   "cell_type": "markdown",
   "metadata": {},
   "source": [
    "## MNIST Dataset and Preprocessing"
   ]
  },
  {
   "cell_type": "code",
   "execution_count": 3,
   "metadata": {},
   "outputs": [],
   "source": [
    "import sklearn\n",
    "from sklearn.datasets import load_digits\n",
    "from sklearn.model_selection import train_test_split\n",
    "from sklearn.preprocessing import MinMaxScaler"
   ]
  },
  {
   "cell_type": "code",
   "execution_count": 4,
   "metadata": {},
   "outputs": [],
   "source": [
    "# Read breast cancer data.\n",
    "mnist_data = load_digits()\n",
    "X, y = mnist_data.data, mnist_data.target"
   ]
  },
  {
   "cell_type": "code",
   "execution_count": 5,
   "metadata": {},
   "outputs": [
    {
     "data": {
      "text/plain": [
       "((1797, 64), (1797,))"
      ]
     },
     "execution_count": 5,
     "metadata": {},
     "output_type": "execute_result"
    }
   ],
   "source": [
    "X.shape, y.shape"
   ]
  },
  {
   "cell_type": "code",
   "execution_count": 6,
   "metadata": {},
   "outputs": [
    {
     "name": "stdout",
     "output_type": "stream",
     "text": [
      "['pixel_0_0', 'pixel_0_1', 'pixel_0_2', 'pixel_0_3', 'pixel_0_4', 'pixel_0_5', 'pixel_0_6', 'pixel_0_7', 'pixel_1_0', 'pixel_1_1', 'pixel_1_2', 'pixel_1_3', 'pixel_1_4', 'pixel_1_5', 'pixel_1_6', 'pixel_1_7', 'pixel_2_0', 'pixel_2_1', 'pixel_2_2', 'pixel_2_3', 'pixel_2_4', 'pixel_2_5', 'pixel_2_6', 'pixel_2_7', 'pixel_3_0', 'pixel_3_1', 'pixel_3_2', 'pixel_3_3', 'pixel_3_4', 'pixel_3_5', 'pixel_3_6', 'pixel_3_7', 'pixel_4_0', 'pixel_4_1', 'pixel_4_2', 'pixel_4_3', 'pixel_4_4', 'pixel_4_5', 'pixel_4_6', 'pixel_4_7', 'pixel_5_0', 'pixel_5_1', 'pixel_5_2', 'pixel_5_3', 'pixel_5_4', 'pixel_5_5', 'pixel_5_6', 'pixel_5_7', 'pixel_6_0', 'pixel_6_1', 'pixel_6_2', 'pixel_6_3', 'pixel_6_4', 'pixel_6_5', 'pixel_6_6', 'pixel_6_7', 'pixel_7_0', 'pixel_7_1', 'pixel_7_2', 'pixel_7_3', 'pixel_7_4', 'pixel_7_5', 'pixel_7_6', 'pixel_7_7']\n"
     ]
    },
    {
     "data": {
      "text/plain": [
       "array([[ 0.,  0.,  5., 13.,  9.,  1.,  0.,  0.,  0.,  0., 13., 15., 10.,\n",
       "        15.,  5.,  0.,  0.,  3., 15.,  2.,  0., 11.,  8.,  0.,  0.,  4.,\n",
       "        12.,  0.,  0.,  8.,  8.,  0.,  0.,  5.,  8.,  0.,  0.,  9.,  8.,\n",
       "         0.,  0.,  4., 11.,  0.,  1., 12.,  7.,  0.,  0.,  2., 14.,  5.,\n",
       "        10., 12.,  0.,  0.,  0.,  0.,  6., 13., 10.,  0.,  0.,  0.],\n",
       "       [ 0.,  0.,  0., 12., 13.,  5.,  0.,  0.,  0.,  0.,  0., 11., 16.,\n",
       "         9.,  0.,  0.,  0.,  0.,  3., 15., 16.,  6.,  0.,  0.,  0.,  7.,\n",
       "        15., 16., 16.,  2.,  0.,  0.,  0.,  0.,  1., 16., 16.,  3.,  0.,\n",
       "         0.,  0.,  0.,  1., 16., 16.,  6.,  0.,  0.,  0.,  0.,  1., 16.,\n",
       "        16.,  6.,  0.,  0.,  0.,  0.,  0., 11., 16., 10.,  0.,  0.],\n",
       "       [ 0.,  0.,  0.,  4., 15., 12.,  0.,  0.,  0.,  0.,  3., 16., 15.,\n",
       "        14.,  0.,  0.,  0.,  0.,  8., 13.,  8., 16.,  0.,  0.,  0.,  0.,\n",
       "         1.,  6., 15., 11.,  0.,  0.,  0.,  1.,  8., 13., 15.,  1.,  0.,\n",
       "         0.,  0.,  9., 16., 16.,  5.,  0.,  0.,  0.,  0.,  3., 13., 16.,\n",
       "        16., 11.,  5.,  0.,  0.,  0.,  0.,  3., 11., 16.,  9.,  0.]])"
      ]
     },
     "execution_count": 6,
     "metadata": {},
     "output_type": "execute_result"
    }
   ],
   "source": [
    "print(mnist_data.feature_names)\n",
    "X[:3]"
   ]
  },
  {
   "cell_type": "code",
   "execution_count": 7,
   "metadata": {},
   "outputs": [
    {
     "name": "stdout",
     "output_type": "stream",
     "text": [
      "[0 1 2 3 4 5 6 7 8 9]\n"
     ]
    },
    {
     "data": {
      "text/plain": [
       "array([0, 1, 2])"
      ]
     },
     "execution_count": 7,
     "metadata": {},
     "output_type": "execute_result"
    }
   ],
   "source": [
    "print(mnist_data.target_names)\n",
    "y[:3]"
   ]
  },
  {
   "cell_type": "code",
   "execution_count": 8,
   "metadata": {},
   "outputs": [],
   "source": [
    "# Split data into training and test datasets.\n",
    "X_train_raw, X_test_raw, y_train, y_test = train_test_split(\n",
    "    X, y, test_size=0.25, random_state=71, shuffle=True, stratify=y)"
   ]
  },
  {
   "cell_type": "code",
   "execution_count": 9,
   "metadata": {},
   "outputs": [
    {
     "name": "stdout",
     "output_type": "stream",
     "text": [
      "(1347, 64) (1347,)\n",
      "(450, 64) (450,)\n"
     ]
    }
   ],
   "source": [
    "print(X_train_raw.shape, y_train.shape)\n",
    "print(X_test_raw.shape, y_test.shape)"
   ]
  },
  {
   "cell_type": "code",
   "execution_count": 10,
   "metadata": {},
   "outputs": [],
   "source": [
    "# Feature engineering for standardizing features by min-max scaler.\n",
    "min_max_scaler = MinMaxScaler()\n",
    "\n",
    "X_train = min_max_scaler.fit_transform(X_train_raw)\n",
    "X_test = min_max_scaler.transform(X_test_raw)"
   ]
  },
  {
   "cell_type": "code",
   "execution_count": 11,
   "metadata": {},
   "outputs": [],
   "source": [
    "# Convert arrays to float32.\n",
    "X_train, X_test, y_train, y_test = (\n",
    "    np.float32(X_train), np.float32(X_test), np.float32(y_train), np.float32(y_test))"
   ]
  },
  {
   "cell_type": "code",
   "execution_count": 12,
   "metadata": {},
   "outputs": [
    {
     "data": {
      "text/plain": [
       "(dtype('float32'), dtype('float32'))"
      ]
     },
     "execution_count": 12,
     "metadata": {},
     "output_type": "execute_result"
    }
   ],
   "source": [
    "X_train.dtype, y_train.dtype"
   ]
  },
  {
   "cell_type": "markdown",
   "metadata": {},
   "source": [
    "## Numpy Implementation of Softmax Regression"
   ]
  },
  {
   "cell_type": "code",
   "execution_count": 13,
   "metadata": {},
   "outputs": [],
   "source": [
    "class SoftmaxRegression(object):\n",
    "    \"\"\"Numpy implementation of Softmax Regression.\"\"\"\n",
    "    # TODO\n",
    "\n",
    "    def __init__(self, batch_size=64, lr=0.01, n_epochs=1000):\n",
    "        self.batch_size = batch_size\n",
    "        self.lr = lr\n",
    "        self.n_epochs = n_epochs\n",
    "\n",
    "    def get_data(self, X_train, y_train, shuffle=True):\n",
    "        \"\"\"Get dataset and information.\"\"\"\n",
    "        self.X_train = X_train\n",
    "        self.y_train = y_train\n",
    "\n",
    "        # Get the numbers of examples and inputs.\n",
    "        self.n_examples, self.n_inputs = self.X_train.shape\n",
    "\n",
    "        if shuffle:\n",
    "            idx = list(range(self.n_examples))\n",
    "            random.shuffle(idx)\n",
    "            self.X_train = self.X_train[idx]\n",
    "            self.y_train = self.y_train[idx]\n",
    "\n",
    "    def _create_weights(self):\n",
    "        \"\"\"Create model weights and bias.\"\"\"\n",
    "        self.w = np.zeros(self.n_inputs).reshape(self.n_inputs, 1)\n",
    "        self.b = np.zeros(1).reshape(1, 1)\n",
    "\n",
    "    def _logit(self, X):\n",
    "        \"\"\"Logit: unnormalized log probability.\"\"\"\n",
    "        return np.matmul(X, self.w) + self.b\n",
    "\n",
    "    def _sigmoid(self, logit):\n",
    "        \"\"\"Sigmoid function by stabilization trick.\n",
    "\n",
    "        sigmoid(z) = 1 / (1 + exp(-z)) \n",
    "                   = exp(z) / (1 + exp(z)) * exp(z_max) / exp(z_max)\n",
    "                   = exp(z - z_max) / (exp(-z_max) + exp(z - z_max)),\n",
    "        where z is the logit, and z_max = z - max(0, z).\n",
    "        \"\"\"\n",
    "        logit_max = np.maximum(0, logit)\n",
    "        logit_stable = logit - logit_max\n",
    "        return np.exp(logit_stable) / (np.exp(-logit_max) + np.exp(logit_stable))\n",
    "    \n",
    "    def _model(self, X):\n",
    "        \"\"\"Logistic regression model.\"\"\"\n",
    "        logit = self._logit(X)\n",
    "        return self._sigmoid(logit)\n",
    "\n",
    "    def _loss(self, y, logit):\n",
    "        \"\"\"Cross entropy loss by stabilizaiton trick.\n",
    "\n",
    "        cross_entropy_loss(y, z) \n",
    "          = - 1/n * \\sum_{i=1}^n y_i * log p(y_i = 1|x_i) + (1 - y_i) * log p(y_i = 0|x_i)\n",
    "          = - 1/n * \\sum_{i=1}^n y_i * (z_i - log(1 + exp(z_i))) + (1 - y_i) * (-log(1 + exp(z_i))),\n",
    "        where z is the logit, z_max = z - max(0, z),\n",
    "          log p(y = 1|x)\n",
    "            = log (1 / (1 + exp(-z))) \n",
    "            = log (exp(z) / (1 + exp(z)))\n",
    "            = z - log(1 + exp(z))\n",
    "        and \n",
    "          log(1 + exp(z)) := logsumexp(z)\n",
    "            = log(exp(0) + exp(z))\n",
    "            = log(exp(0) + exp(z) * exp(z_max) / exp(z_max))\n",
    "            = z_max + log(exp(-z_max) + exp(z - z_max)).\n",
    "        \"\"\"\n",
    "        logit_max = np.maximum(0, logit)\n",
    "        logit_stable = logit - logit_max\n",
    "        logsumexp_stable = logit_max + np.log(np.exp(-logit_max) + np.exp(logit_stable))\n",
    "        self.cross_entropy = -(y * (logit - logsumexp_stable) + (1 - y) * (-logsumexp_stable))\n",
    "        return np.mean(self.cross_entropy)\n",
    "\n",
    "    def _optimize(self, X, y):\n",
    "        \"\"\"Optimize by stochastic gradient descent.\"\"\"\n",
    "        m = X.shape[0]\n",
    "\n",
    "        y_ = self._model(X) \n",
    "        dw = 1 / m * np.matmul(X.T, y_ - y)\n",
    "        db = np.mean(y_ - y)\n",
    "\n",
    "        for (param, grad) in zip([self.w, self.b], [dw, db]):\n",
    "            param[:] = param - self.lr * grad\n",
    "\n",
    "    def _fetch_batch(self):\n",
    "        \"\"\"Fetch batch dataset.\"\"\"\n",
    "        idx = list(range(self.n_examples))\n",
    "        for i in range(0, self.n_examples, self.batch_size):\n",
    "            idx_batch = idx[i:min(i + self.batch_size, self.n_examples)]\n",
    "            yield (self.X_train.take(idx_batch, axis=0), self.y_train.take(idx_batch, axis=0))\n",
    "\n",
    "    def fit(self):\n",
    "        \"\"\"Fit model.\"\"\"\n",
    "        self._create_weights()\n",
    "\n",
    "        for epoch in range(1, self.n_epochs + 1):\n",
    "            total_loss = 0\n",
    "            for X_train_b, y_train_b in self._fetch_batch():\n",
    "                y_train_b = y_train_b.reshape((y_train_b.shape[0], -1))\n",
    "                self._optimize(X_train_b, y_train_b)\n",
    "                train_loss = self._loss(y_train_b, self._logit(X_train_b))\n",
    "                total_loss += train_loss * X_train_b.shape[0]\n",
    "\n",
    "            if epoch % 100 == 0:\n",
    "                print('epoch {0}: training loss {1}'.format(epoch, total_loss / self.n_examples))\n",
    "\n",
    "        return self\n",
    "\n",
    "    def get_coeff(self):\n",
    "        return self.b, self.w.reshape((-1,))\n",
    "\n",
    "    def predict(self, X):\n",
    "        return self._model(X).reshape((-1,))"
   ]
  },
  {
   "cell_type": "markdown",
   "metadata": {},
   "source": [
    "## Fitting Softmax Regression in NumPy"
   ]
  },
  {
   "cell_type": "code",
   "execution_count": null,
   "metadata": {},
   "outputs": [],
   "source": [
    "# Fit our Softmax Regression.\n",
    "softmax = SoftmaxRegression(batch_size=64, lr=1, n_epochs=100)"
   ]
  },
  {
   "cell_type": "code",
   "execution_count": null,
   "metadata": {},
   "outputs": [],
   "source": [
    "# Get datasets and build graph.\n",
    "softmax.get_data(X_train, y_train, shuffle=True)"
   ]
  },
  {
   "cell_type": "code",
   "execution_count": null,
   "metadata": {},
   "outputs": [],
   "source": [
    "softmax.fit()"
   ]
  },
  {
   "cell_type": "code",
   "execution_count": null,
   "metadata": {},
   "outputs": [],
   "source": [
    "# Get coefficient.\n",
    "softmax.get_coeff()"
   ]
  },
  {
   "cell_type": "code",
   "execution_count": null,
   "metadata": {},
   "outputs": [],
   "source": [
    "# Predicted probabilities for training data.\n",
    "p_train_ = softmax.predict(X_train)\n",
    "p_train_[:10]"
   ]
  },
  {
   "cell_type": "code",
   "execution_count": null,
   "metadata": {},
   "outputs": [],
   "source": [
    "# Predicted labels for training data.\n",
    "y_train_ = (p_train_ > 0.5) * 1\n",
    "y_train_[:3]"
   ]
  },
  {
   "cell_type": "code",
   "execution_count": null,
   "metadata": {},
   "outputs": [],
   "source": [
    "# Prediction accuracy for training data.\n",
    "accuracy(y_train, y_train_)"
   ]
  },
  {
   "cell_type": "code",
   "execution_count": null,
   "metadata": {},
   "outputs": [],
   "source": [
    "# Predicted label correctness for test data.\n",
    "p_test_ = softmax.predict(X_test)\n",
    "print(p_test_[:10])\n",
    "y_test_ = (p_test_ > 0.5) * 1"
   ]
  },
  {
   "cell_type": "code",
   "execution_count": null,
   "metadata": {},
   "outputs": [],
   "source": [
    "# Prediction accuracy for test data.\n",
    "accuracy(y_test, y_test_)"
   ]
  },
  {
   "cell_type": "markdown",
   "metadata": {},
   "source": [
    "## PyTorch Implementation of Softmax Regression"
   ]
  },
  {
   "cell_type": "code",
   "execution_count": 15,
   "metadata": {},
   "outputs": [],
   "source": [
    "class SoftmaxRegressionTorch(nn.Module):\n",
    "    \"\"\"PyTorch implementation of Softmax Regression.\"\"\"\n",
    "\n",
    "    def __init__(self, n_targets=10, batch_size=64, lr=0.01, n_epochs=1000):\n",
    "        super(SoftmaxRegressionTorch, self).__init__()\n",
    "        self.n_targets = n_targets\n",
    "        self.batch_size = batch_size\n",
    "        self.lr = lr\n",
    "        self.n_epochs = n_epochs\n",
    "\n",
    "    def get_data(self, X_train, y_train, shuffle=True):\n",
    "        \"\"\"Get dataset and information.\"\"\"\n",
    "        self.X_train = X_train\n",
    "        self.y_train = y_train\n",
    "\n",
    "        # Get the numbers of examples and inputs.\n",
    "        self.n_examples, self.n_inputs = self.X_train.shape\n",
    "\n",
    "        if shuffle:\n",
    "            idx = list(range(self.n_examples))\n",
    "            random.shuffle(idx)\n",
    "            self.X_train = self.X_train[idx]\n",
    "            self.y_train = self.y_train[idx]\n",
    "\n",
    "    def _create_model(self):\n",
    "        \"\"\"Create logistic regression model.\"\"\"\n",
    "        self.net = nn.Sequential(\n",
    "            nn.Linear(self.n_inputs, self.n_targets),\n",
    "            nn.Softmax(dim=1),\n",
    "        )\n",
    "\n",
    "    def forward(self, x):\n",
    "        x = x.view(x.shape[0], -1)\n",
    "        y = self.net(x)\n",
    "        return y\n",
    "\n",
    "    def _create_loss(self):\n",
    "        \"\"\"Create cross entropy loss.\"\"\"\n",
    "        self.criterion = nn.CrossEntropyLoss()\n",
    "\n",
    "    def _create_optimizer(self):\n",
    "        \"\"\"Create optimizer by stochastic gradient descent.\"\"\"\n",
    "        self.optimizer = optim.SGD(self.parameters(), lr=self.lr)\n",
    "\n",
    "    def build(self):\n",
    "        \"\"\"Build model, loss function and optimizer.\"\"\"\n",
    "        self._create_model()\n",
    "        self._create_loss()\n",
    "        self._create_optimizer()\n",
    "\n",
    "    def _fetch_batch(self):\n",
    "        \"\"\"Fetch batch dataset.\"\"\"\n",
    "        idx = list(range(self.n_examples))\n",
    "        for i in range(0, self.n_examples, self.batch_size):\n",
    "            idx_batch = idx[i:min(i + self.batch_size, self.n_examples)]\n",
    "            yield (self.X_train.take(idx_batch, axis=0), \n",
    "                   self.y_train.take(idx_batch, axis=0))\n",
    "\n",
    "    def fit(self):\n",
    "        \"\"\"Fit model.\"\"\"\n",
    "        for epoch in range(1, self.n_epochs + 1):\n",
    "            total_loss = 0\n",
    "            for X_train_b, y_train_b in self._fetch_batch():\n",
    "                # Convert to Tensor from NumPy array and reshape ys.\n",
    "                X_train_b, y_train_b = (\n",
    "                    torch.from_numpy(X_train_b), torch.from_numpy(y_train_b))\n",
    "\n",
    "                y_pred_b = self.net(X_train_b)\n",
    "                loss = self.criterion(y_pred_b, y_train_b.long())\n",
    "                total_loss += loss * X_train_b.shape[0]\n",
    "\n",
    "                # Zero grads, performs backward pass, and update weights.\n",
    "                self.optimizer.zero_grad()\n",
    "                loss.backward()\n",
    "                self.optimizer.step()\n",
    "\n",
    "            if epoch % 100 == 0:\n",
    "                print(f'Epoch {epoch}: training loss: {total_loss / self.n_examples}')\n",
    "\n",
    "    def get_coeff(self):\n",
    "        \"\"\"Get model coefficients.\"\"\"\n",
    "        # Detach var which require grad.\n",
    "        return (self.net[0].bias.detach().numpy(),\n",
    "                self.net[0].weight.detach().numpy())\n",
    "\n",
    "    def predict(self, X):\n",
    "        \"\"\"Predict for new data.\"\"\"\n",
    "        with torch.no_grad():\n",
    "            X_ = torch.from_numpy(X)\n",
    "            return self.net(X_)"
   ]
  },
  {
   "cell_type": "markdown",
   "metadata": {},
   "source": [
    "## Fitting Softmax Regression in PyTorch"
   ]
  },
  {
   "cell_type": "code",
   "execution_count": 16,
   "metadata": {},
   "outputs": [],
   "source": [
    "# Fit PyTorch Logistic Regression.\n",
    "softmax_torch = SoftmaxRegressionTorch(n_targets=10, batch_size=64, lr=0.5, n_epochs=1000)"
   ]
  },
  {
   "cell_type": "code",
   "execution_count": 17,
   "metadata": {},
   "outputs": [],
   "source": [
    "softmax_torch.get_data(X_train, y_train, shuffle=True)"
   ]
  },
  {
   "cell_type": "code",
   "execution_count": 18,
   "metadata": {},
   "outputs": [],
   "source": [
    "softmax_torch.build()"
   ]
  },
  {
   "cell_type": "code",
   "execution_count": 19,
   "metadata": {},
   "outputs": [
    {
     "data": {
      "text/plain": [
       "Sequential(\n",
       "  (0): Linear(in_features=64, out_features=10, bias=True)\n",
       "  (1): Softmax(dim=1)\n",
       ")"
      ]
     },
     "execution_count": 19,
     "metadata": {},
     "output_type": "execute_result"
    }
   ],
   "source": [
    "softmax_torch.net"
   ]
  },
  {
   "cell_type": "code",
   "execution_count": 20,
   "metadata": {},
   "outputs": [
    {
     "name": "stdout",
     "output_type": "stream",
     "text": [
      "Epoch 100: training loss: 1.5401159524917603\n",
      "Epoch 200: training loss: 1.5128363370895386\n",
      "Epoch 300: training loss: 1.5020697116851807\n",
      "Epoch 400: training loss: 1.4955798387527466\n",
      "Epoch 500: training loss: 1.4912927150726318\n",
      "Epoch 600: training loss: 1.4882277250289917\n",
      "Epoch 700: training loss: 1.4859102964401245\n",
      "Epoch 800: training loss: 1.4840892553329468\n",
      "Epoch 900: training loss: 1.4826055765151978\n",
      "Epoch 1000: training loss: 1.4813412427902222\n"
     ]
    }
   ],
   "source": [
    "softmax_torch.fit()"
   ]
  },
  {
   "cell_type": "code",
   "execution_count": 21,
   "metadata": {},
   "outputs": [
    {
     "data": {
      "text/plain": [
       "(array([ 0.31273487, -1.1591383 ,  0.2713904 ,  0.08872963,  0.6331543 ,\n",
       "         0.34047732, -0.42384103,  0.5192086 ,  0.27209905, -0.5812637 ],\n",
       "       dtype=float32),\n",
       " array([[ 6.85066730e-02, -2.07083911e-01,  1.93988141e-02,\n",
       "          5.55133104e-01, -6.15285151e-03, -1.31471848e+00,\n",
       "         -9.15930569e-01, -2.69238353e-01,  9.59302932e-02,\n",
       "         -5.22491872e-01, -1.42384216e-01,  8.99561584e-01,\n",
       "          1.04160869e+00,  1.10052407e+00, -8.48016918e-01,\n",
       "         -8.05965662e-02, -7.17134103e-02,  2.38810450e-01,\n",
       "          1.28496408e+00,  1.21454701e-01, -2.78667998e+00,\n",
       "          2.05707026e+00,  3.89430434e-01, -1.39909640e-01,\n",
       "          1.78014040e-02,  9.51899230e-01,  1.31865561e+00,\n",
       "         -1.65240741e+00, -4.66167593e+00,  3.75972986e-01,\n",
       "          1.13720012e+00,  5.54777943e-02,  9.29418206e-02,\n",
       "          1.33213949e+00,  1.50297630e+00, -1.95885289e+00,\n",
       "         -3.74068594e+00,  3.26903790e-01,  9.41402495e-01,\n",
       "         -4.79919016e-02, -6.96029440e-02,  3.56496796e-02,\n",
       "          2.40877676e+00, -1.28544676e+00, -9.52767372e-01,\n",
       "          8.65179896e-01,  3.66027176e-01, -3.69392196e-03,\n",
       "          3.93083282e-02, -3.12869340e-01,  1.16233563e+00,\n",
       "         -8.64825398e-02,  9.27357376e-01,  4.59816992e-01,\n",
       "         -9.28377628e-01, -1.90810889e-01,  5.56878895e-02,\n",
       "         -1.58713058e-01, -4.07522649e-01,  9.29693937e-01,\n",
       "         -4.38410640e-01, -6.01570547e-01, -6.83420300e-01,\n",
       "         -1.57049969e-01],\n",
       "        [ 1.21937856e-01, -2.87412643e-01, -5.22161901e-01,\n",
       "          4.14386183e-01, -4.50116444e+00,  1.02064717e+00,\n",
       "         -7.14877844e-02, -1.98329449e-01, -2.76819974e-01,\n",
       "         -1.94431710e+00, -4.12556696e+00, -9.51054811e-01,\n",
       "          4.92599726e-01,  4.67115104e-01, -2.61227298e+00,\n",
       "         -1.60167977e-01,  1.39909601e+00,  4.49286371e-01,\n",
       "          6.08787179e-01,  4.98836136e+00,  4.71468163e+00,\n",
       "         -8.00965607e-01, -1.19391155e+00, -1.10786371e-01,\n",
       "          1.08275628e+00,  7.70318985e-01,  7.02953815e-01,\n",
       "          2.15993738e+00,  6.04751766e-01,  1.23096848e+00,\n",
       "         -1.38280487e+00,  7.64422864e-02,  8.23908448e-02,\n",
       "         -2.69789428e-01,  3.33770752e-01, -7.71320283e-01,\n",
       "          1.02096653e+00,  5.62264085e-01, -1.58776927e+00,\n",
       "         -4.93551642e-02, -1.77337434e-02, -1.01509774e+00,\n",
       "         -5.22639871e-01,  1.64903498e+00,  1.40317297e+00,\n",
       "         -2.33417678e+00, -2.41667008e+00, -1.19989879e-01,\n",
       "         -1.96355395e-02, -8.84684741e-01, -1.02454698e+00,\n",
       "          1.18847489e+00,  2.07909250e+00, -8.68927836e-01,\n",
       "         -1.09567130e+00,  9.48376179e-01, -7.82533884e-02,\n",
       "         -3.42698395e-01, -1.41384065e+00, -1.04248571e+00,\n",
       "          9.96367261e-02,  2.54040790e+00,  1.02933872e+00,\n",
       "          1.38282096e+00],\n",
       "        [ 4.93814200e-02,  5.17530739e-01,  9.61244583e-01,\n",
       "          3.24051857e-01,  1.97916284e-01, -1.53434813e-01,\n",
       "         -2.20089257e-01, -1.00060344e-01, -3.56331378e-01,\n",
       "          1.42258286e+00,  1.21554124e+00, -6.63298965e-01,\n",
       "          2.07762337e+00, -9.95275527e-02,  3.03806782e-01,\n",
       "         -1.34756684e-01, -6.70222118e-02, -9.42439139e-02,\n",
       "         -1.55698693e+00, -1.88568127e+00,  1.46366858e+00,\n",
       "          1.65810704e-01,  8.83879602e-01,  1.10472478e-01,\n",
       "          6.15526587e-02, -1.19234276e+00, -4.42845964e+00,\n",
       "         -3.81655025e+00, -1.24286854e+00, -6.05265722e-02,\n",
       "          2.06401080e-01, -1.06474452e-01, -7.64105916e-02,\n",
       "         -1.24783862e+00, -3.35268664e+00, -1.05139506e+00,\n",
       "         -5.01690984e-01, -2.35586238e+00, -1.66606021e+00,\n",
       "          2.08138227e-02, -3.19494419e-02,  2.61459857e-01,\n",
       "          6.49452925e-01,  3.91666675e+00, -2.01509166e+00,\n",
       "         -3.23588991e+00, -1.47922528e+00,  1.40390694e-01,\n",
       "          1.33320883e-01,  1.00370979e+00,  8.14595103e-01,\n",
       "          3.36643243e+00,  2.32306004e+00,  2.59039235e+00,\n",
       "          1.20204651e+00,  5.02605915e-01,  1.47708580e-01,\n",
       "          5.09559035e-01,  1.71805310e+00,  5.30340075e-01,\n",
       "          4.12636191e-01,  2.85551214e+00,  2.91532612e+00,\n",
       "          8.26085329e-01],\n",
       "        [ 2.38565952e-02,  1.05259395e+00,  1.38296023e-01,\n",
       "          1.08305955e+00,  3.13299370e+00,  1.53641212e+00,\n",
       "         -3.85488749e-01, -1.11716516e-01, -7.89762959e-02,\n",
       "          1.31416094e+00,  9.27620053e-01, -1.35625273e-01,\n",
       "         -2.48940196e-02,  1.77982450e+00,  1.05824935e+00,\n",
       "         -6.47829175e-02, -1.47780240e-01, -1.07630774e-01,\n",
       "         -3.66747761e+00, -3.58097267e+00,  1.84414399e+00,\n",
       "         -7.24897146e-01,  2.93129146e-01, -9.18769091e-02,\n",
       "          2.44366657e-02, -1.01333046e+00, -3.39260435e+00,\n",
       "         -4.11038369e-01,  1.88323975e+00, -3.69213057e+00,\n",
       "         -1.93588972e+00, -4.58505079e-02, -4.04859036e-02,\n",
       "         -9.37632024e-01, -1.94899559e+00,  1.57743067e-01,\n",
       "          2.54026866e+00, -5.62936425e-01, -1.17523700e-01,\n",
       "          3.04537416e-02, -7.37243667e-02, -3.15462261e-01,\n",
       "         -2.89022779e+00, -4.33068037e+00,  3.34500819e-01,\n",
       "          2.57871413e+00,  2.67961717e+00, -1.56941354e-01,\n",
       "          6.95489645e-02, -2.18006521e-01,  1.51482746e-01,\n",
       "         -1.67122543e+00,  3.30950797e-01,  9.32353795e-01,\n",
       "          3.01605225e+00, -5.56048453e-01,  2.70977821e-02,\n",
       "          5.87668359e-01,  1.25012517e+00,  8.28625441e-01,\n",
       "          7.47739196e-01,  1.22876242e-02,  4.26529571e-02,\n",
       "         -9.78982031e-01],\n",
       "        [-1.26186013e-03, -1.22499950e-01, -1.62007916e+00,\n",
       "         -2.71358657e+00, -4.28701103e-01, -3.12067103e+00,\n",
       "         -1.00000823e+00,  4.25654948e-01, -2.10568570e-02,\n",
       "          1.13422191e-02, -1.67007041e+00, -6.97214425e-01,\n",
       "         -1.95990586e+00, -3.22011805e+00, -3.23838532e-01,\n",
       "         -5.43984808e-02, -1.12150341e-01,  6.70147657e-01,\n",
       "          3.55393082e-01,  1.82586277e+00,  5.60474575e-01,\n",
       "         -1.72749930e-03,  1.04130530e+00,  1.55680820e-01,\n",
       "          3.97832990e-01,  1.89271235e+00,  2.34758854e+00,\n",
       "         -6.72370732e-01,  1.37721285e-01,  4.86923233e-02,\n",
       "          3.42749405e+00,  7.63942301e-01,  4.56399024e-02,\n",
       "          2.50400448e+00,  2.20396376e+00, -9.48008955e-01,\n",
       "          2.00169730e+00,  1.92115057e+00,  1.89888811e+00,\n",
       "          8.57565701e-02,  1.73013628e-01,  3.48474717e+00,\n",
       "          7.50566840e-01,  2.47880793e+00,  3.94980860e+00,\n",
       "          5.60450196e-01,  1.18719846e-01,  6.22128360e-02,\n",
       "          1.49008632e-01,  1.50816417e+00, -1.26562130e+00,\n",
       "          7.81166553e-02,  1.47657073e+00, -2.10657763e+00,\n",
       "         -1.22593975e+00, -8.08138847e-02, -7.07422495e-02,\n",
       "         -2.06841901e-01, -1.18383682e+00, -2.09089303e+00,\n",
       "         -8.77839252e-02, -1.65553081e+00, -3.90087575e-01,\n",
       "         -2.36211941e-02],\n",
       "        [ 5.24842739e-03,  8.81757498e-01,  2.36091876e+00,\n",
       "          5.70514202e-01,  1.34085536e+00,  3.13084054e+00,\n",
       "          2.01035476e+00, -5.06440878e-01, -1.36356741e-01,\n",
       "          8.80686581e-01,  1.89727283e+00,  4.06009108e-01,\n",
       "          2.03709126e-01, -2.45141292e+00,  1.52954310e-01,\n",
       "         -2.91138649e-01, -4.31499243e-01,  1.15749247e-01,\n",
       "          1.46904588e+00, -5.12267649e-01, -4.66937351e+00,\n",
       "         -4.80796242e+00, -2.96654558e+00, -1.20919243e-01,\n",
       "         -2.61228740e-01,  8.97891164e-01,  2.01190472e+00,\n",
       "         -9.06612277e-02,  1.15420306e+00, -3.87164474e-01,\n",
       "         -1.52144647e+00,  1.19359195e-02,  7.89843351e-02,\n",
       "         -4.05617543e-02,  6.64281070e-01, -8.25187504e-01,\n",
       "         -4.81718600e-01,  4.23976928e-01,  7.98374772e-01,\n",
       "          1.08209565e-01, -1.84012903e-03, -1.13086259e+00,\n",
       "         -1.88895106e+00, -1.32024097e+00, -1.21678007e+00,\n",
       "          5.53172946e-01,  4.17679548e-01, -3.38623188e-02,\n",
       "          9.32605714e-02, -1.78114742e-01, -3.96331340e-01,\n",
       "         -1.04202020e+00, -1.65249303e-01,  7.51540586e-02,\n",
       "         -1.50430822e+00, -1.57799006e-01,  9.27430484e-03,\n",
       "          7.80796349e-01,  3.19789171e+00,  1.67564952e+00,\n",
       "         -3.20248008e-02, -1.14353907e+00, -1.18205810e+00,\n",
       "         -2.97493547e-01],\n",
       "        [ 3.38165611e-02, -1.76918492e-01, -1.76397884e+00,\n",
       "         -6.89702451e-01, -4.69508618e-01, -9.20740366e-01,\n",
       "         -3.89590323e-01, -9.86118391e-02,  7.98879564e-02,\n",
       "         -9.95054603e-01, -1.61100483e+00,  1.74382254e-01,\n",
       "         -2.05206919e+00, -1.22553456e+00, -7.41984770e-02,\n",
       "         -1.26238570e-01, -1.75734594e-01, -1.14839947e+00,\n",
       "          1.34279382e+00,  5.62188268e-01, -2.77948594e+00,\n",
       "         -3.34561729e+00, -6.22890353e-01, -1.87314544e-02,\n",
       "         -1.53525397e-01,  1.97344095e-01,  9.86187458e-01,\n",
       "          6.26031458e-01, -1.16741991e+00, -1.14233434e+00,\n",
       "         -1.37914002e+00,  4.87564169e-02, -4.43670452e-02,\n",
       "          1.43132162e+00,  2.43560100e+00,  1.17359591e+00,\n",
       "          1.93781350e-02,  4.52851690e-02,  2.08743528e-01,\n",
       "         -9.57065970e-02,  3.72346751e-02, -5.92814445e-01,\n",
       "          3.95947003e+00,  1.24557126e+00,  1.19002151e+00,\n",
       "          6.07684731e-01,  1.16552413e+00,  2.52380759e-01,\n",
       "          9.19422731e-02, -6.69000626e-01,  1.50502670e+00,\n",
       "          1.65588593e+00, -8.66324008e-01,  1.81231666e+00,\n",
       "          1.10880804e+00, -4.20449197e-01,  2.80836467e-02,\n",
       "         -2.26378486e-01, -1.55275500e+00, -1.08230436e+00,\n",
       "          1.19617686e-01,  1.82982194e+00, -4.23661992e-02,\n",
       "         -4.08210605e-01],\n",
       "        [ 5.09294122e-02, -1.50512708e-02,  4.95791316e-01,\n",
       "          1.28613091e+00,  9.54034448e-01,  1.58296418e+00,\n",
       "          1.77520049e+00,  1.02232873e+00, -2.35660970e-02,\n",
       "         -4.42833066e-01,  5.53189218e-01,  8.08224320e-01,\n",
       "          3.30203676e+00,  4.55265135e-01,  1.87901467e-01,\n",
       "          1.29438686e+00, -1.12746432e-01, -1.54207587e+00,\n",
       "         -2.70594096e+00, -1.85395157e+00,  8.40168357e-01,\n",
       "         -2.17648104e-01,  1.06460524e+00,  1.39728278e-01,\n",
       "          6.22143000e-02, -1.61943090e+00, -6.64224625e-01,\n",
       "         -2.19264436e+00, -1.22830950e-01,  2.22733784e+00,\n",
       "          2.50487757e+00, -3.41930538e-01, -4.49743867e-03,\n",
       "          4.15258199e-01,  2.81334102e-01,  5.69318533e-01,\n",
       "          1.13340890e+00,  2.41406012e+00,  1.97578728e+00,\n",
       "         -1.13980219e-01,  1.16866626e-01, -2.86127716e-01,\n",
       "         -5.41886389e-01,  1.39984572e+00,  5.73972225e-01,\n",
       "          4.21285182e-01, -3.07452857e-01,  3.23591717e-02,\n",
       "         -9.27304290e-03, -2.02169284e-01, -1.04945982e+00,\n",
       "          9.17598248e-01, -2.91784978e+00, -2.94674921e+00,\n",
       "         -7.67152607e-01, -1.43037722e-01,  4.36766483e-02,\n",
       "         -2.50208139e-01,  7.97799230e-01, -6.76342368e-01,\n",
       "         -3.55510378e+00, -2.28895831e+00, -3.97180051e-01,\n",
       "         -9.26148966e-02],\n",
       "        [ 4.01332080e-02, -5.60231805e-01, -3.00333917e-01,\n",
       "         -1.44169855e+00,  6.51837289e-02,  3.39107178e-02,\n",
       "         -1.95663977e+00, -7.98030570e-02,  5.46391964e-01,\n",
       "         -7.65235424e-01,  1.63954639e+00, -5.93520761e-01,\n",
       "         -1.95443332e+00,  1.38708293e+00,  3.10982853e-01,\n",
       "          5.67774801e-03, -3.67992073e-01,  7.69780159e-01,\n",
       "          1.01635230e+00,  3.01834345e-01, -7.18644142e-01,\n",
       "          2.20001674e+00,  6.48591876e-01, -6.32788911e-02,\n",
       "         -7.25814521e-01, -7.70428181e-01, -5.59952199e-01,\n",
       "          3.37141705e+00,  1.66215345e-01, -1.03963590e+00,\n",
       "         -1.23459494e+00, -4.94100004e-02, -8.59123766e-02,\n",
       "         -1.28369343e+00, -1.29487455e+00,  2.61948562e+00,\n",
       "          5.32685935e-01, -1.84847021e+00, -2.96955061e+00,\n",
       "          4.98573184e-02, -2.48458292e-02,  3.93013991e-02,\n",
       "          2.54795027e+00,  1.32555687e+00,  5.98515928e-01,\n",
       "          9.70621526e-01, -2.27853283e-02, -1.28132761e-01,\n",
       "         -2.85052247e-02,  6.45122564e-05,  1.74303102e+00,\n",
       "         -2.77434564e+00, -1.90019608e+00,  9.82298732e-01,\n",
       "         -4.93031181e-02, -1.41204000e-01, -1.79169700e-01,\n",
       "         -1.57867730e-01, -2.37236381e+00,  7.96889961e-01,\n",
       "          2.18729234e+00, -1.04562968e-01, -1.25580311e+00,\n",
       "         -3.10637802e-01],\n",
       "        [ 4.82025295e-02, -8.85876179e-01,  8.21997076e-02,\n",
       "          7.05829322e-01, -3.98370832e-01, -1.54278159e+00,\n",
       "          6.95701420e-01, -5.75115502e-01,  1.22097125e-02,\n",
       "          8.35269332e-01,  1.20622551e+00,  4.10821855e-01,\n",
       "         -1.09274840e+00,  1.60181773e+00,  1.98412132e+00,\n",
       "         -1.41049549e-01,  3.69716696e-02,  6.67807519e-01,\n",
       "          1.62250948e+00,  1.05419353e-01,  1.53557110e+00,\n",
       "          5.76772022e+00,  4.66077507e-01, -1.33508384e-01,\n",
       "         -8.40502903e-02, -4.82927114e-01,  1.56827235e+00,\n",
       "          2.96250129e+00,  2.95437646e+00,  2.34185719e+00,\n",
       "          3.86854887e-01, -1.43310472e-01,  4.99137193e-02,\n",
       "         -2.20639229e+00, -6.70855284e-01,  1.41628349e+00,\n",
       "         -2.31533217e+00, -1.12199426e+00,  5.99797070e-01,\n",
       "          5.60194105e-02,  8.04802850e-02, -6.53321564e-01,\n",
       "         -4.30025434e+00, -5.24625874e+00, -3.38421679e+00,\n",
       "         -1.30230200e+00, -2.41793424e-01, -3.35751660e-02,\n",
       "          5.15642297e-03,  3.67348790e-01, -1.34424543e+00,\n",
       "         -1.84119833e+00, -1.46876240e+00, -1.08440900e+00,\n",
       "         -7.99593031e-02,  6.36507124e-02,  1.77178066e-02,\n",
       "         -8.01893055e-01,  5.94190173e-02,  2.37496033e-01,\n",
       "          7.49575794e-01, -1.05228710e+00, -5.51074706e-02,\n",
       "         -2.17678845e-01]], dtype=float32))"
      ]
     },
     "execution_count": 21,
     "metadata": {},
     "output_type": "execute_result"
    }
   ],
   "source": [
    "# Get coefficient.\n",
    "softmax_torch.get_coeff()"
   ]
  },
  {
   "cell_type": "code",
   "execution_count": 22,
   "metadata": {},
   "outputs": [],
   "source": [
    "# Predicted probabilities for training data.\n",
    "p_train_ = softmax_torch.predict(X_train)"
   ]
  },
  {
   "cell_type": "code",
   "execution_count": 23,
   "metadata": {},
   "outputs": [
    {
     "data": {
      "text/plain": [
       "0.991833704528582"
      ]
     },
     "execution_count": 23,
     "metadata": {},
     "output_type": "execute_result"
    }
   ],
   "source": [
    "# Prediction accuracy for training data.\n",
    "accuracy(p_train_.argmax(dim=1).numpy(), y_train)"
   ]
  },
  {
   "cell_type": "code",
   "execution_count": 24,
   "metadata": {},
   "outputs": [],
   "source": [
    "# Predicted label correctness for test data.\n",
    "p_test_ = softmax_torch.predict(X_test)"
   ]
  },
  {
   "cell_type": "code",
   "execution_count": 25,
   "metadata": {},
   "outputs": [
    {
     "data": {
      "text/plain": [
       "0.9711111111111111"
      ]
     },
     "execution_count": 25,
     "metadata": {},
     "output_type": "execute_result"
    }
   ],
   "source": [
    "# Prediction accuracy for test data.\n",
    "accuracy(p_test_.argmax(dim=1).numpy(), y_test)"
   ]
  },
  {
   "cell_type": "markdown",
   "metadata": {},
   "source": [
    "## Benchmark with Sklearn's Softmax Regression"
   ]
  },
  {
   "cell_type": "code",
   "execution_count": 26,
   "metadata": {},
   "outputs": [
    {
     "data": {
      "text/plain": [
       "LogisticRegression(C=10000.0, max_iter=500, multi_class='multinomial')"
      ]
     },
     "execution_count": 26,
     "metadata": {},
     "output_type": "execute_result"
    }
   ],
   "source": [
    "# Fit sklearn's Softmax Regression.\n",
    "from sklearn.linear_model import LogisticRegression as LogisticRegressionSklearn\n",
    "\n",
    "softmax_sk = LogisticRegressionSklearn(C=1e4, multi_class='multinomial', max_iter=500)\n",
    "\n",
    "softmax_sk.fit(X_train, y_train.reshape(y_train.shape[0], ))"
   ]
  },
  {
   "cell_type": "code",
   "execution_count": 27,
   "metadata": {},
   "outputs": [
    {
     "data": {
      "text/plain": [
       "(array([  6.44249192, -11.78827616,   9.15377243,  -6.54285021,\n",
       "         20.57724269,  -1.87399062,  -1.49799704,   4.82668839,\n",
       "         -1.49597245, -17.80110895]),\n",
       " array([[ 0.00000000e+00,  1.82014829e-02, -1.02354488e-01,\n",
       "         -1.09174791e+00,  6.17472267e-01, -2.09580231e+00,\n",
       "         -2.86710590e+00, -8.13254984e-01,  1.12288811e-03,\n",
       "         -2.24451729e+00, -6.45541061e-01,  4.30635635e+00,\n",
       "          5.72461608e-01, -2.66108726e-01, -1.27924671e+00,\n",
       "         -1.00903806e+00, -3.67088590e-01, -3.81501727e-01,\n",
       "          2.15420862e+00,  4.97151804e-01, -9.82361490e+00,\n",
       "          3.66875990e+00,  8.00124111e-01, -3.42277611e-01,\n",
       "         -3.67357442e-01,  2.76777140e+00,  1.09800041e+00,\n",
       "         -3.53039252e+00, -1.07179082e+01, -5.15154238e-01,\n",
       "          2.34853409e+00,  4.09575676e-03,  0.00000000e+00,\n",
       "          4.89460610e+00,  1.73994209e+00, -3.21061662e+00,\n",
       "         -1.03196894e+01,  1.89809863e+00,  7.33390382e-01,\n",
       "          0.00000000e+00,  3.42605581e-03, -1.58390012e+00,\n",
       "          6.80660559e+00, -2.36367275e+00, -3.41742028e+00,\n",
       "          3.19544070e+00,  7.67686110e-01,  2.94825047e-03,\n",
       "          3.56450628e-03, -1.81750148e+00,  2.03362473e+00,\n",
       "         -5.87507444e-01,  4.11260078e+00,  4.65631525e-01,\n",
       "         -1.41578511e+00, -3.64135024e-01,  6.00163252e-04,\n",
       "          1.24362343e-01, -1.48364033e+00,  4.52972328e+00,\n",
       "         -8.14029331e-01, -7.56422165e-01, -9.07531402e-01,\n",
       "         -5.42481494e-01],\n",
       "        [ 0.00000000e+00,  1.70731545e+00, -1.41150627e+00,\n",
       "          6.28578194e+00, -1.36406471e+01,  3.67307338e+00,\n",
       "          4.91247801e+00,  9.42730008e-03, -2.38132949e-01,\n",
       "         -2.66988746e+00, -1.45775623e+01, -1.89713282e+00,\n",
       "          4.54858459e+00, -2.64912508e-02, -9.27939872e+00,\n",
       "          1.16782777e-02,  8.21889090e+00,  6.76745389e+00,\n",
       "          4.15873996e+00,  1.28467741e+01,  1.09324179e+01,\n",
       "         -4.31997587e+00, -1.29224820e+00,  5.98317137e-03,\n",
       "          2.37143185e-01, -2.15488318e-02,  1.25929537e+00,\n",
       "          5.59106210e+00,  1.12740644e+00,  2.60857925e+00,\n",
       "         -1.41420096e+00,  1.97381318e-03,  0.00000000e+00,\n",
       "         -2.24435892e+00,  3.63955780e+00, -6.95220560e+00,\n",
       "          7.58009697e+00,  4.92203001e+00, -2.23577968e+00,\n",
       "          0.00000000e+00,  2.34702610e-03,  1.32728958e+00,\n",
       "          2.17626733e+00,  4.44559161e+00,  3.22603311e+00,\n",
       "         -6.73618305e+00, -9.95283904e+00, -2.75283206e-01,\n",
       "         -4.69745021e-04, -3.69142359e+00, -2.53859639e+00,\n",
       "          5.00795184e+00,  6.17936879e+00, -2.56588454e+00,\n",
       "         -4.41333406e+00,  5.64316341e+00, -3.34947006e-03,\n",
       "         -8.82740563e-02, -1.88444188e+00, -4.36088731e+00,\n",
       "         -1.38575874e+00,  8.54999500e+00,  3.80952957e+00,\n",
       "          3.53703032e+00],\n",
       "        [ 0.00000000e+00,  1.00669420e+00, -1.26066283e+00,\n",
       "          1.08497871e+00, -1.42044922e+00,  1.85371794e+00,\n",
       "          7.48282906e-01, -1.03310519e-01, -3.44302399e+00,\n",
       "          5.31571972e+00,  1.76186033e+00, -4.05225948e+00,\n",
       "          6.51326994e+00, -8.31994142e-01,  1.97815233e+00,\n",
       "         -1.53739174e-01, -1.72100217e+00,  9.64666723e-01,\n",
       "         -3.80195457e+00, -6.69610515e+00,  5.19177916e+00,\n",
       "         -7.06070453e-01,  5.36344969e+00,  2.04406637e-03,\n",
       "          1.26346944e-03, -3.62385497e+00, -1.25671523e+01,\n",
       "         -8.91046774e+00, -7.40400274e+00, -1.49203251e+00,\n",
       "          3.17860209e+00,  8.08493131e-04,  0.00000000e+00,\n",
       "         -4.39236104e+00, -6.33204654e+00, -3.48451120e+00,\n",
       "          4.57868475e-02, -4.83935966e+00, -7.62945143e+00,\n",
       "          0.00000000e+00,  1.11716840e-03, -2.52288980e-01,\n",
       "          1.58108935e+00,  1.10932302e+01, -7.95984544e+00,\n",
       "         -6.69304188e+00, -3.52362138e+00,  2.83513819e-01,\n",
       "          1.57324606e-02,  1.72669790e+00, -1.81591351e-01,\n",
       "          9.57772399e+00,  4.89503556e+00,  7.46635198e+00,\n",
       "          4.52157969e+00,  1.28805569e+00,  4.08833014e-02,\n",
       "          1.01063009e+00,  4.72447848e+00,  1.21832222e+00,\n",
       "         -3.89274341e-01,  5.28618115e+00,  8.33082953e+00,\n",
       "          3.32122985e+00],\n",
       "        [ 0.00000000e+00,  3.48242346e+00, -3.03753136e+00,\n",
       "          1.80667704e+00,  1.45231547e+01, -1.14745034e-02,\n",
       "         -3.38711862e+00,  9.13443174e-02, -6.98717630e-03,\n",
       "          3.62362465e+00,  2.95299913e+00, -8.74215875e-01,\n",
       "          2.12003439e+00,  8.02273486e+00,  4.30949246e+00,\n",
       "         -8.71704908e-01, -4.84161193e-03, -2.86454352e+00,\n",
       "         -7.42545293e+00, -1.07836015e+01,  4.72753315e+00,\n",
       "         -4.31215725e+00,  4.62854521e+00,  3.01850786e-03,\n",
       "          5.90953434e-04, -3.95452352e+00, -7.50032531e+00,\n",
       "         -2.71541674e+00,  7.58961522e+00, -7.78221788e+00,\n",
       "         -1.00261311e+01,  9.67424690e-04,  0.00000000e+00,\n",
       "         -4.01353542e+00, -3.16041726e+00,  1.91133199e+00,\n",
       "          5.52509460e+00, -3.90287342e+00, -6.06336772e-01,\n",
       "          0.00000000e+00,  1.06825453e-03, -5.33260178e-01,\n",
       "         -8.72120813e+00, -1.25952196e+01,  2.97725871e+00,\n",
       "          6.46925121e+00,  8.19752478e+00, -2.80291414e-01,\n",
       "          6.27391643e-04, -1.44313516e+00, -2.54798268e-02,\n",
       "         -5.60885118e+00, -7.50348376e-01,  4.65175342e+00,\n",
       "          1.32286873e+01, -3.16044892e+00,  5.77174412e-04,\n",
       "          3.72555202e+00,  3.72674073e+00,  2.43158410e+00,\n",
       "          1.65861598e+00, -5.30053163e+00,  3.55390364e+00,\n",
       "         -4.05376536e+00],\n",
       "        [ 0.00000000e+00, -7.21267239e-01, -3.57558797e+00,\n",
       "         -1.09105036e+01, -7.72620421e+00, -9.40581132e+00,\n",
       "         -4.21804173e+00,  5.29353137e-01,  1.69705412e-03,\n",
       "         -7.49147615e-01, -3.79262830e+00, -3.38584516e+00,\n",
       "         -6.94360180e+00, -6.03857546e+00, -2.10871068e+00,\n",
       "         -1.09481850e+00, -2.90857093e+00,  3.15355531e+00,\n",
       "          2.86464091e+00, -4.28201135e-01,  1.50473520e+00,\n",
       "          1.34512886e+00, -1.27304855e+00,  2.85203771e-01,\n",
       "          5.18804307e+00, -1.57798747e-01,  5.95804417e+00,\n",
       "         -3.25460642e-01,  6.43425929e-02, -1.56258677e+00,\n",
       "          1.01972647e+01,  1.05980972e+00,  0.00000000e+00,\n",
       "          5.31946946e+00,  2.76505590e+00, -3.64214644e+00,\n",
       "          4.66160664e+00,  5.77122880e+00,  7.25353815e+00,\n",
       "          0.00000000e+00, -1.69382134e-02,  1.17912906e+01,\n",
       "          2.48577028e-02,  1.05038582e+01,  7.70020777e+00,\n",
       "          1.05054838e-01,  2.54946392e+00, -9.02941664e-03,\n",
       "         -8.76475474e-03,  4.03614902e+00, -2.09544772e+00,\n",
       "          1.41262269e+00,  2.32984036e+00, -6.78193222e+00,\n",
       "         -5.38393689e+00, -4.44059819e-02, -7.72502551e-05,\n",
       "         -1.82461067e+00,  8.68264864e-02, -5.86281453e+00,\n",
       "         -3.32323461e+00, -6.36707017e+00, -4.89622230e-01,\n",
       "         -7.59714858e-03],\n",
       "        [ 0.00000000e+00,  5.02838029e+00,  1.01242698e+01,\n",
       "         -1.28021002e+00,  1.00871159e+00,  1.11637154e+01,\n",
       "          7.13447872e+00, -1.41620148e+00, -1.12704832e-02,\n",
       "         -1.89540777e+00,  4.67452257e+00,  4.42972307e+00,\n",
       "          1.70742571e-01, -6.77864751e+00,  5.53187186e-01,\n",
       "          1.04536777e-01,  8.30054685e-04,  2.27302649e-01,\n",
       "          1.66540238e+00,  1.19471947e+00, -1.09477536e+01,\n",
       "         -5.54405793e+00, -1.33445945e+01, -1.31771707e-02,\n",
       "          2.31079694e-02, -6.87079975e-01,  7.78621491e+00,\n",
       "         -3.61919616e+00,  4.69442680e+00, -4.51766296e+00,\n",
       "         -1.11286159e+01,  1.57770722e-03,  0.00000000e+00,\n",
       "          2.80608749e+00, -1.14606636e+00, -3.76285191e+00,\n",
       "         -9.60080692e+00, -1.98636304e-01,  8.45316575e+00,\n",
       "          0.00000000e+00,  1.48607338e-03, -6.80226828e+00,\n",
       "         -5.74845727e+00, -5.03509050e+00, -9.88213749e-01,\n",
       "          6.24412152e+00, -3.98256587e-01,  2.66405535e-03,\n",
       "          6.63535285e-04, -4.67265196e+00, -2.99561777e+00,\n",
       "         -1.35701569e+00,  9.79594169e-01,  2.53952621e+00,\n",
       "         -1.20648030e+01,  8.68555499e-03,  4.87435067e-04,\n",
       "          3.11532644e+00,  8.06437977e+00,  7.33265504e+00,\n",
       "          3.09802399e+00,  2.32808437e+00, -1.07439631e+01,\n",
       "          7.73971960e-03],\n",
       "        [ 0.00000000e+00, -1.89397628e-01, -2.89976460e+00,\n",
       "         -2.87526898e+00, -2.35672199e+00, -3.37370416e+00,\n",
       "         -2.07431032e+00,  4.51580942e-03, -1.07502318e-01,\n",
       "         -2.27029991e+00, -2.69587583e+00, -7.01571030e-01,\n",
       "         -6.04254262e+00, -1.82428166e-01,  2.90321336e-01,\n",
       "          4.91986763e-03, -9.10744696e-01,  3.05238045e-02,\n",
       "          2.65752538e+00,  4.29954927e-01, -8.02467697e+00,\n",
       "         -1.07641146e+01, -2.67601105e+00,  4.14397077e-03,\n",
       "         -8.56062588e-01,  4.45656900e+00,  2.47051618e+00,\n",
       "          4.46838768e+00, -2.21938906e+00,  1.43784278e+00,\n",
       "         -2.87936617e+00,  2.74142182e-03,  0.00000000e+00,\n",
       "          3.23079677e+00,  5.34330163e+00,  5.17128342e+00,\n",
       "         -2.02039715e-01, -1.57535861e+00,  3.99077195e+00,\n",
       "          0.00000000e+00,  3.10737906e-03, -2.24138281e+00,\n",
       "          1.24702804e+01,  3.72868701e+00,  5.49278282e+00,\n",
       "          8.71612958e-01,  6.52022919e+00,  3.05537446e-01,\n",
       "          1.99804436e-03,  1.72876641e-01,  5.80632402e+00,\n",
       "          1.56070038e+00, -1.76711522e+00,  5.28913647e+00,\n",
       "          1.38615713e+00, -3.77839058e+00,  4.62256212e-04,\n",
       "         -2.56215431e-01, -4.49318782e+00, -4.02597135e+00,\n",
       "         -8.42709775e-01,  2.44620760e+00,  1.17881452e+00,\n",
       "         -1.28985994e+00],\n",
       "        [ 0.00000000e+00, -1.80222013e+00,  6.60671893e-01,\n",
       "          2.94470202e+00, -6.97516090e-01,  3.40695310e+00,\n",
       "          3.38275640e+00,  3.26828361e+00,  1.62953463e-03,\n",
       "         -1.58082043e+00,  2.22080824e+00,  2.55591109e+00,\n",
       "          6.82462307e+00, -4.81378761e-01, -2.38333370e+00,\n",
       "          2.56300154e+00,  8.99690206e-04, -6.87978545e+00,\n",
       "         -9.00954317e+00, -2.55967251e+00,  3.66860621e+00,\n",
       "          4.85964726e-01,  2.90522185e+00,  7.17007100e-02,\n",
       "          8.91043875e-04, -2.03099560e+00, -1.13062941e-01,\n",
       "         -8.61522923e+00,  6.78860479e-02,  5.41563645e+00,\n",
       "          9.82922753e+00, -9.84518441e-01,  0.00000000e+00,\n",
       "          5.01413087e+00, -7.59973490e-01, -7.42165965e-03,\n",
       "          4.55389632e+00,  6.20654229e+00,  5.11232769e+00,\n",
       "          0.00000000e+00,  1.29214996e-03, -1.86236387e+00,\n",
       "         -2.67923922e+00,  4.89844968e+00,  2.23164273e+00,\n",
       "          9.26252494e-01, -1.62249296e+00,  1.86725395e-03,\n",
       "          6.54317929e-04, -3.67935010e-01, -8.87609016e-01,\n",
       "          2.89736066e+00, -7.79716026e+00, -7.57959782e+00,\n",
       "         -2.82474041e+00,  6.99162080e-03,  7.30371204e-04,\n",
       "         -7.75966309e-01,  1.78787659e+00, -2.03682341e+00,\n",
       "         -8.20547256e+00, -6.11455345e+00, -5.13334858e-01,\n",
       "         -1.84579923e-02],\n",
       "        [ 0.00000000e+00, -8.71821566e-01,  3.66437827e+00,\n",
       "         -3.94544271e+00,  2.41871533e+00, -6.32417356e-03,\n",
       "         -8.27691668e+00, -2.28278997e-02,  3.79978390e+00,\n",
       "         -4.66185054e+00,  3.94087488e+00, -4.90697231e-01,\n",
       "         -4.92655682e+00,  3.68305254e+00,  1.58701514e+00,\n",
       "         -2.74064910e-02, -2.30999654e+00,  3.33420042e+00,\n",
       "          3.62549812e+00,  1.40533922e+00, -2.80744733e+00,\n",
       "          4.17140822e+00,  2.27793755e+00,  4.88477497e-03,\n",
       "         -4.22842403e+00, -1.20888459e+00, -4.01133426e+00,\n",
       "          9.66475816e+00,  1.23739769e+00, -1.78817916e-01,\n",
       "         -2.88515346e+00,  2.33048345e-03,  0.00000000e+00,\n",
       "         -2.86870505e+00,  9.56685468e-01,  8.96291788e+00,\n",
       "         -3.24237117e-01, -7.66976827e+00, -1.23990211e+01,\n",
       "          0.00000000e+00,  1.89560883e-03, -8.37665484e-01,\n",
       "          4.19117358e+00,  3.81249284e+00,  2.63441120e+00,\n",
       "          1.40089683e+00,  5.25311887e+00, -3.07330571e-02,\n",
       "         -1.46589649e-02,  3.45328041e+00,  4.67524339e+00,\n",
       "         -9.58603633e+00, -5.77156010e+00,  2.98601709e+00,\n",
       "          7.64096586e+00, -1.00318039e+00, -4.08303437e-02,\n",
       "          1.54449653e+00, -1.21789915e+01,  6.51622260e-01,\n",
       "          6.30827002e+00, -3.14243103e+00, -4.93093789e+00,\n",
       "         -2.75127425e-01],\n",
       "        [ 0.00000000e+00, -7.65830832e+00, -2.16191248e+00,\n",
       "          7.98103348e+00,  7.27348474e+00, -5.20434338e+00,\n",
       "          4.64549720e+00, -1.54732930e+00,  2.68353691e-03,\n",
       "          7.13258665e+00,  6.16054239e+00,  1.09731090e-01,\n",
       "         -2.83701493e+00,  2.89983662e+00,  6.33252135e+00,\n",
       "          4.72570673e-01,  1.62388726e-03, -4.35187210e+00,\n",
       "          3.11093531e+00,  4.09364079e+00,  5.57842127e+00,\n",
       "          1.59751144e+01,  2.61062393e+00, -2.15241907e-02,\n",
       "          8.04369181e-04,  4.46034582e+00,  5.61980383e+00,\n",
       "          7.99195510e+00,  5.56022519e+00,  6.58641379e+00,\n",
       "          2.77983927e+00, -8.97863747e-02,  0.00000000e+00,\n",
       "         -7.74613026e+00, -3.04603923e+00,  5.01422014e+00,\n",
       "         -1.91970824e+00, -6.11903472e-01, -2.67260497e+00,\n",
       "          0.00000000e+00,  1.19849729e-03,  9.94549525e-01,\n",
       "         -1.01013693e+01, -1.84883266e+01, -1.18968569e+01,\n",
       "         -5.78340561e+00, -7.79081290e+00, -1.19373130e-03,\n",
       "          6.53208521e-04,  2.60364323e+00, -3.79085008e+00,\n",
       "         -3.31694893e+00, -2.41025570e+00, -6.47100211e+00,\n",
       "         -6.74790476e-01,  1.40366462e+00,  5.16362478e-04,\n",
       "         -6.57530095e+00,  1.64995944e+00,  1.22589693e-01,\n",
       "          3.89556936e+00,  3.07054033e+00,  7.12312242e-01,\n",
       "         -6.78710531e-01]]))"
      ]
     },
     "execution_count": 27,
     "metadata": {},
     "output_type": "execute_result"
    }
   ],
   "source": [
    "# Get coefficients.\n",
    "softmax_sk.intercept_, softmax_sk.coef_"
   ]
  },
  {
   "cell_type": "code",
   "execution_count": 28,
   "metadata": {},
   "outputs": [
    {
     "data": {
      "text/plain": [
       "array([4., 9., 1.], dtype=float32)"
      ]
     },
     "execution_count": 28,
     "metadata": {},
     "output_type": "execute_result"
    }
   ],
   "source": [
    "# Predicted labels for training data.\n",
    "y_train_ = softmax_sk.predict(X_train)\n",
    "y_train_[:3]"
   ]
  },
  {
   "cell_type": "code",
   "execution_count": 29,
   "metadata": {},
   "outputs": [
    {
     "data": {
      "text/plain": [
       "1.0"
      ]
     },
     "execution_count": 29,
     "metadata": {},
     "output_type": "execute_result"
    }
   ],
   "source": [
    "# Prediction accuracy for training data.\n",
    "accuracy(y_train_, y_train)"
   ]
  },
  {
   "cell_type": "code",
   "execution_count": 30,
   "metadata": {},
   "outputs": [],
   "source": [
    "# Predicted label correctness for test data.\n",
    "y_test_ = softmax_sk.predict(X_test)"
   ]
  },
  {
   "cell_type": "code",
   "execution_count": 31,
   "metadata": {},
   "outputs": [
    {
     "data": {
      "text/plain": [
       "0.9622222222222222"
      ]
     },
     "execution_count": 31,
     "metadata": {},
     "output_type": "execute_result"
    }
   ],
   "source": [
    "# # Prediction accuracy for test data.\n",
    "accuracy(y_test_, y_test)"
   ]
  },
  {
   "cell_type": "code",
   "execution_count": null,
   "metadata": {},
   "outputs": [],
   "source": []
  }
 ],
 "metadata": {
  "kernelspec": {
   "display_name": "Python 3",
   "language": "python",
   "name": "python3"
  },
  "language_info": {
   "codemirror_mode": {
    "name": "ipython",
    "version": 3
   },
   "file_extension": ".py",
   "mimetype": "text/x-python",
   "name": "python",
   "nbconvert_exporter": "python",
   "pygments_lexer": "ipython3",
   "version": "3.6.9"
  }
 },
 "nbformat": 4,
 "nbformat_minor": 2
}
